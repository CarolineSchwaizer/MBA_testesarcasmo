{
  "cells": [
    {
      "cell_type": "markdown",
      "metadata": {
        "id": "r_d2STdwKUJF"
      },
      "source": [
        "# FGV:  MBA - Business Analytics e Big Data\n",
        "\n",
        " "
      ]
    },
    {
      "cell_type": "code",
      "execution_count": 1,
      "metadata": {
        "colab": {
          "base_uri": "https://localhost:8080/",
          "height": 238
        },
        "id": "skyvLJHeHFdr",
        "outputId": "8f48abe9-2740-460b-b79b-e5e009dd281b"
      },
      "outputs": [
        {
          "name": "stdout",
          "output_type": "stream",
          "text": [
            "Dataframe original:\n",
            "-- -- -- -- -- -- -- -- -- -- -- -- -- -- -- \n"
          ]
        },
        {
          "data": {
            "text/html": [
              "<div>\n",
              "<style scoped>\n",
              "    .dataframe tbody tr th:only-of-type {\n",
              "        vertical-align: middle;\n",
              "    }\n",
              "\n",
              "    .dataframe tbody tr th {\n",
              "        vertical-align: top;\n",
              "    }\n",
              "\n",
              "    .dataframe thead th {\n",
              "        text-align: right;\n",
              "    }\n",
              "</style>\n",
              "<table border=\"1\" class=\"dataframe\">\n",
              "  <thead>\n",
              "    <tr style=\"text-align: right;\">\n",
              "      <th></th>\n",
              "      <th>is_sarcastic</th>\n",
              "      <th>headline</th>\n",
              "      <th>article_link</th>\n",
              "    </tr>\n",
              "  </thead>\n",
              "  <tbody>\n",
              "    <tr>\n",
              "      <th>0</th>\n",
              "      <td>1</td>\n",
              "      <td>thirtysomething scientists unveil doomsday clo...</td>\n",
              "      <td>https://www.theonion.com/thirtysomething-scien...</td>\n",
              "    </tr>\n",
              "    <tr>\n",
              "      <th>1</th>\n",
              "      <td>0</td>\n",
              "      <td>dem rep. totally nails why congress is falling...</td>\n",
              "      <td>https://www.huffingtonpost.com/entry/donna-edw...</td>\n",
              "    </tr>\n",
              "    <tr>\n",
              "      <th>2</th>\n",
              "      <td>0</td>\n",
              "      <td>eat your veggies: 9 deliciously different recipes</td>\n",
              "      <td>https://www.huffingtonpost.com/entry/eat-your-...</td>\n",
              "    </tr>\n",
              "    <tr>\n",
              "      <th>3</th>\n",
              "      <td>1</td>\n",
              "      <td>inclement weather prevents liar from getting t...</td>\n",
              "      <td>https://local.theonion.com/inclement-weather-p...</td>\n",
              "    </tr>\n",
              "    <tr>\n",
              "      <th>4</th>\n",
              "      <td>1</td>\n",
              "      <td>mother comes pretty close to using word 'strea...</td>\n",
              "      <td>https://www.theonion.com/mother-comes-pretty-c...</td>\n",
              "    </tr>\n",
              "  </tbody>\n",
              "</table>\n",
              "</div>"
            ],
            "text/plain": [
              "   is_sarcastic  ...                                       article_link\n",
              "0             1  ...  https://www.theonion.com/thirtysomething-scien...\n",
              "1             0  ...  https://www.huffingtonpost.com/entry/donna-edw...\n",
              "2             0  ...  https://www.huffingtonpost.com/entry/eat-your-...\n",
              "3             1  ...  https://local.theonion.com/inclement-weather-p...\n",
              "4             1  ...  https://www.theonion.com/mother-comes-pretty-c...\n",
              "\n",
              "[5 rows x 3 columns]"
            ]
          },
          "execution_count": 1,
          "metadata": {},
          "output_type": "execute_result"
        }
      ],
      "source": [
        "# Importa libs básicas e carrega arquivo do github. \n",
        "import pandas as pd\n",
        "import re\n",
        "\n",
        "df_news = pd.read_json('https://raw.githubusercontent.com/wunderbarpeter/mba_data/main/Sarcasm_Headlines_Dataset_v2.json', lines = True)\n",
        "\n",
        "print(\"Dataframe original:\")\n",
        "print(\"-- -- -- \"*5)\n",
        "df_news.head(5)"
      ]
    },
    {
      "cell_type": "markdown",
      "metadata": {
        "id": "_ts_AIGOkc_M"
      },
      "source": [
        "Como se pode esperar, a classificação inicial e supervisionada das notícias entre sarcásticas e não-sarcásticas está relacionada às suas fontes. As manchetes do HuffPost são consideradas não-sarcásticas; as do The Onion sarcásticas. Não existem exceções. \n",
        "\n",
        "A distribuição abaixo demonstra o balanço entre as duas classes de manchetes na base de dados. "
      ]
    },
    {
      "cell_type": "code",
      "execution_count": 2,
      "metadata": {
        "colab": {
          "base_uri": "https://localhost:8080/",
          "height": 617
        },
        "id": "iS3zofU1HS6u",
        "outputId": "d7ce2100-cf0b-48f1-c5e5-336905ef8831"
      },
      "outputs": [
        {
          "data": {
            "text/html": [
              "<html>\n",
              "<head><meta charset=\"utf-8\" /></head>\n",
              "<body>\n",
              "    <div>\n",
              "            <script src=\"https://cdnjs.cloudflare.com/ajax/libs/mathjax/2.7.5/MathJax.js?config=TeX-AMS-MML_SVG\"></script><script type=\"text/javascript\">if (window.MathJax) {MathJax.Hub.Config({SVG: {font: \"STIX-Web\"}});}</script>\n",
              "                <script type=\"text/javascript\">window.PlotlyConfig = {MathJaxConfig: 'local'};</script>\n",
              "        <script src=\"https://cdn.plot.ly/plotly-latest.min.js\"></script>    \n",
              "            <div id=\"0ef7031e-7ec7-42f9-bc73-f78ab03131ac\" class=\"plotly-graph-div\" style=\"height:600px; width:800px;\"></div>\n",
              "            <script type=\"text/javascript\">\n",
              "                \n",
              "                    window.PLOTLYENV=window.PLOTLYENV || {};\n",
              "                    \n",
              "                if (document.getElementById(\"0ef7031e-7ec7-42f9-bc73-f78ab03131ac\")) {\n",
              "                    Plotly.newPlot(\n",
              "                        '0ef7031e-7ec7-42f9-bc73-f78ab03131ac',\n",
              "                        [{\"domain\": {\"x\": [0.0, 1.0], \"y\": [0.0, 1.0]}, \"hoverlabel\": {\"namelength\": 0}, \"hovertemplate\": \"label=%{label}<br>value=%{value}\", \"labels\": [\"N\\u00e3o Sarc\\u00e1sticas\", \"Sarc\\u00e1sticas\"], \"legendgroup\": \"\", \"name\": \"\", \"showlegend\": true, \"type\": \"pie\", \"values\": [52.360320067088296, 47.6396799329117]}],\n",
              "                        {\"height\": 600, \"legend\": {\"tracegroupgap\": 0}, \"paper_bgcolor\": \"mintcream\", \"template\": {\"data\": {\"bar\": [{\"error_x\": {\"color\": \"#2a3f5f\"}, \"error_y\": {\"color\": \"#2a3f5f\"}, \"marker\": {\"line\": {\"color\": \"#E5ECF6\", \"width\": 0.5}}, \"type\": \"bar\"}], \"barpolar\": [{\"marker\": {\"line\": {\"color\": \"#E5ECF6\", \"width\": 0.5}}, \"type\": \"barpolar\"}], \"carpet\": [{\"aaxis\": {\"endlinecolor\": \"#2a3f5f\", \"gridcolor\": \"white\", \"linecolor\": \"white\", \"minorgridcolor\": \"white\", \"startlinecolor\": \"#2a3f5f\"}, \"baxis\": {\"endlinecolor\": \"#2a3f5f\", \"gridcolor\": \"white\", \"linecolor\": \"white\", \"minorgridcolor\": \"white\", \"startlinecolor\": \"#2a3f5f\"}, \"type\": \"carpet\"}], \"choropleth\": [{\"colorbar\": {\"outlinewidth\": 0, \"ticks\": \"\"}, \"type\": \"choropleth\"}], \"contour\": [{\"colorbar\": {\"outlinewidth\": 0, \"ticks\": \"\"}, \"colorscale\": [[0.0, \"#0d0887\"], [0.1111111111111111, \"#46039f\"], [0.2222222222222222, \"#7201a8\"], [0.3333333333333333, \"#9c179e\"], [0.4444444444444444, \"#bd3786\"], [0.5555555555555556, \"#d8576b\"], [0.6666666666666666, \"#ed7953\"], [0.7777777777777778, \"#fb9f3a\"], [0.8888888888888888, \"#fdca26\"], [1.0, \"#f0f921\"]], \"type\": \"contour\"}], \"contourcarpet\": [{\"colorbar\": {\"outlinewidth\": 0, \"ticks\": \"\"}, \"type\": \"contourcarpet\"}], \"heatmap\": [{\"colorbar\": {\"outlinewidth\": 0, \"ticks\": \"\"}, \"colorscale\": [[0.0, \"#0d0887\"], [0.1111111111111111, \"#46039f\"], [0.2222222222222222, \"#7201a8\"], [0.3333333333333333, \"#9c179e\"], [0.4444444444444444, \"#bd3786\"], [0.5555555555555556, \"#d8576b\"], [0.6666666666666666, \"#ed7953\"], [0.7777777777777778, \"#fb9f3a\"], [0.8888888888888888, \"#fdca26\"], [1.0, \"#f0f921\"]], \"type\": \"heatmap\"}], \"heatmapgl\": [{\"colorbar\": {\"outlinewidth\": 0, \"ticks\": \"\"}, \"colorscale\": [[0.0, \"#0d0887\"], [0.1111111111111111, \"#46039f\"], [0.2222222222222222, \"#7201a8\"], [0.3333333333333333, \"#9c179e\"], [0.4444444444444444, \"#bd3786\"], [0.5555555555555556, \"#d8576b\"], [0.6666666666666666, \"#ed7953\"], [0.7777777777777778, \"#fb9f3a\"], [0.8888888888888888, \"#fdca26\"], [1.0, \"#f0f921\"]], \"type\": \"heatmapgl\"}], \"histogram\": [{\"marker\": {\"colorbar\": {\"outlinewidth\": 0, \"ticks\": \"\"}}, \"type\": \"histogram\"}], \"histogram2d\": [{\"colorbar\": {\"outlinewidth\": 0, \"ticks\": \"\"}, \"colorscale\": [[0.0, \"#0d0887\"], [0.1111111111111111, \"#46039f\"], [0.2222222222222222, \"#7201a8\"], [0.3333333333333333, \"#9c179e\"], [0.4444444444444444, \"#bd3786\"], [0.5555555555555556, \"#d8576b\"], [0.6666666666666666, \"#ed7953\"], [0.7777777777777778, \"#fb9f3a\"], [0.8888888888888888, \"#fdca26\"], [1.0, \"#f0f921\"]], \"type\": \"histogram2d\"}], \"histogram2dcontour\": [{\"colorbar\": {\"outlinewidth\": 0, \"ticks\": \"\"}, \"colorscale\": [[0.0, \"#0d0887\"], [0.1111111111111111, \"#46039f\"], [0.2222222222222222, \"#7201a8\"], [0.3333333333333333, \"#9c179e\"], [0.4444444444444444, \"#bd3786\"], [0.5555555555555556, \"#d8576b\"], [0.6666666666666666, \"#ed7953\"], [0.7777777777777778, \"#fb9f3a\"], [0.8888888888888888, \"#fdca26\"], [1.0, \"#f0f921\"]], \"type\": \"histogram2dcontour\"}], \"mesh3d\": [{\"colorbar\": {\"outlinewidth\": 0, \"ticks\": \"\"}, \"type\": \"mesh3d\"}], \"parcoords\": [{\"line\": {\"colorbar\": {\"outlinewidth\": 0, \"ticks\": \"\"}}, \"type\": \"parcoords\"}], \"pie\": [{\"automargin\": true, \"type\": \"pie\"}], \"scatter\": [{\"marker\": {\"colorbar\": {\"outlinewidth\": 0, \"ticks\": \"\"}}, \"type\": \"scatter\"}], \"scatter3d\": [{\"line\": {\"colorbar\": {\"outlinewidth\": 0, \"ticks\": \"\"}}, \"marker\": {\"colorbar\": {\"outlinewidth\": 0, \"ticks\": \"\"}}, \"type\": \"scatter3d\"}], \"scattercarpet\": [{\"marker\": {\"colorbar\": {\"outlinewidth\": 0, \"ticks\": \"\"}}, \"type\": \"scattercarpet\"}], \"scattergeo\": [{\"marker\": {\"colorbar\": {\"outlinewidth\": 0, \"ticks\": \"\"}}, \"type\": \"scattergeo\"}], \"scattergl\": [{\"marker\": {\"colorbar\": {\"outlinewidth\": 0, \"ticks\": \"\"}}, \"type\": \"scattergl\"}], \"scattermapbox\": [{\"marker\": {\"colorbar\": {\"outlinewidth\": 0, \"ticks\": \"\"}}, \"type\": \"scattermapbox\"}], \"scatterpolar\": [{\"marker\": {\"colorbar\": {\"outlinewidth\": 0, \"ticks\": \"\"}}, \"type\": \"scatterpolar\"}], \"scatterpolargl\": [{\"marker\": {\"colorbar\": {\"outlinewidth\": 0, \"ticks\": \"\"}}, \"type\": \"scatterpolargl\"}], \"scatterternary\": [{\"marker\": {\"colorbar\": {\"outlinewidth\": 0, \"ticks\": \"\"}}, \"type\": \"scatterternary\"}], \"surface\": [{\"colorbar\": {\"outlinewidth\": 0, \"ticks\": \"\"}, \"colorscale\": [[0.0, \"#0d0887\"], [0.1111111111111111, \"#46039f\"], [0.2222222222222222, \"#7201a8\"], [0.3333333333333333, \"#9c179e\"], [0.4444444444444444, \"#bd3786\"], [0.5555555555555556, \"#d8576b\"], [0.6666666666666666, \"#ed7953\"], [0.7777777777777778, \"#fb9f3a\"], [0.8888888888888888, \"#fdca26\"], [1.0, \"#f0f921\"]], \"type\": \"surface\"}], \"table\": [{\"cells\": {\"fill\": {\"color\": \"#EBF0F8\"}, \"line\": {\"color\": \"white\"}}, \"header\": {\"fill\": {\"color\": \"#C8D4E3\"}, \"line\": {\"color\": \"white\"}}, \"type\": \"table\"}]}, \"layout\": {\"annotationdefaults\": {\"arrowcolor\": \"#2a3f5f\", \"arrowhead\": 0, \"arrowwidth\": 1}, \"coloraxis\": {\"colorbar\": {\"outlinewidth\": 0, \"ticks\": \"\"}}, \"colorscale\": {\"diverging\": [[0, \"#8e0152\"], [0.1, \"#c51b7d\"], [0.2, \"#de77ae\"], [0.3, \"#f1b6da\"], [0.4, \"#fde0ef\"], [0.5, \"#f7f7f7\"], [0.6, \"#e6f5d0\"], [0.7, \"#b8e186\"], [0.8, \"#7fbc41\"], [0.9, \"#4d9221\"], [1, \"#276419\"]], \"sequential\": [[0.0, \"#0d0887\"], [0.1111111111111111, \"#46039f\"], [0.2222222222222222, \"#7201a8\"], [0.3333333333333333, \"#9c179e\"], [0.4444444444444444, \"#bd3786\"], [0.5555555555555556, \"#d8576b\"], [0.6666666666666666, \"#ed7953\"], [0.7777777777777778, \"#fb9f3a\"], [0.8888888888888888, \"#fdca26\"], [1.0, \"#f0f921\"]], \"sequentialminus\": [[0.0, \"#0d0887\"], [0.1111111111111111, \"#46039f\"], [0.2222222222222222, \"#7201a8\"], [0.3333333333333333, \"#9c179e\"], [0.4444444444444444, \"#bd3786\"], [0.5555555555555556, \"#d8576b\"], [0.6666666666666666, \"#ed7953\"], [0.7777777777777778, \"#fb9f3a\"], [0.8888888888888888, \"#fdca26\"], [1.0, \"#f0f921\"]]}, \"colorway\": [\"#636efa\", \"#EF553B\", \"#00cc96\", \"#ab63fa\", \"#FFA15A\", \"#19d3f3\", \"#FF6692\", \"#B6E880\", \"#FF97FF\", \"#FECB52\"], \"font\": {\"color\": \"#2a3f5f\"}, \"geo\": {\"bgcolor\": \"white\", \"lakecolor\": \"white\", \"landcolor\": \"#E5ECF6\", \"showlakes\": true, \"showland\": true, \"subunitcolor\": \"white\"}, \"hoverlabel\": {\"align\": \"left\"}, \"hovermode\": \"closest\", \"mapbox\": {\"style\": \"light\"}, \"paper_bgcolor\": \"white\", \"plot_bgcolor\": \"#E5ECF6\", \"polar\": {\"angularaxis\": {\"gridcolor\": \"white\", \"linecolor\": \"white\", \"ticks\": \"\"}, \"bgcolor\": \"#E5ECF6\", \"radialaxis\": {\"gridcolor\": \"white\", \"linecolor\": \"white\", \"ticks\": \"\"}}, \"scene\": {\"xaxis\": {\"backgroundcolor\": \"#E5ECF6\", \"gridcolor\": \"white\", \"gridwidth\": 2, \"linecolor\": \"white\", \"showbackground\": true, \"ticks\": \"\", \"zerolinecolor\": \"white\"}, \"yaxis\": {\"backgroundcolor\": \"#E5ECF6\", \"gridcolor\": \"white\", \"gridwidth\": 2, \"linecolor\": \"white\", \"showbackground\": true, \"ticks\": \"\", \"zerolinecolor\": \"white\"}, \"zaxis\": {\"backgroundcolor\": \"#E5ECF6\", \"gridcolor\": \"white\", \"gridwidth\": 2, \"linecolor\": \"white\", \"showbackground\": true, \"ticks\": \"\", \"zerolinecolor\": \"white\"}}, \"shapedefaults\": {\"line\": {\"color\": \"#2a3f5f\"}}, \"ternary\": {\"aaxis\": {\"gridcolor\": \"white\", \"linecolor\": \"white\", \"ticks\": \"\"}, \"baxis\": {\"gridcolor\": \"white\", \"linecolor\": \"white\", \"ticks\": \"\"}, \"bgcolor\": \"#E5ECF6\", \"caxis\": {\"gridcolor\": \"white\", \"linecolor\": \"white\", \"ticks\": \"\"}}, \"title\": {\"x\": 0.05}, \"xaxis\": {\"automargin\": true, \"gridcolor\": \"white\", \"linecolor\": \"white\", \"ticks\": \"\", \"title\": {\"standoff\": 15}, \"zerolinecolor\": \"white\", \"zerolinewidth\": 2}, \"yaxis\": {\"automargin\": true, \"gridcolor\": \"white\", \"linecolor\": \"white\", \"ticks\": \"\", \"title\": {\"standoff\": 15}, \"zerolinecolor\": \"white\", \"zerolinewidth\": 2}}}, \"title\": {\"text\": \"Distribui\\u00e7\\u00e3o das Manchetes\", \"x\": 0.45}, \"width\": 800},\n",
              "                        {\"responsive\": true}\n",
              "                    ).then(function(){\n",
              "                            \n",
              "var gd = document.getElementById('0ef7031e-7ec7-42f9-bc73-f78ab03131ac');\n",
              "var x = new MutationObserver(function (mutations, observer) {{\n",
              "        var display = window.getComputedStyle(gd).display;\n",
              "        if (!display || display === 'none') {{\n",
              "            console.log([gd, 'removed!']);\n",
              "            Plotly.purge(gd);\n",
              "            observer.disconnect();\n",
              "        }}\n",
              "}});\n",
              "\n",
              "// Listen for the removal of the full notebook cells\n",
              "var notebookContainer = gd.closest('#notebook-container');\n",
              "if (notebookContainer) {{\n",
              "    x.observe(notebookContainer, {childList: true});\n",
              "}}\n",
              "\n",
              "// Listen for the clearing of the current output cell\n",
              "var outputEl = gd.closest('.output');\n",
              "if (outputEl) {{\n",
              "    x.observe(outputEl, {childList: true});\n",
              "}}\n",
              "\n",
              "                        })\n",
              "                };\n",
              "                \n",
              "            </script>\n",
              "        </div>\n",
              "</body>\n",
              "</html>"
            ]
          },
          "metadata": {},
          "output_type": "display_data"
        }
      ],
      "source": [
        "# Mostra frequencias básicas:\n",
        "import numpy as np\n",
        "import plotly.express as px\n",
        "import plotly.graph_objects as go\n",
        "\n",
        "tallies = df_news['is_sarcastic'].value_counts()\n",
        "label = ['Não Sarcásticas', 'Sarcásticas']\n",
        "rates = (np.array((tallies/tallies.sum())*100))\n",
        "\n",
        "px.pie(tallies, label, rates, title=\"Distribuição das Manchetes\").\\\n",
        "        update_layout(title={'x': 0.45}, \n",
        "                      paper_bgcolor='mintcream',\n",
        "                      width=800,\n",
        "                      height=600)"
      ]
    },
    {
      "cell_type": "markdown",
      "metadata": {
        "id": "8zMIKnadl_l0"
      },
      "source": [
        "# Limpeza e tratamento de dados"
      ]
    },
    {
      "cell_type": "markdown",
      "metadata": {
        "id": "Sl_0UDkRe8ey"
      },
      "source": [
        "A limpeza e preparação dos dados comportou três etapas:\n",
        "*   A remoção de caracteres especiais e pontuações, irrelevantes ao processamento de texto. \n",
        "*   A limpeza das \"stopwords\", como artigos, preposições, conjunções e pronomes.\n",
        "*   O processamento do texto por \"Stemming\" e \"Lemmatization\"\n",
        "\n",
        "\n",
        "## Tratamento Inicial\n",
        "A limpeza básica foi realizada com expressões regulares e constantes de pontuação do Python `string.punctuation`. Em conjunto, utilizamos os dicionários da biblioteca `nltk` para tratar as `stopwords` e remover das manchetes. \n",
        "O resultado é uma nova coluna no dataframe `df_news` onde podemos comparar a manchete original `'headline'` com a limpa `'headline_clean'`.\n"
      ]
    },
    {
      "cell_type": "code",
      "execution_count": 3,
      "metadata": {
        "colab": {
          "base_uri": "https://localhost:8080/",
          "height": 158
        },
        "id": "9Wpl-scCIVa3",
        "outputId": "94c1709d-4bd2-4ef9-f059-57dcaa3ac01d"
      },
      "outputs": [
        {
          "name": "stdout",
          "output_type": "stream",
          "text": [
            "Verifica nulos\n",
            "-- -- ---- -- ---- -- ---- -- --\n"
          ]
        },
        {
          "data": {
            "text/plain": [
              "None"
            ]
          },
          "metadata": {},
          "output_type": "display_data"
        },
        {
          "data": {
            "text/plain": [
              "is_sarcastic    0\n",
              "headline        0\n",
              "article_link    0\n",
              "dtype: int64"
            ]
          },
          "metadata": {},
          "output_type": "display_data"
        },
        {
          "data": {
            "text/plain": [
              "None"
            ]
          },
          "metadata": {},
          "output_type": "display_data"
        }
      ],
      "source": [
        "# Limpeza de dados/texto:\n",
        "import re # Regex \n",
        "import nltk # Importação de dicionários\n",
        "import string # Dicionário de constantes de texto\n",
        "nltk.download('stopwords', quiet=True)\n",
        "stopwords = nltk.corpus.stopwords.words('english')\n",
        "\n",
        "# Limpa dados de execução anterior:\n",
        "if 'headline_clean' in df_news.columns:\n",
        "  del df_news['headline_clean']\n",
        "\n",
        "display(\n",
        "    print(\"Verifica nulos\"),\n",
        "    df_news.isna().sum(), # Conferindo nulos.\n",
        "    print(\"-- -- --\"*4), \n",
        ")\n",
        "\n",
        "# Remove outlier erro de classificação:\n",
        "df_news = df_news.drop(index=7302, axis = 0) #5x mais palavras que a média\n",
        "df_news.reset_index(drop=True, inplace=True)\n",
        "\n",
        "# Remove coluna de link.\n",
        "if 'article_link' in df_news.columns:\n",
        "  del df_news['article_link'] \n",
        "\n",
        "# Define função para remover stopwords\n",
        "def remove_stopwords(text): \n",
        "  non_stop = []\n",
        "  for i in text.split():\n",
        "    if i.strip().lower() not in stopwords:\n",
        "      non_stop.append(i.strip())\n",
        "  return \" \".join(non_stop)\n",
        "\n",
        "# Define função com expressões regulares para limpeza:\n",
        "def cleantext(text):\n",
        "  c_text = text.translate(str.maketrans('', '', string.punctuation))\n",
        "  c_text = remove_stopwords(c_text)\n",
        "  return c_text"
      ]
    },
    {
      "cell_type": "code",
      "execution_count": 4,
      "metadata": {
        "colab": {
          "base_uri": "https://localhost:8080/",
          "height": 392
        },
        "id": "XkMol8Zygvlz",
        "outputId": "d15cec43-67fe-4b79-9fe4-9b71a0499302"
      },
      "outputs": [
        {
          "name": "stdout",
          "output_type": "stream",
          "text": [
            "Manchetes após a limpeza e remoção de 'stowords'\n",
            "-- -- -- -- -- -- -- -- -- -- -- -- -- -- -- -- -- -- -- -- \n"
          ]
        },
        {
          "data": {
            "text/html": [
              "<div>\n",
              "<style scoped>\n",
              "    .dataframe tbody tr th:only-of-type {\n",
              "        vertical-align: middle;\n",
              "    }\n",
              "\n",
              "    .dataframe tbody tr th {\n",
              "        vertical-align: top;\n",
              "    }\n",
              "\n",
              "    .dataframe thead th {\n",
              "        text-align: right;\n",
              "    }\n",
              "</style>\n",
              "<table border=\"1\" class=\"dataframe\">\n",
              "  <thead>\n",
              "    <tr style=\"text-align: right;\">\n",
              "      <th></th>\n",
              "      <th>headline</th>\n",
              "      <th>headline_clean</th>\n",
              "    </tr>\n",
              "  </thead>\n",
              "  <tbody>\n",
              "    <tr>\n",
              "      <th>0</th>\n",
              "      <td>thirtysomething scientists unveil doomsday clo...</td>\n",
              "      <td>thirtysomething scientists unveil doomsday clo...</td>\n",
              "    </tr>\n",
              "    <tr>\n",
              "      <th>1</th>\n",
              "      <td>dem rep. totally nails why congress is falling...</td>\n",
              "      <td>dem rep totally nails congress falling short g...</td>\n",
              "    </tr>\n",
              "    <tr>\n",
              "      <th>2</th>\n",
              "      <td>eat your veggies: 9 deliciously different recipes</td>\n",
              "      <td>eat veggies 9 deliciously different recipes</td>\n",
              "    </tr>\n",
              "    <tr>\n",
              "      <th>3</th>\n",
              "      <td>inclement weather prevents liar from getting t...</td>\n",
              "      <td>inclement weather prevents liar getting work</td>\n",
              "    </tr>\n",
              "    <tr>\n",
              "      <th>4</th>\n",
              "      <td>mother comes pretty close to using word 'strea...</td>\n",
              "      <td>mother comes pretty close using word streaming...</td>\n",
              "    </tr>\n",
              "    <tr>\n",
              "      <th>5</th>\n",
              "      <td>my white inheritance</td>\n",
              "      <td>white inheritance</td>\n",
              "    </tr>\n",
              "    <tr>\n",
              "      <th>6</th>\n",
              "      <td>5 ways to file your taxes with less stress</td>\n",
              "      <td>5 ways file taxes less stress</td>\n",
              "    </tr>\n",
              "    <tr>\n",
              "      <th>7</th>\n",
              "      <td>richard branson's global-warming donation near...</td>\n",
              "      <td>richard bransons globalwarming donation nearly...</td>\n",
              "    </tr>\n",
              "    <tr>\n",
              "      <th>8</th>\n",
              "      <td>shadow government getting too large to meet in...</td>\n",
              "      <td>shadow government getting large meet marriott ...</td>\n",
              "    </tr>\n",
              "    <tr>\n",
              "      <th>9</th>\n",
              "      <td>lots of parents know this scenario</td>\n",
              "      <td>lots parents know scenario</td>\n",
              "    </tr>\n",
              "  </tbody>\n",
              "</table>\n",
              "</div>"
            ],
            "text/plain": [
              "                                            headline                                     headline_clean\n",
              "0  thirtysomething scientists unveil doomsday clo...  thirtysomething scientists unveil doomsday clo...\n",
              "1  dem rep. totally nails why congress is falling...  dem rep totally nails congress falling short g...\n",
              "2  eat your veggies: 9 deliciously different recipes        eat veggies 9 deliciously different recipes\n",
              "3  inclement weather prevents liar from getting t...       inclement weather prevents liar getting work\n",
              "4  mother comes pretty close to using word 'strea...  mother comes pretty close using word streaming...\n",
              "5                               my white inheritance                                  white inheritance\n",
              "6         5 ways to file your taxes with less stress                      5 ways file taxes less stress\n",
              "7  richard branson's global-warming donation near...  richard bransons globalwarming donation nearly...\n",
              "8  shadow government getting too large to meet in...  shadow government getting large meet marriott ...\n",
              "9                 lots of parents know this scenario                         lots parents know scenario"
            ]
          },
          "execution_count": 4,
          "metadata": {},
          "output_type": "execute_result"
        }
      ],
      "source": [
        "# Cria nova coluna com dados limpos\n",
        "df_news['headline_clean'] = df_news['headline'].apply(cleantext)\n",
        "print(\"Manchetes após a limpeza e remoção de 'stowords'\")\n",
        "print(\"-- \"*20)\n",
        "df_news.loc[:, ['headline', 'headline_clean']].head(10)"
      ]
    },
    {
      "cell_type": "markdown",
      "metadata": {
        "id": "8wvGi2G5ugtu"
      },
      "source": [
        "## Distribuição de Frequências\n",
        "\n",
        "Com a limpeza básica dos textos já é possível ter uma visão mais clara do conteúdo e sentido das palavras, de acordo com o perfil das manchetes. \n",
        "Abaixo visualizamos uma simples distrbuição de frequências da quantidade de palavras usadas de acordo com o tipo de manchete. "
      ]
    },
    {
      "cell_type": "code",
      "execution_count": 5,
      "metadata": {
        "id": "cOjAUtvf3Moh"
      },
      "outputs": [],
      "source": [
        "# Volume de palavras por tipo de manchete:\n",
        "df_news['word_count'] = df_news['headline_clean'].str.split().map(lambda x: len(x))\n",
        "\n",
        "s_sarc = df_news['word_count'][df_news.is_sarcastic==1]\n",
        "s_not_sarc = df_news['word_count'][df_news.is_sarcastic==0]"
      ]
    },
    {
      "cell_type": "markdown",
      "metadata": {
        "id": "gZT9WG2cvWsj"
      },
      "source": [
        "As notícias classficadas como sarcásticas tendem, em média, a serem mais sucintas, mas com uma amplitude maior na distribuição. Isso indica que as notícias não sarcásticas seguem um padrão mais regular de composição do texto, no que se refere ao tamanho da manchete."
      ]
    },
    {
      "cell_type": "code",
      "execution_count": 6,
      "metadata": {
        "colab": {
          "base_uri": "https://localhost:8080/",
          "height": 817
        },
        "id": "T9g2y7u97So8",
        "outputId": "f1a699de-2554-49ad-b3ec-11ba8dded912"
      },
      "outputs": [
        {
          "data": {
            "text/html": [
              "<html>\n",
              "<head><meta charset=\"utf-8\" /></head>\n",
              "<body>\n",
              "    <div>\n",
              "            <script src=\"https://cdnjs.cloudflare.com/ajax/libs/mathjax/2.7.5/MathJax.js?config=TeX-AMS-MML_SVG\"></script><script type=\"text/javascript\">if (window.MathJax) {MathJax.Hub.Config({SVG: {font: \"STIX-Web\"}});}</script>\n",
              "                <script type=\"text/javascript\">window.PlotlyConfig = {MathJaxConfig: 'local'};</script>\n",
              "        <script src=\"https://cdn.plot.ly/plotly-latest.min.js\"></script>    \n",
              "            <div id=\"477a4942-da27-449e-bd0a-36ed86a4b77d\" class=\"plotly-graph-div\" style=\"height:800px; width:800px;\"></div>\n",
              "            <script type=\"text/javascript\">\n",
              "                \n",
              "                    window.PLOTLYENV=window.PLOTLYENV || {};\n",
              "                    \n",
              "                if (document.getElementById(\"477a4942-da27-449e-bd0a-36ed86a4b77d\")) {\n",
              "                    Plotly.newPlot(\n",
              "                        '477a4942-da27-449e-bd0a-36ed86a4b77d',\n",
              "                        [{\"name\": \"N\\u00e3o Sarc\\u00e1stico\", \"opacity\": 0.55, \"type\": \"histogram\", \"x\": [10, 6, 2, 6, 4, 6, 7, 5, 11, 9, 4, 8, 8, 2, 6, 7, 5, 5, 10, 8, 5, 3, 4, 5, 8, 13, 4, 10, 6, 8, 7, 6, 10, 10, 8, 5, 10, 4, 3, 6, 7, 9, 4, 6, 8, 7, 5, 4, 3, 9, 10, 10, 8, 8, 8, 10, 8, 6, 6, 6, 8, 5, 6, 7, 13, 8, 7, 10, 6, 8, 5, 10, 7, 8, 4, 8, 7, 8, 10, 6, 10, 6, 8, 6, 7, 8, 9, 6, 7, 4, 8, 10, 5, 5, 8, 5, 8, 5, 10, 2, 5, 3, 7, 4, 6, 7, 13, 7, 9, 3, 9, 7, 8, 11, 6, 6, 8, 8, 5, 7, 8, 6, 5, 7, 6, 3, 3, 8, 5, 9, 11, 6, 7, 8, 6, 6, 9, 7, 8, 6, 8, 7, 6, 5, 8, 7, 3, 9, 6, 7, 6, 2, 6, 9, 4, 8, 5, 6, 8, 9, 11, 6, 6, 4, 6, 6, 6, 8, 6, 7, 7, 7, 6, 5, 8, 10, 8, 4, 7, 8, 5, 10, 9, 6, 7, 7, 6, 8, 7, 8, 8, 8, 8, 8, 5, 9, 9, 6, 10, 10, 3, 4, 8, 8, 6, 9, 8, 7, 7, 7, 10, 4, 6, 6, 3, 10, 10, 5, 10, 5, 7, 8, 7, 8, 7, 7, 10, 9, 9, 8, 9, 8, 9, 7, 10, 10, 6, 6, 6, 8, 7, 6, 9, 6, 5, 7, 7, 11, 8, 8, 9, 6, 8, 7, 7, 3, 6, 10, 8, 4, 10, 9, 8, 9, 6, 7, 6, 2, 6, 5, 6, 2, 7, 7, 11, 7, 5, 5, 8, 6, 2, 4, 9, 9, 9, 6, 5, 7, 6, 10, 7, 8, 6, 10, 3, 10, 5, 7, 4, 3, 7, 7, 6, 6, 5, 6, 7, 8, 5, 5, 4, 9, 6, 8, 4, 4, 6, 6, 8, 6, 4, 9, 3, 6, 5, 5, 5, 11, 9, 5, 8, 5, 8, 8, 8, 5, 8, 11, 3, 7, 6, 7, 8, 4, 4, 7, 7, 7, 4, 5, 6, 8, 7, 6, 8, 8, 6, 11, 5, 3, 5, 9, 8, 11, 2, 9, 7, 7, 5, 9, 8, 9, 4, 7, 7, 4, 9, 7, 6, 7, 3, 8, 9, 8, 6, 6, 6, 8, 3, 6, 8, 7, 10, 7, 7, 6, 11, 7, 6, 4, 9, 3, 6, 8, 7, 6, 9, 10, 5, 3, 10, 10, 11, 8, 4, 8, 3, 7, 8, 5, 6, 7, 10, 5, 7, 8, 6, 8, 10, 8, 7, 10, 5, 7, 2, 8, 7, 4, 8, 9, 5, 7, 9, 6, 8, 5, 7, 8, 9, 8, 10, 8, 6, 7, 10, 7, 7, 4, 8, 7, 9, 9, 9, 7, 6, 7, 8, 7, 2, 6, 6, 8, 7, 7, 7, 3, 5, 7, 5, 9, 8, 7, 8, 9, 8, 8, 9, 11, 7, 5, 7, 6, 8, 6, 5, 7, 9, 11, 10, 5, 6, 7, 7, 6, 7, 7, 6, 7, 8, 9, 9, 3, 8, 9, 9, 9, 9, 4, 6, 6, 5, 8, 5, 5, 8, 9, 7, 8, 10, 5, 10, 2, 6, 2, 3, 2, 9, 11, 5, 7, 6, 10, 9, 6, 4, 4, 10, 9, 4, 8, 8, 5, 7, 6, 8, 10, 8, 6, 6, 4, 9, 8, 7, 6, 9, 11, 6, 5, 9, 6, 6, 9, 5, 6, 8, 6, 8, 7, 5, 14, 10, 9, 7, 4, 4, 5, 6, 5, 8, 6, 10, 5, 11, 7, 4, 6, 6, 10, 7, 4, 4, 8, 6, 5, 8, 11, 5, 5, 8, 5, 6, 5, 8, 6, 9, 4, 8, 8, 5, 6, 7, 10, 6, 7, 8, 8, 7, 7, 6, 8, 2, 9, 10, 10, 4, 7, 5, 11, 3, 8, 5, 3, 6, 9, 7, 4, 10, 8, 5, 6, 2, 8, 8, 9, 5, 8, 6, 7, 5, 8, 8, 11, 7, 10, 7, 2, 7, 4, 7, 3, 7, 10, 7, 3, 8, 3, 7, 10, 8, 5, 10, 8, 10, 7, 6, 9, 6, 5, 6, 4, 6, 9, 10, 9, 8, 7, 6, 7, 7, 5, 6, 10, 5, 8, 8, 6, 6, 6, 4, 7, 11, 6, 9, 5, 6, 6, 4, 5, 9, 7, 6, 8, 7, 3, 6, 4, 4, 8, 5, 11, 7, 6, 4, 3, 7, 6, 9, 6, 6, 7, 6, 12, 10, 7, 5, 5, 8, 10, 9, 9, 17, 8, 9, 7, 8, 6, 8, 7, 5, 9, 8, 4, 8, 7, 10, 9, 7, 9, 7, 9, 9, 5, 7, 3, 10, 8, 6, 9, 10, 8, 7, 9, 6, 9, 9, 6, 5, 9, 8, 6, 6, 7, 7, 7, 8, 6, 4, 7, 8, 9, 5, 5, 5, 7, 9, 6, 9, 10, 8, 4, 2, 6, 6, 6, 10, 6, 6, 5, 6, 10, 11, 5, 7, 7, 6, 8, 5, 10, 4, 6, 7, 8, 9, 7, 6, 7, 6, 9, 8, 5, 8, 6, 3, 6, 5, 9, 6, 9, 5, 7, 8, 9, 10, 3, 8, 7, 7, 7, 5, 9, 6, 9, 8, 5, 10, 7, 8, 9, 8, 6, 6, 7, 2, 4, 5, 8, 2, 3, 6, 5, 6, 7, 5, 2, 7, 2, 6, 10, 8, 7, 7, 4, 8, 10, 9, 7, 3, 10, 7, 9, 6, 5, 7, 9, 6, 8, 7, 7, 8, 7, 6, 6, 7, 4, 6, 3, 8, 5, 7, 5, 9, 10, 7, 7, 5, 7, 7, 6, 9, 5, 4, 5, 7, 8, 5, 8, 6, 5, 8, 7, 4, 7, 11, 3, 7, 7, 6, 5, 6, 6, 8, 8, 6, 8, 7, 10, 6, 4, 5, 6, 6, 10, 7, 9, 3, 7, 10, 2, 9, 6, 9, 6, 7, 3, 6, 7, 10, 5, 9, 5, 8, 10, 7, 7, 9, 9, 6, 9, 9, 7, 5, 9, 7, 6, 9, 3, 9, 7, 6, 7, 5, 6, 4, 5, 6, 8, 8, 5, 9, 7, 9, 6, 9, 8, 7, 3, 4, 6, 4, 9, 3, 7, 8, 7, 5, 6, 6, 10, 6, 10, 8, 5, 9, 8, 7, 6, 8, 5, 12, 8, 7, 10, 8, 7, 8, 4, 7, 4, 4, 3, 8, 7, 6, 9, 7, 10, 8, 7, 8, 8, 7, 9, 7, 4, 6, 7, 9, 11, 8, 9, 9, 6, 10, 8, 6, 4, 7, 6, 7, 9, 7, 2, 6, 8, 5, 6, 7, 5, 7, 9, 7, 9, 9, 5, 5, 8, 8, 6, 6, 9, 6, 9, 5, 5, 9, 9, 2, 6, 7, 6, 10, 8, 9, 5, 11, 7, 9, 7, 8, 4, 8, 6, 6, 8, 8, 8, 9, 5, 5, 5, 9, 3, 7, 7, 2, 8, 8, 4, 7, 17, 8, 8, 8, 9, 10, 9, 7, 9, 10, 1, 4, 9, 5, 9, 2, 9, 9, 7, 8, 3, 4, 7, 8, 6, 9, 8, 8, 10, 8, 11, 7, 4, 9, 7, 7, 6, 10, 9, 7, 8, 9, 3, 7, 6, 8, 8, 8, 7, 6, 8, 7, 7, 8, 9, 8, 6, 7, 4, 7, 6, 10, 9, 6, 4, 3, 11, 8, 11, 8, 7, 7, 5, 10, 5, 7, 10, 9, 8, 7, 5, 3, 12, 5, 1, 9, 7, 8, 9, 8, 5, 8, 7, 3, 5, 6, 9, 6, 11, 8, 5, 6, 9, 7, 9, 6, 7, 8, 7, 3, 9, 8, 7, 10, 7, 8, 9, 6, 6, 2, 6, 2, 5, 2, 8, 5, 5, 8, 8, 9, 7, 6, 9, 2, 9, 10, 2, 9, 6, 6, 8, 2, 8, 7, 4, 4, 8, 8, 8, 8, 7, 6, 8, 6, 6, 6, 7, 8, 6, 3, 8, 6, 10, 7, 7, 2, 6, 8, 8, 6, 6, 9, 8, 3, 6, 10, 8, 4, 9, 2, 7, 5, 3, 8, 8, 9, 6, 3, 7, 8, 2, 3, 5, 5, 8, 7, 4, 9, 7, 2, 4, 4, 5, 6, 5, 8, 6, 7, 7, 5, 8, 5, 3, 8, 7, 5, 10, 11, 6, 7, 6, 7, 2, 6, 4, 3, 12, 8, 8, 6, 6, 6, 5, 5, 3, 7, 6, 7, 6, 7, 4, 4, 4, 5, 9, 10, 10, 9, 5, 5, 9, 5, 6, 7, 7, 7, 7, 12, 8, 6, 5, 5, 10, 8, 3, 9, 4, 9, 7, 5, 6, 1, 6, 9, 7, 8, 8, 5, 7, 6, 9, 5, 6, 4, 8, 8, 6, 8, 10, 9, 5, 6, 8, 10, 7, 6, 7, 5, 3, 9, 7, 6, 2, 6, 5, 7, 10, 7, 8, 8, 5, 12, 9, 4, 9, 8, 5, 6, 6, 9, 7, 3, 4, 6, 7, 8, 5, 6, 4, 9, 4, 8, 9, 7, 8, 2, 5, 5, 8, 7, 12, 6, 3, 4, 8, 7, 5, 9, 8, 6, 6, 6, 7, 7, 7, 10, 7, 4, 6, 7, 10, 6, 11, 10, 5, 8, 7, 6, 7, 10, 3, 8, 6, 8, 7, 8, 7, 3, 5, 6, 9, 8, 9, 8, 10, 10, 10, 5, 8, 5, 6, 9, 7, 5, 7, 6, 8, 5, 7, 7, 5, 6, 6, 6, 6, 8, 9, 13, 6, 5, 6, 9, 6, 6, 8, 9, 8, 5, 5, 11, 8, 5, 7, 8, 11, 6, 9, 6, 6, 7, 6, 6, 4, 7, 8, 5, 13, 7, 9, 3, 11, 8, 10, 7, 6, 9, 5, 4, 5, 6, 7, 6, 7, 9, 4, 8, 6, 7, 4, 7, 8, 9, 6, 9, 5, 6, 7, 9, 6, 10, 1, 8, 5, 3, 8, 11, 6, 5, 10, 7, 8, 6, 5, 8, 4, 9, 8, 5, 8, 8, 7, 5, 6, 7, 9, 8, 8, 7, 10, 5, 7, 5, 7, 5, 8, 8, 7, 7, 8, 8, 9, 9, 10, 7, 8, 10, 8, 5, 7, 8, 8, 10, 5, 3, 8, 7, 9, 5, 10, 5, 5, 7, 8, 8, 9, 3, 8, 6, 8, 8, 9, 7, 2, 7, 7, 8, 11, 9, 10, 8, 7, 7, 4, 8, 7, 8, 7, 2, 7, 5, 7, 4, 10, 9, 10, 4, 6, 4, 9, 6, 6, 5, 2, 6, 8, 7, 8, 9, 4, 10, 6, 8, 9, 12, 7, 11, 7, 5, 8, 8, 4, 9, 6, 5, 9, 8, 6, 6, 6, 8, 8, 4, 9, 9, 3, 7, 8, 7, 8, 5, 9, 5, 7, 5, 4, 6, 3, 8, 8, 9, 8, 8, 5, 9, 10, 5, 4, 7, 5, 10, 2, 8, 11, 8, 9, 4, 3, 9, 5, 9, 8, 10, 9, 9, 10, 8, 8, 9, 8, 7, 9, 7, 7, 9, 8, 9, 9, 9, 8, 7, 7, 10, 10, 5, 5, 6, 9, 10, 7, 9, 7, 3, 6, 9, 10, 7, 9, 6, 6, 8, 6, 9, 6, 7, 5, 6, 6, 11, 9, 6, 9, 10, 7, 10, 6, 8, 9, 11, 5, 8, 5, 5, 7, 9, 8, 10, 5, 4, 11, 7, 6, 5, 8, 6, 7, 8, 7, 6, 2, 7, 2, 8, 8, 7, 7, 5, 8, 8, 5, 4, 5, 10, 10, 4, 9, 8, 6, 5, 4, 4, 7, 6, 11, 6, 4, 6, 7, 5, 8, 8, 7, 6, 4, 5, 10, 8, 7, 8, 3, 5, 9, 6, 6, 6, 2, 9, 2, 8, 5, 9, 7, 8, 4, 9, 9, 7, 7, 6, 9, 9, 8, 9, 5, 9, 7, 7, 5, 8, 8, 11, 8, 4, 3, 5, 8, 5, 7, 4, 3, 9, 9, 7, 11, 8, 4, 9, 7, 6, 7, 6, 4, 9, 5, 9, 6, 7, 8, 9, 9, 5, 8, 7, 4, 7, 6, 4, 2, 6, 2, 4, 6, 7, 5, 8, 4, 3, 9, 5, 8, 6, 8, 9, 8, 9, 8, 2, 9, 6, 5, 7, 8, 8, 6, 8, 7, 7, 5, 4, 9, 8, 8, 4, 4, 6, 6, 7, 9, 8, 9, 3, 8, 7, 6, 8, 8, 9, 9, 4, 5, 5, 9, 15, 4, 8, 2, 5, 8, 7, 6, 7, 4, 7, 5, 7, 8, 10, 5, 7, 3, 5, 6, 5, 9, 8, 5, 7, 7, 9, 7, 10, 8, 12, 7, 4, 3, 10, 8, 3, 9, 9, 5, 4, 11, 9, 1, 6, 6, 2, 2, 8, 7, 5, 11, 4, 11, 7, 3, 8, 10, 7, 2, 9, 11, 8, 5, 8, 7, 10, 6, 6, 8, 3, 8, 9, 4, 8, 7, 9, 8, 2, 5, 6, 9, 6, 5, 7, 6, 10, 5, 6, 5, 8, 4, 6, 7, 6, 8, 3, 5, 6, 9, 10, 8, 2, 7, 8, 9, 8, 5, 10, 9, 4, 7, 8, 6, 9, 6, 8, 8, 9, 8, 9, 4, 9, 10, 6, 3, 6, 4, 5, 6, 8, 10, 1, 4, 7, 8, 4, 11, 6, 8, 7, 9, 7, 6, 7, 5, 9, 7, 9, 9, 7, 8, 6, 8, 7, 10, 3, 6, 9, 7, 5, 6, 6, 2, 4, 7, 9, 7, 7, 10, 7, 5, 6, 5, 7, 3, 9, 9, 11, 10, 6, 7, 6, 11, 6, 8, 2, 11, 7, 9, 12, 5, 3, 8, 9, 5, 7, 5, 7, 8, 8, 15, 5, 7, 9, 9, 7, 3, 7, 4, 8, 7, 8, 5, 5, 6, 10, 8, 6, 6, 6, 7, 9, 8, 6, 5, 9, 6, 2, 3, 5, 7, 9, 9, 8, 11, 3, 8, 8, 9, 10, 9, 4, 7, 6, 8, 6, 6, 9, 8, 9, 1, 11, 7, 6, 6, 7, 5, 5, 3, 7, 8, 6, 6, 5, 4, 8, 7, 7, 7, 4, 7, 6, 9, 8, 8, 8, 6, 7, 8, 5, 8, 6, 11, 10, 11, 9, 8, 10, 6, 5, 8, 8, 8, 6, 11, 5, 9, 10, 2, 10, 8, 11, 10, 9, 5, 4, 7, 7, 4, 10, 8, 7, 6, 6, 4, 9, 6, 4, 7, 7, 7, 15, 6, 11, 8, 7, 4, 11, 10, 8, 8, 4, 9, 6, 5, 5, 8, 10, 9, 6, 15, 5, 9, 6, 9, 4, 9, 8, 6, 10, 5, 9, 8, 5, 7, 10, 4, 6, 5, 7, 7, 5, 9, 7, 10, 9, 10, 6, 5, 7, 5, 5, 9, 8, 11, 7, 8, 8, 9, 8, 8, 7, 4, 9, 8, 2, 3, 8, 10, 9, 10, 6, 6, 7, 8, 10, 5, 5, 6, 8, 5, 6, 6, 8, 8, 8, 10, 10, 8, 6, 4, 7, 8, 8, 8, 4, 8, 9, 6, 9, 7, 7, 5, 9, 4, 6, 9, 6, 3, 6, 2, 10, 5, 8, 6, 4, 3, 3, 9, 7, 9, 9, 6, 5, 8, 5, 8, 6, 9, 7, 9, 7, 5, 5, 9, 8, 9, 8, 7, 7, 5, 8, 7, 8, 4, 6, 9, 4, 8, 5, 12, 5, 8, 7, 13, 6, 7, 5, 8, 8, 4, 6, 8, 9, 4, 6, 5, 6, 9, 3, 10, 5, 6, 8, 9, 7, 6, 7, 7, 7, 7, 7, 8, 8, 6, 4, 8, 5, 8, 3, 5, 9, 6, 6, 7, 6, 7, 6, 9, 5, 8, 4, 3, 10, 8, 8, 9, 8, 3, 8, 7, 7, 2, 8, 6, 7, 7, 3, 4, 6, 7, 11, 7, 7, 6, 4, 7, 6, 11, 8, 8, 8, 3, 7, 6, 9, 8, 5, 8, 8, 9, 8, 9, 4, 8, 7, 5, 9, 7, 11, 9, 5, 7, 6, 7, 8, 10, 4, 9, 11, 5, 4, 9, 8, 6, 7, 8, 7, 9, 5, 2, 7, 8, 6, 6, 8, 4, 6, 7, 9, 8, 4, 2, 7, 10, 8, 6, 8, 11, 6, 4, 6, 8, 8, 8, 7, 9, 7, 4, 8, 6, 8, 5, 6, 8, 10, 5, 7, 10, 8, 5, 8, 8, 6, 7, 7, 5, 3, 7, 8, 7, 11, 9, 4, 8, 4, 7, 9, 8, 5, 8, 9, 8, 8, 3, 5, 7, 9, 9, 6, 10, 6, 10, 5, 8, 8, 11, 3, 8, 8, 8, 2, 5, 4, 10, 5, 2, 6, 10, 7, 5, 8, 11, 3, 3, 5, 8, 4, 6, 9, 3, 2, 8, 4, 5, 7, 6, 8, 8, 8, 7, 6, 4, 7, 5, 7, 4, 6, 5, 6, 6, 6, 9, 8, 7, 6, 9, 6, 7, 9, 8, 6, 4, 9, 2, 8, 8, 7, 7, 4, 7, 4, 5, 8, 8, 7, 8, 6, 7, 9, 2, 7, 7, 8, 7, 8, 10, 9, 7, 7, 8, 5, 6, 8, 8, 6, 6, 9, 10, 5, 3, 7, 7, 4, 7, 8, 8, 6, 6, 6, 8, 9, 9, 9, 9, 6, 4, 7, 5, 7, 7, 6, 9, 7, 4, 6, 10, 10, 8, 4, 5, 8, 8, 8, 8, 9, 9, 9, 9, 3, 9, 9, 7, 10, 6, 8, 9, 9, 5, 9, 6, 9, 6, 4, 8, 4, 5, 5, 6, 2, 9, 8, 6, 9, 9, 5, 8, 7, 8, 6, 7, 10, 9, 1, 5, 5, 7, 8, 6, 7, 9, 4, 6, 9, 6, 9, 10, 7, 8, 8, 7, 8, 5, 9, 7, 7, 7, 6, 5, 8, 7, 7, 11, 4, 7, 8, 5, 7, 5, 5, 4, 5, 10, 10, 10, 9, 7, 10, 5, 8, 5, 8, 7, 7, 7, 6, 5, 5, 3, 10, 8, 3, 11, 6, 5, 5, 8, 6, 8, 8, 10, 8, 3, 6, 9, 6, 9, 7, 7, 7, 7, 8, 6, 9, 10, 4, 3, 7, 9, 8, 6, 6, 6, 7, 9, 5, 7, 8, 10, 6, 9, 3, 7, 7, 8, 10, 7, 3, 10, 9, 5, 4, 4, 7, 9, 9, 8, 12, 9, 7, 8, 7, 3, 8, 4, 8, 8, 8, 8, 5, 8, 8, 7, 8, 7, 7, 10, 10, 7, 7, 4, 3, 9, 10, 10, 4, 10, 18, 7, 7, 4, 3, 10, 8, 6, 8, 5, 8, 5, 9, 9, 5, 9, 7, 9, 8, 7, 8, 9, 3, 5, 8, 8, 4, 7, 8, 6, 9, 6, 9, 6, 9, 9, 6, 6, 4, 4, 7, 4, 6, 7, 6, 6, 2, 6, 9, 5, 2, 9, 4, 6, 8, 8, 4, 9, 10, 9, 7, 7, 3, 12, 7, 6, 8, 4, 4, 7, 8, 8, 6, 4, 6, 5, 7, 7, 8, 6, 6, 8, 8, 6, 6, 5, 8, 8, 4, 9, 8, 8, 8, 8, 5, 8, 2, 5, 7, 4, 7, 5, 7, 5, 9, 7, 9, 8, 7, 8, 3, 6, 7, 8, 7, 6, 4, 9, 5, 6, 10, 6, 7, 8, 7, 3, 8, 4, 5, 9, 7, 13, 6, 10, 5, 2, 7, 4, 9, 7, 9, 6, 11, 7, 6, 10, 4, 7, 5, 6, 5, 5, 4, 3, 5, 6, 8, 3, 5, 8, 9, 11, 7, 11, 8, 9, 7, 6, 8, 7, 7, 10, 8, 8, 7, 6, 7, 2, 8, 5, 10, 10, 6, 10, 7, 3, 8, 8, 9, 9, 9, 7, 6, 5, 3, 7, 4, 8, 3, 3, 4, 4, 6, 5, 8, 8, 8, 9, 7, 3, 10, 7, 6, 3, 6, 9, 10, 10, 8, 8, 7, 11, 2, 4, 8, 7, 8, 2, 6, 9, 5, 11, 7, 8, 8, 10, 7, 8, 6, 6, 2, 8, 6, 10, 9, 9, 5, 9, 9, 8, 8, 8, 6, 5, 2, 7, 8, 6, 10, 7, 7, 8, 9, 3, 5, 10, 9, 4, 4, 4, 8, 5, 10, 8, 3, 4, 5, 2, 7, 11, 11, 9, 6, 8, 6, 6, 10, 6, 8, 9, 5, 7, 6, 7, 12, 6, 6, 9, 5, 8, 9, 7, 9, 8, 8, 8, 12, 7, 11, 8, 4, 7, 7, 5, 8, 7, 7, 8, 7, 6, 6, 8, 7, 7, 9, 8, 7, 4, 4, 8, 8, 10, 7, 7, 2, 6, 8, 8, 7, 10, 4, 11, 6, 8, 7, 9, 9, 6, 5, 7, 9, 4, 3, 9, 6, 5, 5, 5, 7, 6, 7, 6, 8, 7, 5, 8, 5, 4, 8, 9, 3, 6, 7, 8, 8, 8, 8, 7, 7, 8, 3, 4, 8, 4, 7, 7, 8, 9, 8, 5, 10, 8, 5, 7, 11, 2, 4, 10, 7, 7, 8, 4, 5, 5, 9, 8, 4, 6, 8, 9, 8, 6, 7, 2, 6, 6, 5, 5, 2, 5, 8, 6, 7, 6, 5, 7, 7, 4, 7, 7, 6, 6, 4, 6, 8, 5, 10, 5, 3, 8, 4, 6, 6, 5, 7, 5, 9, 8, 5, 7, 7, 10, 7, 7, 8, 3, 2, 2, 9, 5, 6, 6, 5, 6, 8, 7, 11, 6, 2, 6, 5, 10, 9, 6, 9, 3, 7, 8, 8, 6, 8, 9, 5, 15, 7, 8, 8, 7, 4, 6, 10, 11, 2, 8, 7, 8, 10, 6, 5, 6, 10, 6, 5, 6, 8, 1, 7, 6, 8, 9, 7, 4, 4, 8, 7, 10, 3, 8, 9, 7, 8, 6, 6, 8, 5, 5, 11, 3, 4, 9, 6, 7, 10, 7, 11, 4, 7, 5, 6, 8, 7, 7, 11, 5, 9, 5, 10, 7, 2, 7, 2, 5, 9, 7, 6, 6, 2, 9, 5, 6, 4, 7, 5, 4, 3, 5, 8, 3, 8, 6, 7, 9, 3, 11, 4, 3, 4, 3, 9, 7, 6, 8, 4, 6, 8, 3, 7, 4, 9, 11, 10, 9, 8, 7, 8, 6, 6, 8, 4, 4, 8, 8, 9, 6, 8, 3, 9, 6, 2, 9, 7, 10, 6, 4, 3, 3, 10, 6, 10, 3, 2, 9, 7, 6, 7, 5, 3, 9, 6, 9, 8, 8, 5, 6, 8, 8, 4, 10, 4, 6, 7, 3, 4, 4, 8, 5, 2, 6, 9, 4, 6, 8, 11, 3, 12, 8, 10, 10, 9, 11, 11, 8, 5, 7, 4, 4, 2, 6, 4, 9, 3, 6, 9, 9, 7, 9, 9, 8, 7, 8, 4, 6, 4, 9, 6, 5, 6, 4, 4, 11, 8, 8, 5, 6, 10, 8, 8, 8, 8, 8, 10, 8, 6, 8, 8, 4, 8, 9, 7, 8, 8, 6, 7, 9, 9, 12, 8, 7, 8, 7, 10, 6, 7, 9, 9, 2, 10, 7, 6, 8, 9, 5, 8, 9, 10, 7, 2, 9, 2, 8, 8, 6, 8, 6, 5, 11, 7, 7, 3, 6, 11, 6, 5, 4, 7, 4, 7, 9, 8, 8, 7, 7, 6, 6, 8, 4, 5, 3, 7, 10, 4, 8, 10, 4, 7, 5, 8, 9, 6, 14, 6, 10, 6, 6, 7, 6, 8, 5, 6, 3, 7, 3, 6, 7, 10, 5, 6, 7, 9, 4, 8, 9, 10, 8, 9, 8, 3, 8, 8, 4, 4, 12, 9, 11, 7, 10, 9, 3, 7, 6, 7, 8, 7, 2, 8, 8, 6, 7, 5, 2, 7, 7, 6, 2, 7, 8, 6, 3, 4, 4, 6, 10, 8, 8, 10, 4, 11, 8, 7, 6, 9, 8, 11, 8, 8, 5, 5, 4, 2, 6, 8, 7, 7, 6, 8, 7, 8, 4, 7, 9, 5, 9, 12, 5, 6, 7, 9, 4, 7, 5, 10, 4, 7, 3, 10, 14, 8, 5, 4, 10, 7, 10, 10, 9, 9, 6, 5, 2, 5, 9, 7, 9, 9, 5, 8, 9, 11, 9, 6, 7, 8, 6, 9, 4, 7, 9, 2, 6, 8, 3, 10, 7, 8, 5, 5, 9, 8, 10, 8, 6, 5, 6, 6, 10, 8, 3, 9, 9, 9, 6, 6, 4, 6, 8, 10, 4, 5, 6, 6, 7, 8, 4, 7, 6, 3, 7, 8, 7, 7, 7, 3, 7, 9, 6, 6, 6, 7, 9, 5, 9, 6, 9, 7, 8, 6, 8, 9, 9, 8, 6, 9, 8, 10, 5, 12, 8, 4, 7, 5, 8, 5, 6, 6, 8, 4, 6, 7, 4, 5, 8, 7, 9, 6, 11, 6, 7, 8, 8, 8, 6, 8, 7, 5, 2, 6, 6, 8, 8, 2, 9, 6, 2, 5, 8, 6, 10, 9, 9, 5, 7, 8, 3, 7, 6, 8, 10, 4, 10, 7, 5, 6, 6, 7, 7, 7, 8, 6, 6, 5, 7, 7, 5, 6, 6, 8, 8, 5, 9, 9, 6, 5, 7, 8, 6, 9, 6, 5, 6, 8, 4, 7, 10, 8, 10, 9, 7, 4, 6, 6, 7, 5, 7, 4, 9, 8, 8, 7, 9, 8, 10, 6, 9, 4, 7, 3, 6, 3, 7, 5, 8, 8, 7, 3, 7, 5, 14, 9, 6, 10, 10, 6, 5, 8, 5, 7, 5, 8, 3, 4, 5, 10, 6, 9, 8, 7, 9, 6, 11, 11, 9, 5, 7, 6, 2, 8, 8, 7, 8, 8, 6, 6, 8, 8, 9, 6, 7, 5, 6, 7, 8, 10, 5, 7, 8, 2, 9, 6, 6, 8, 8, 12, 10, 7, 7, 8, 4, 8, 9, 7, 8, 10, 5, 8, 5, 7, 9, 5, 5, 8, 7, 8, 5, 8, 7, 4, 4, 5, 8, 7, 8, 5, 8, 5, 10, 7, 12, 6, 8, 10, 4, 8, 3, 11, 4, 4, 7, 3, 5, 8, 10, 9, 7, 9, 5, 9, 8, 4, 6, 10, 7, 8, 4, 9, 7, 5, 9, 7, 8, 5, 4, 10, 10, 11, 8, 7, 5, 5, 10, 5, 3, 9, 6, 9, 7, 7, 11, 6, 10, 7, 6, 8, 4, 9, 6, 7, 6, 5, 6, 6, 7, 5, 6, 9, 7, 8, 9, 3, 4, 10, 8, 3, 4, 6, 8, 9, 10, 10, 9, 2, 4, 6, 4, 5, 8, 7, 7, 11, 10, 11, 6, 7, 9, 5, 6, 9, 2, 6, 6, 8, 7, 6, 7, 7, 8, 5, 6, 6, 7, 7, 8, 5, 6, 8, 7, 4, 7, 7, 6, 7, 4, 8, 8, 8, 9, 9, 7, 4, 4, 10, 9, 6, 7, 10, 9, 3, 9, 7, 8, 6, 6, 3, 5, 7, 7, 7, 9, 4, 8, 7, 6, 9, 2, 7, 5, 7, 8, 2, 8, 7, 7, 2, 9, 7, 6, 9, 5, 4, 9, 9, 10, 12, 4, 8, 9, 8, 2, 3, 4, 8, 2, 9, 4, 10, 9, 4, 9, 6, 9, 6, 8, 9, 8, 8, 5, 6, 6, 8, 3, 5, 7, 5, 7, 6, 9, 2, 6, 7, 10, 9, 8, 8, 6, 10, 8, 6, 8, 3, 7, 5, 8, 7, 6, 6, 10, 8, 9, 7, 7, 8, 7, 7, 8, 6, 4, 7, 10, 6, 4, 5, 8, 6, 4, 7, 4, 3, 7, 6, 4, 7, 7, 7, 8, 5, 8, 7, 4, 4, 9, 8, 6, 9, 9, 9, 5, 5, 7, 8, 3, 9, 3, 5, 7, 11, 8, 8, 7, 5, 6, 10, 7, 6, 9, 7, 6, 8, 10, 9, 4, 9, 7, 10, 11, 6, 5, 7, 7, 7, 5, 9, 5, 4, 7, 9, 6, 7, 7, 7, 8, 7, 8, 9, 5, 7, 2, 5, 10, 8, 6, 7, 3, 9, 9, 5, 5, 8, 7, 5, 7, 7, 5, 4, 9, 6, 6, 3, 6, 7, 7, 10, 4, 9, 4, 4, 12, 9, 10, 4, 8, 7, 7, 7, 10, 7, 8, 8, 7, 4, 7, 5, 7, 7, 3, 11, 8, 10, 7, 8, 6, 6, 7, 8, 2, 8, 5, 7, 8, 9, 7, 3, 4, 7, 7, 8, 6, 11, 7, 8, 6, 5, 9, 6, 5, 10, 8, 8, 7, 4, 8, 9, 10, 9, 6, 4, 8, 6, 7, 8, 7, 5, 7, 9, 7, 6, 9, 7, 7, 4, 3, 4, 9, 7, 7, 8, 5, 7, 5, 10, 4, 4, 9, 8, 5, 3, 9, 8, 7, 8, 11, 10, 7, 6, 8, 11, 7, 8, 9, 3, 10, 7, 7, 7, 7, 8, 10, 9, 9, 4, 7, 9, 7, 6, 9, 6, 7, 8, 8, 9, 6, 1, 9, 8, 8, 9, 7, 5, 11, 4, 6, 6, 9, 8, 9, 11, 8, 9, 7, 7, 4, 12, 8, 7, 5, 9, 7, 8, 7, 6, 7, 6, 5, 6, 9, 9, 5, 7, 7, 10, 9, 8, 8, 9, 8, 6, 6, 2, 4, 7, 8, 5, 7, 8, 4, 9, 8, 5, 4, 7, 4, 5, 7, 4, 5, 3, 8, 6, 8, 1, 7, 7, 7, 3, 7, 7, 8, 6, 7, 2, 10, 6, 7, 8, 6, 11, 7, 4, 9, 2, 8, 8, 10, 6, 8, 6, 4, 5, 6, 6, 7, 5, 8, 9, 5, 5, 7, 8, 2, 3, 8, 5, 9, 8, 7, 7, 5, 5, 6, 9, 8, 2, 9, 6, 5, 3, 7, 6, 6, 7, 3, 6, 10, 7, 11, 4, 10, 8, 5, 9, 7, 6, 5, 7, 5, 8, 8, 3, 8, 8, 5, 3, 6, 8, 8, 6, 8, 6, 10, 6, 8, 6, 11, 5, 7, 2, 7, 7, 10, 5, 8, 7, 8, 9, 5, 8, 5, 7, 2, 4, 8, 5, 6, 5, 6, 2, 6, 9, 5, 9, 9, 3, 5, 11, 6, 7, 10, 9, 2, 6, 9, 8, 5, 5, 3, 4, 7, 6, 8, 8, 4, 7, 5, 9, 3, 12, 7, 8, 8, 9, 10, 5, 6, 5, 5, 9, 9, 9, 4, 7, 6, 5, 10, 8, 9, 6, 7, 4, 2, 4, 6, 11, 10, 7, 5, 8, 9, 7, 8, 2, 2, 10, 11, 3, 7, 9, 4, 6, 9, 5, 4, 4, 9, 10, 8, 5, 9, 8, 4, 8, 7, 8, 8, 7, 6, 5, 7, 6, 7, 4, 5, 8, 4, 7, 7, 9, 6, 6, 9, 10, 3, 4, 7, 8, 9, 9, 6, 7, 9, 8, 7, 6, 8, 8, 7, 11, 8, 11, 5, 9, 3, 3, 8, 5, 9, 10, 9, 9, 6, 9, 12, 9, 7, 7, 5, 4, 6, 2, 10, 7, 6, 5, 8, 6, 6, 6, 6, 6, 9, 7, 7, 6, 6, 8, 6, 9, 9, 7, 6, 8, 7, 5, 2, 4, 5, 6, 5, 7, 6, 5, 6, 7, 6, 9, 4, 8, 6, 6, 8, 8, 9, 9, 6, 4, 9, 7, 10, 7, 9, 2, 4, 9, 4, 8, 6, 9, 9, 5, 5, 2, 4, 5, 9, 8, 10, 5, 7, 8, 8, 6, 10, 10, 4, 6, 9, 7, 8, 5, 9, 5, 11, 7, 7, 9, 8, 4, 7, 10, 7, 6, 1, 12, 5, 8, 5, 8, 5, 6, 8, 5, 10, 7, 6, 3, 5, 2, 8, 7, 4, 6, 12, 8, 6, 4, 5, 5, 4, 6, 7, 9, 8, 10, 5, 11, 8, 8, 8, 5, 7, 4, 7, 8, 6, 3, 6, 7, 9, 7, 5, 7, 7, 6, 5, 9, 6, 6, 5, 11, 6, 6, 6, 5, 8, 4, 9, 7, 9, 8, 7, 4, 5, 8, 5, 9, 6, 10, 6, 6, 5, 3, 5, 7, 7, 8, 6, 8, 9, 6, 8, 10, 7, 8, 6, 10, 5, 7, 5, 4, 7, 6, 9, 5, 5, 6, 7, 9, 8, 10, 3, 8, 5, 7, 11, 4, 6, 5, 4, 3, 8, 8, 9, 9, 7, 6, 4, 13, 10, 6, 5, 9, 8, 8, 6, 4, 7, 7, 8, 4, 2, 9, 6, 3, 8, 4, 6, 7, 8, 8, 9, 3, 9, 5, 10, 5, 9, 8, 7, 7, 4, 7, 9, 6, 6, 5, 6, 7, 10, 6, 9, 9, 6, 4, 7, 10, 8, 9, 9, 5, 6, 9, 7, 8, 8, 4, 4, 6, 12, 11, 8, 8, 7, 5, 9, 8, 8, 5, 2, 7, 10, 9, 5, 7, 3, 5, 5, 2, 7, 9, 6, 7, 7, 2, 6, 8, 5, 5, 3, 3, 9, 9, 8, 6, 10, 7, 7, 10, 10, 11, 6, 8, 6, 9, 5, 5, 7, 9, 5, 5, 6, 7, 8, 9, 8, 8, 7, 8, 7, 7, 6, 3, 3, 6, 10, 7, 7, 6, 7, 8, 5, 8, 7, 9, 4, 7, 6, 3, 6, 6, 7, 5, 6, 2, 6, 3, 6, 8, 8, 7, 6, 5, 7, 2, 8, 8, 3, 6, 6, 8, 6, 9, 7, 9, 7, 7, 2, 7, 7, 6, 4, 6, 8, 9, 7, 5, 8, 6, 6, 7, 10, 8, 9, 4, 6, 10, 8, 9, 8, 7, 8, 5, 8, 5, 7, 6, 8, 7, 7, 7, 11, 4, 11, 11, 5, 5, 7, 9, 9, 7, 5, 10, 6, 10, 11, 8, 6, 6, 6, 4, 8, 8, 5, 5, 2, 9, 4, 5, 7, 9, 8, 6, 2, 7, 7, 10, 4, 5, 5, 3, 10, 8, 7, 4, 9, 7, 8, 8, 5, 6, 6, 7, 7, 6, 8, 8, 7, 6, 10, 7, 7, 12, 2, 7, 7, 9, 8, 9, 7, 8, 8, 7, 6, 10, 5, 7, 4, 7, 7, 8, 4, 12, 7, 10, 8, 8, 2, 8, 8, 5, 7, 7, 10, 6, 5, 6, 4, 8, 8, 3, 5, 4, 6, 3, 6, 7, 7, 5, 10, 6, 11, 8, 2, 5, 6, 5, 7, 5, 10, 4, 6, 10, 4, 6, 9, 7, 14, 6, 7, 5, 7, 4, 4, 5, 7, 8, 4, 8, 6, 6, 7, 9, 5, 6, 7, 10, 7, 8, 3, 7, 6, 10, 7, 9, 9, 9, 2, 7, 8, 9, 7, 6, 8, 9, 8, 7, 11, 6, 4, 7, 5, 8, 6, 9, 6, 10, 11, 8, 8, 5, 5, 4, 8, 7, 7, 9, 10, 8, 7, 7, 10, 5, 7, 11, 10, 10, 5, 6, 7, 8, 7, 5, 5, 7, 10, 5, 8, 3, 4, 6, 5, 3, 7, 6, 7, 7, 5, 8, 6, 6, 7, 9, 8, 9, 8, 8, 9, 7, 7, 5, 9, 3, 6, 9, 8, 8, 6, 6, 7, 6, 8, 6, 10, 8, 5, 4, 10, 2, 8, 3, 11, 2, 9, 8, 7, 4, 6, 5, 7, 6, 10, 6, 4, 11, 9, 7, 6, 7, 7, 5, 7, 8, 7, 8, 7, 8, 5, 6, 6, 8, 4, 3, 7, 5, 6, 4, 8, 7, 11, 8, 4, 10, 6, 7, 6, 7, 9, 9, 9, 7, 10, 8, 4, 7, 6, 7, 5, 9, 9, 7, 8, 8, 6, 4, 8, 6, 8, 6, 9, 6, 9, 7, 9, 5, 3, 8, 8, 6, 8, 7, 6, 7, 6, 6, 8, 7, 4, 6, 3, 6, 9, 8, 8, 5, 4, 8, 8, 10, 6, 5, 8, 4, 4, 7, 3, 7, 7, 2, 9, 8, 7, 7, 8, 10, 2, 9, 10, 5, 8, 4, 9, 6, 6, 7, 7, 8, 8, 5, 6, 6, 7, 9, 9, 10, 7, 4, 7, 7, 8, 6, 8, 7, 4, 7, 6, 9, 8, 8, 6, 7, 8, 7, 5, 2, 6, 8, 6, 5, 9, 7, 8, 9, 11, 1, 6, 4, 10, 7, 7, 8, 7, 7, 8, 7, 10, 7, 5, 6, 9, 5, 8, 10, 5, 7, 9, 11, 8, 5, 5, 9, 6, 9, 8, 8, 6, 6, 9, 9, 8, 3, 6, 5, 3, 4, 8, 4, 5, 4, 7, 6, 10, 12, 8, 8, 11, 10, 7, 6, 8, 7, 2, 6, 8, 6, 9, 10, 6, 4, 8, 10, 6, 7, 5, 8, 8, 2, 8, 7, 7, 7, 9, 7, 8, 8, 10, 6, 6, 10, 6, 9, 6, 3, 8, 5, 9, 6, 7, 8, 9, 3, 10, 7, 7, 5, 6, 10, 4, 6, 4, 3, 10, 8, 8, 7, 5, 8, 7, 12, 5, 9, 8, 12, 8, 8, 10, 8, 7, 6, 4, 5, 10, 10, 5, 4, 4, 9, 6, 6, 3, 8, 8, 10, 8, 8, 10, 7, 10, 6, 8, 6, 8, 5, 7, 10, 7, 3, 3, 9, 13, 11, 4, 9, 9, 5, 7, 9, 5, 5, 9, 3, 10, 3, 10, 8, 7, 5, 8, 7, 7, 10, 10, 7, 7, 6, 8, 4, 5, 7, 6, 7, 3, 4, 6, 6, 6, 10, 9, 7, 4, 6, 7, 7, 5, 8, 8, 7, 6, 5, 8, 4, 7, 4, 9, 6, 5, 9, 9, 5, 9, 8, 8, 8, 4, 5, 7, 5, 10, 10, 9, 10, 8, 8, 11, 7, 6, 6, 6, 8, 4, 7, 6, 7, 5, 7, 11, 7, 6, 7, 12, 6, 3, 9, 9, 5, 7, 5, 8, 6, 4, 9, 8, 12, 8, 8, 10, 4, 5, 2, 8, 6, 9, 5, 7, 9, 8, 8, 7, 6, 9, 7, 8, 8, 7, 7, 8, 7, 4, 7, 3, 9, 6, 3, 7, 8, 8, 4, 6, 9, 4, 6, 7, 6, 4, 5, 10, 6, 8, 10, 3, 9, 3, 6, 7, 4, 6, 7, 10, 7, 2, 5, 7, 8, 3, 10, 10, 9, 11, 3, 10, 10, 8, 4, 7, 5, 9, 9, 4, 4, 7, 4, 5, 10, 5, 10, 9, 6, 5, 6, 8, 7, 7, 8, 6, 6, 6, 8, 9, 8, 8, 4, 10, 6, 9, 5, 9, 7, 7, 7, 2, 3, 8, 7, 2, 7, 6, 5, 9, 8, 7, 10, 5, 10, 7, 3, 8, 6, 7, 10, 7, 6, 8, 6, 8, 8, 1, 8, 5, 4, 6, 4, 9, 7, 7, 6, 4, 9, 7, 9, 5, 5, 6, 9, 9, 3, 4, 7, 8, 6, 9, 8, 9, 6, 7, 9, 5, 9, 9, 6, 9, 7, 7, 8, 2, 7, 9, 8, 9, 8, 8, 10, 7, 4, 7, 7, 7, 5, 3, 5, 5, 9, 9, 5, 5, 7, 7, 6, 9, 9, 8, 6, 9, 9, 7, 4, 7, 7, 8, 8, 7, 7, 9, 5, 6, 8, 8, 8, 8, 8, 5, 6, 6, 9, 9, 7, 5, 4, 4, 6, 6, 3, 8, 4, 6, 6, 11, 5, 7, 8, 9, 9, 6, 6, 8, 8, 8, 5, 7, 7, 8, 5, 7, 3, 5, 8, 8, 3, 5, 6, 8, 4, 10, 3, 7, 9, 5, 10, 6, 10, 6, 7, 4, 5, 9, 5, 8, 6, 8, 7, 8, 3, 5, 10, 5, 7, 9, 4, 10, 9, 3, 8, 9, 6, 9, 13, 6, 9, 8, 4, 3, 8, 2, 8, 9, 11, 7, 8, 9, 7, 2, 4, 8, 8, 3, 9, 7, 7, 9, 8, 9, 5, 2, 7, 8, 8, 7, 3, 4, 7, 9, 8, 6, 7, 8, 3, 6, 9, 5, 8, 4, 6, 4, 11, 7, 7, 7, 7, 7, 7, 6, 7, 6, 5, 4, 9, 10, 6, 5, 9, 8, 6, 7, 4, 6, 4, 4, 2, 6, 8, 6, 6, 1, 6, 5, 5, 6, 4, 7, 7, 7, 7, 4, 4, 9, 6, 5, 6, 6, 7, 9, 5, 4, 7, 6, 3, 8, 9, 11, 10, 6, 6, 9, 6, 9, 9, 4, 7, 8, 10, 7, 5, 6, 1, 8, 11, 2, 5, 9, 6, 6, 8, 7, 9, 7, 9, 6, 4, 8, 5, 5, 6, 7, 9, 7, 7, 3, 7, 2, 4, 4, 4, 4, 10, 7, 10, 4, 7, 4, 9, 7, 4, 4, 11, 2, 7, 8, 9, 7, 8, 4, 5, 8, 3, 5, 13, 7, 4, 4, 10, 6, 8, 7, 7, 7, 3, 7, 8, 3, 7, 8, 3, 7, 6, 7, 4, 6, 8, 5, 9, 6, 7, 5, 7, 2, 8, 9, 6, 9, 8, 4, 4, 5, 7, 9, 7, 5, 2, 7, 5, 6, 5, 7, 6, 5, 5, 8, 6, 10, 10, 9, 8, 9, 9, 7, 3, 7, 9, 7, 7, 8, 9, 10, 9, 8, 9, 4, 10, 9, 8, 11, 6, 6, 9, 2, 7, 6, 7, 2, 8, 10, 6, 11, 4, 3, 8, 10, 13, 10, 10, 7, 8, 5, 5, 8, 5, 6, 7, 5, 5, 6, 4, 7, 5, 6, 6, 7, 6, 8, 7, 6, 7, 8, 2, 6, 8, 11, 8, 5, 7, 7, 7, 8, 7, 6, 8, 7, 7, 8, 10, 9, 10, 5, 3, 6, 9, 3, 8, 8, 6, 11, 3, 9, 5, 4, 7, 9, 2, 8, 8, 6, 6, 7, 5, 9, 9, 2, 6, 3, 7, 7, 4, 10, 4, 7, 7, 6, 7, 10, 5, 10, 7, 7, 5, 9, 8, 7, 5, 6, 7, 6, 9, 7, 10, 9, 2, 7, 6, 8, 6, 7, 7, 5, 10, 6, 8, 8, 9, 3, 7, 8, 6, 9, 6, 9, 3, 10, 8, 7, 6, 3, 6, 9, 6, 9, 7, 6, 8, 7, 8, 9, 7, 6, 11, 10, 9, 6, 6, 9, 5, 6, 6, 8, 9, 8, 8, 6, 7, 7, 10, 5, 6, 7, 5, 6, 8, 8, 6, 9, 8, 8, 11, 9, 4, 13, 5, 10, 4, 4, 5, 7, 5, 7, 5, 6, 7, 9, 4, 4, 5, 4, 7, 6, 10, 10, 5, 3, 8, 5, 8, 6, 6, 5, 7, 2, 7, 9, 7, 6, 6, 5, 9, 7, 5, 1, 7, 7, 9, 7, 9, 9, 5, 6, 7, 7, 3, 5, 8, 9, 10, 8, 6, 2, 8, 6, 4, 8, 9, 3, 4, 9, 8, 7, 7, 5, 7, 4, 6, 7, 10, 11, 9, 8, 7, 10, 8, 5, 7, 5, 6, 6, 9, 4, 4, 7, 4, 5, 9, 7, 10, 9, 9, 4, 8, 8, 1, 6, 5, 9, 8, 7, 11, 9, 6, 6, 7, 6, 5, 7, 4, 3, 7, 8, 5, 6, 4, 7, 5, 8, 9, 6, 8, 6, 11, 8, 7, 6, 5, 8, 5, 4, 5, 7, 9, 6, 9, 6, 6, 8, 9, 9, 8, 12, 3, 10, 4, 6, 10, 9, 11, 5, 2, 7, 8, 4, 7, 8, 7, 8, 8, 5, 9, 3, 8, 6, 10, 8, 7, 9, 8, 9, 6, 11, 12, 6, 7, 4, 8, 11, 6, 7, 7, 11, 8, 10, 9, 9, 6, 8, 4, 8, 10, 6, 9, 8, 7, 4, 7, 9, 6, 6, 5, 9, 6, 9, 8, 8, 6, 4, 5, 6, 6, 8, 8, 6, 4, 8, 5, 9, 8, 9, 7, 5, 3, 7, 7, 8, 5, 9, 6, 7, 4, 8, 4, 7, 9, 9, 7, 5, 6, 7, 9, 9, 4, 7, 7, 7, 10, 7, 8, 8, 6, 9, 7, 5, 10, 6, 8, 6, 8, 4, 8, 4, 10, 7, 7, 4, 5, 8, 2, 7, 7, 4, 8, 7, 9, 6, 7, 7, 5, 9, 10, 7, 4, 9, 3, 9, 7, 9, 8, 7, 11, 9, 3, 7, 7, 8, 5, 10, 9, 6, 8, 6, 5, 8, 9, 9, 8, 6, 9, 7, 8, 7, 9, 7, 5, 7, 6, 3, 7, 10, 3, 4, 7, 5, 6, 5, 4, 7, 5, 2, 8, 6, 4, 8, 5, 7, 6, 5, 6, 6, 7, 5, 5, 6, 4, 6, 7, 6, 10, 5, 5, 9, 5, 4, 7, 13, 7, 6, 8, 11, 4, 8, 5, 3, 3, 9, 7, 6, 7, 6, 7, 3, 9, 8, 9, 2, 9, 5, 4, 6, 9, 7, 6, 7, 10, 8, 8, 4, 9, 6, 4, 7, 6, 7, 8, 6, 3, 2, 11, 7, 4, 6, 7, 3, 10, 5, 10, 7, 4, 6, 6, 4, 8, 7, 11, 7, 8, 7, 8, 6, 8, 3, 9, 7, 11, 3, 5, 9, 8, 7, 8, 10, 7, 7, 7, 3, 8, 5, 8, 7, 8, 9, 4, 7, 4, 9, 2, 2, 9, 10, 7, 5, 8, 1, 8, 8, 2, 8, 9, 4, 7, 9, 8, 6, 8, 5, 10, 4, 2, 3, 7, 8, 9, 7, 5, 5, 10, 9, 4, 9, 6, 8, 8, 6, 5, 9, 10, 9, 9, 5, 6, 7, 9, 8, 4, 5, 7, 10, 5, 7, 5, 8, 8, 3, 8, 4, 9, 7, 4, 4, 8, 4, 2, 6, 6, 6, 6, 4, 7, 4, 5, 9, 5, 5, 7, 7, 8, 10, 7, 7, 7, 6, 6, 9, 2, 8, 4, 10, 9, 7, 7, 6, 6, 5, 7, 8, 5, 7, 8, 8, 9, 9, 11, 8, 9, 9, 8, 5, 7, 7, 11, 7, 6, 4, 7, 3, 7, 6, 8, 7, 9, 7, 8, 8, 4, 9, 12, 4, 7, 7, 7, 10, 9, 8, 4, 2, 9, 6, 10, 6, 8, 10, 5, 9, 8, 4, 6, 8, 9, 7, 9, 7, 7, 7, 5, 12, 11, 6, 7, 6, 3, 6, 8, 7, 9, 5, 5, 5, 6, 9, 7, 8, 3, 4, 6, 8, 9, 7, 8, 6, 9, 8, 3, 8, 5, 5, 6, 9, 8, 8, 5, 9, 6, 8, 5, 5, 9, 7, 6, 6, 9, 8, 4, 6, 7, 7, 11, 5, 8, 5, 9, 7, 7, 10, 8, 9, 2, 5, 9, 7, 6, 8, 8, 8, 5, 7, 6, 5, 2, 5, 5, 8, 9, 7, 9, 10, 3, 7, 8, 8, 4, 3, 9, 6, 7, 9, 3, 10, 10, 9, 10, 4, 8, 3, 7, 10, 6, 8, 8, 7, 9, 8, 10, 4, 7, 4, 8, 5, 4, 5, 8, 8, 7, 9, 14, 11, 10, 6, 4, 9, 7, 3, 2, 7, 2, 9, 7, 6, 6, 7, 4, 5, 4, 9, 7, 9, 6, 7, 8, 7, 9, 5, 10, 11, 7, 9, 9, 3, 3, 7, 5, 7, 6, 7, 8, 6, 7, 8, 4, 9, 7, 3, 4, 6, 8, 8, 5, 8, 8, 2, 9, 8, 9, 3, 8, 5, 8, 6, 7, 4, 8, 6, 7, 6, 11, 13, 7, 7, 10, 8, 9, 9, 9, 9, 9, 8, 6, 6, 2, 8, 9, 8, 9, 3, 5, 7, 5, 7, 12, 10, 5, 9, 4, 6, 7, 7, 12, 7, 8, 8, 8, 8, 5, 6, 6, 9, 8, 9, 9, 6, 8, 7, 5, 6, 8, 5, 7, 9, 7, 7, 7, 10, 5, 4, 6, 7, 3, 11, 7, 3, 2, 7, 7, 7, 7, 8, 8, 9, 8, 10, 9, 3, 10, 7, 4, 13, 5, 9, 9, 5, 4, 4, 10, 5, 6, 8, 6, 9, 8, 8, 6, 9, 9, 6, 7, 8, 5, 7, 7, 3, 3, 7, 4, 5, 7, 6, 7, 7, 4, 4, 5, 6, 6, 3, 7, 5, 5, 9, 4, 9, 8, 9, 6, 5, 2, 10, 6, 7, 6, 6, 4, 7, 2, 8, 11, 9, 10, 4, 7, 5, 2, 6, 8, 9, 4, 9, 7, 6, 9, 6, 9, 12, 7, 9, 6, 8, 7, 8, 7, 7, 7, 10, 8, 4, 9, 9, 9, 5, 10, 10, 8, 9, 8, 9, 9, 6, 5, 7, 9, 5, 5, 5, 8, 5, 2, 4, 9, 5, 9, 4, 11, 7, 9, 6, 6, 7, 5, 9, 8, 4, 8, 3, 7, 6, 6, 7, 5, 3, 8, 7, 2, 9, 8, 10, 12, 9, 11, 8, 5, 6, 8, 9, 5, 11, 5, 8, 7, 7, 6, 7, 6, 6, 10, 9, 10, 8, 5, 7, 2, 7, 8, 9, 7, 2, 8, 8, 6, 3, 5, 6, 7, 7, 7, 9, 7, 8, 2, 7, 10, 8, 10, 3, 7, 9, 7, 6, 7, 7, 3, 6, 6, 6, 7, 9, 10, 7, 11, 10, 10, 6, 7, 5, 8, 7, 6, 9, 7, 7, 7, 4, 4, 7, 4, 7, 11, 8, 8, 9, 6, 5, 6, 9, 4, 8, 3, 6, 7, 3, 2, 6, 9, 8, 4, 11, 7, 6, 7, 10, 6, 5, 10, 5, 9, 6, 9, 3, 3, 6, 7, 6, 8, 7, 8, 7, 7, 10, 6, 6, 9, 7, 7, 9, 9, 9, 4, 4, 6, 7, 7, 11, 7, 7, 10, 8, 11, 5, 8, 5, 6, 7, 5, 9, 6, 9, 6, 5, 8, 7, 8, 6, 6, 5, 6, 11, 4, 2, 4, 10, 5, 8, 6, 7, 3, 9, 5, 8, 10, 7, 15, 6, 7, 8, 8, 9, 3, 8, 2, 6, 4, 6, 7, 8, 7, 6, 7, 9, 7, 11, 6, 2, 6, 8, 4, 10, 11, 7, 7, 5, 6, 9, 10, 8, 9, 2, 3, 5, 10, 8, 8, 3, 5, 6, 8, 4, 8, 6, 6, 7, 11, 6, 7, 7, 6, 5, 8, 9, 3, 8, 9, 9, 8, 5, 11, 3, 9, 6, 8, 5, 10, 3, 8, 4, 6, 7, 7, 8, 8, 5, 8, 8, 6, 3, 9, 5, 4, 4, 8, 8, 3, 6, 4, 6, 6, 9, 9, 9, 7, 6, 8, 9, 2, 10, 9, 10, 4, 7, 9, 8, 10, 11, 5, 8, 7, 8, 9, 10, 6, 2, 7, 5, 5, 3, 7, 8, 8, 7, 3, 6, 10, 6, 5, 7, 10, 5, 7, 8, 6, 5, 3, 9, 8, 7, 10, 6, 9, 8, 8, 4, 4, 5, 6, 4, 6, 10, 7, 7, 6, 5, 6, 6, 7, 10, 8, 8, 7, 7, 7, 2, 7, 3, 10, 8, 8, 9, 8, 7, 6, 5, 6, 7, 6, 4, 7, 3, 7, 10, 9, 5, 5, 9, 8, 7, 11, 7, 7, 6, 5, 3, 7, 3, 8, 5, 8, 6, 6, 8, 8, 6, 10, 9, 7, 5, 5, 6, 7, 2, 6, 11, 8, 5, 4, 5, 6, 6, 6, 10, 6, 2, 9, 2, 3, 7, 7, 5, 6, 8, 6, 4, 4, 7, 12, 7, 7, 7, 8, 7, 5, 8, 8, 11, 7, 6, 10, 7, 10, 9, 4, 2, 8, 10, 2, 4, 4, 7, 8, 6, 7, 7, 8, 9, 10, 6, 6, 6, 9, 6, 10, 11, 9, 7, 5, 9, 6, 9, 6, 6, 6, 10, 6, 3, 6, 7, 11, 6, 2, 7, 10, 5, 5, 7, 11, 6, 7, 4, 5, 8, 5, 8, 8, 4, 8, 3, 9, 7, 9, 7, 7, 5, 4, 4, 11, 6, 5, 9, 7, 7, 6, 7, 6, 9, 6, 3, 7, 7, 5, 6, 8, 8, 7, 10, 5, 5, 9, 6, 10, 8, 6, 3, 6, 7, 7, 8, 5, 10, 2, 6, 6, 7, 9, 7, 5, 7, 8, 6, 8, 8, 9, 10, 5, 10, 8, 6, 7, 8, 7, 8, 10, 9, 9, 11, 8, 5, 7, 4, 11, 6, 6, 3, 10, 4, 5, 7, 3, 2, 5, 9, 6, 7, 10, 8, 10, 8, 6, 7, 9, 6, 9, 6, 6, 5, 8, 9, 9, 11, 7, 7, 11, 8, 3, 5, 9, 4, 9, 7, 6, 5, 8, 7, 4, 11, 4, 9, 7, 9, 6, 11, 4, 8, 8, 8, 7, 8, 4, 3, 6, 4, 10, 8, 7, 3, 6, 2, 5, 6, 9, 5, 8, 4, 5, 3, 6, 8, 9, 3, 7, 7, 7, 6, 5, 3, 8, 8, 9, 3, 9, 6, 9, 7, 10, 7, 5, 7, 7, 8, 8, 9, 6, 6, 6, 10, 4, 9, 7, 5, 9, 6, 8, 6, 5, 6, 8, 6, 5, 10, 8, 6, 7, 3, 9, 7, 2, 8, 9, 6, 7, 5, 7, 7, 8, 8, 7, 5, 7, 8, 5, 7, 7, 9, 5, 7, 10, 9, 9, 6, 7, 7, 9, 7, 6, 7, 7, 3, 6, 8, 7, 7, 4, 9, 8, 5, 4, 7, 8, 3, 8, 8, 7, 4, 8, 7, 6, 7, 4, 6, 9, 3, 3, 5, 5, 3, 6, 5, 6, 6, 5, 8, 6, 7, 5, 3, 10, 8, 6, 8, 5, 6, 6, 8, 7, 9, 10, 4, 10, 6, 6, 8, 8, 6, 4, 7, 7, 9, 9, 7, 8, 8, 4, 6, 9, 6, 6, 11, 10, 6, 5, 8, 9, 7, 5, 3, 8, 7, 7, 5, 6, 8, 9, 8, 7, 6, 7, 10, 9, 2, 8, 5, 6, 9, 3, 8, 5, 4, 9, 8, 7, 7, 10, 13, 8, 10, 9, 7, 4, 7, 4, 8, 9, 6, 9, 8, 8, 7, 7, 6, 8, 9, 6, 7, 5, 7, 9, 5, 5, 5, 9, 9, 7, 8, 7, 8, 9, 6, 3, 6, 11, 9, 7, 9, 8, 6, 6, 5, 10, 10, 9, 7, 8, 8, 6, 5, 4, 6, 6, 9, 6, 9, 6, 7, 8, 8, 5, 6, 7, 8, 7, 5, 7, 7, 6, 7, 7, 5, 7, 6, 7, 11, 6, 7, 7, 10, 5, 10, 6, 9, 7, 4, 5, 8, 5, 11, 8, 6, 7, 5, 5, 2, 8, 9, 7, 3, 9, 10, 6, 6, 10, 10, 5, 5, 9, 4, 10, 10, 3, 7, 8, 8, 3, 9, 6, 11, 4, 7, 2, 8, 7, 5, 6, 9, 4, 8, 8, 10, 2, 8, 8, 8, 11, 6, 6, 7, 9, 6, 7, 4, 4, 10, 9, 7, 5, 8, 8, 9, 5, 10, 7, 8, 5, 7, 9, 8, 7, 4, 5, 6, 7, 10, 7, 4, 10, 7, 10, 9, 4, 8, 5, 5, 3, 4, 6, 7, 11, 5, 9, 9, 7, 8, 4, 8, 8, 9, 6, 6, 4, 5, 6, 8, 6, 5, 9, 8, 5, 8, 9, 7, 6, 9, 5, 6, 7, 9, 6, 3, 9, 6, 9, 10, 5, 5, 8, 5, 7, 4, 9, 5, 7, 4, 3, 5, 7, 5, 7, 7, 8, 9, 7, 5, 6, 9, 7, 7, 8, 7, 7, 10, 4, 6, 8, 6, 5, 7, 6, 8, 5, 7, 8, 7, 9, 11, 8, 4, 7, 7, 9, 7, 9, 9, 6, 8, 7, 5, 5, 13, 7, 6, 6, 8, 5, 4, 4, 8, 5, 8, 7, 9, 8, 10, 6, 7, 8, 9, 2, 5, 9, 8, 4, 8, 8, 3, 6, 4, 8, 9, 6, 8, 7, 9, 9, 8, 7, 7, 6, 6, 8, 8, 7, 7, 7, 12, 2, 6, 9, 8, 8, 7, 11, 9, 3, 10, 7, 7, 7, 6, 9, 7, 8, 5, 9, 10, 6, 9, 6, 5, 4, 8, 7, 7, 6, 5, 3, 7, 6, 9, 8, 9, 5, 4, 10, 8, 7, 4, 8, 9, 8, 7, 9, 7, 7, 9, 7, 8, 4, 8, 8, 5, 5, 9, 8, 7, 3, 7, 5, 8, 6, 8, 8, 7, 8, 4, 7, 9, 9, 4, 5, 6, 7, 7, 8, 8, 3, 6, 8, 8, 4, 6, 8, 11, 6, 5, 9, 7, 7, 8, 4, 8, 10, 9, 3, 6, 6, 6, 7, 3, 4, 6, 10, 7, 6, 6, 7, 4, 8, 9, 10, 6, 8, 8, 9, 5, 7, 2, 8, 6, 4, 10, 8, 8, 5, 7, 6, 9, 8, 10, 7, 2, 3, 5, 6, 6, 11, 6, 10, 4, 8, 6, 4, 2, 7, 8, 9, 4, 7, 6, 9, 6, 9, 9, 9, 7, 8, 6, 9, 6, 1, 8, 6, 6, 8, 11, 6, 12, 10, 2, 8, 7, 10, 6, 8, 10, 7, 3, 7, 7, 9, 5, 5, 1, 9, 7, 7, 6, 8, 7, 8, 8, 5, 7, 4, 4, 8, 9, 7, 7, 7, 7, 5, 6, 5, 7, 10, 4, 7, 7, 6, 8, 10, 5, 6, 7, 8, 7, 8, 10, 8, 8, 6, 8, 8, 1, 8, 9, 8, 11, 8, 7, 5, 7, 11, 7, 4, 11, 9, 7, 5, 8, 9, 8, 6, 4, 8, 4, 5, 4, 7, 8, 5, 5, 9, 5, 10, 2, 6, 14, 10, 6, 11, 7, 6, 7, 9, 10, 3, 8, 7, 4, 10, 3, 8, 4, 4, 5, 5, 5, 7, 6, 5, 3, 7, 6, 9, 3, 8, 5, 4, 11, 9, 9, 8, 11, 13, 9, 8, 7, 13, 8, 4, 7, 6, 7, 10, 8, 7, 7, 7, 5, 9, 9, 7, 6, 9, 6, 6, 8, 8, 7, 6, 6, 7, 5, 4, 5, 2, 6, 9, 4, 9, 8, 8, 7, 7, 9, 10, 6, 7, 7, 5, 7, 6, 4, 7, 7, 7, 7, 4, 8, 6, 5, 8, 8, 6, 7, 8, 8, 9, 10, 8, 4, 10, 8, 9, 5, 10, 3, 6, 7, 11, 9, 9, 13, 9, 5, 9, 3, 4, 10, 9, 3, 5, 6, 9, 7, 4, 4, 3, 6, 5, 8, 8, 2, 6, 6, 5, 7, 9, 9, 8, 7, 10, 9, 8, 6, 7, 4, 7, 8, 5, 7, 8, 7, 3, 5, 5, 2, 5, 8, 7, 5, 6, 6, 5, 10, 10, 6, 6, 6, 12, 8, 7, 7, 6, 5, 3, 7, 5, 7, 2, 8, 7, 11, 7, 8, 4, 7, 8, 5, 9, 7, 7, 11, 7, 5, 8, 9, 5, 8, 9, 10, 6, 6, 7, 6, 11, 6, 6, 8, 6, 8, 9, 11, 6, 7, 5, 10, 11, 8, 15, 6, 8, 9, 1, 6, 8, 10, 6, 10, 6, 4, 7, 9, 5, 7, 11, 5, 6, 11, 5, 9, 5, 7, 6, 6, 6, 11, 8, 5, 8, 6, 6, 3, 6, 5, 7, 7, 8, 10, 10, 8, 7, 8, 6, 5, 7, 7, 10, 4, 6, 8, 7, 6, 8, 5, 9, 7, 5, 9, 6, 7, 8, 4, 5, 5, 9, 6, 5, 8, 4, 6, 4, 5, 7, 6, 10, 7, 9, 6, 4, 8, 5, 7, 6, 7, 10, 8, 8, 9, 7, 5, 3, 8, 9, 5, 6, 6, 7, 4, 8, 8, 6, 3, 4, 8, 7, 7, 6, 11, 7, 6, 8, 6, 7, 11, 9, 6, 5, 8, 7, 8, 7, 8, 8, 4, 9, 9, 9, 4, 7, 9, 3, 2, 7, 5, 8, 6, 6, 10, 4, 6, 8, 7, 5, 5, 4, 4, 8, 9, 10, 8, 9, 6, 7, 10, 5, 7, 5, 8, 6, 4, 8, 4, 7, 9, 6, 6, 6, 6, 7, 7, 9, 5, 9, 2, 11, 2, 4, 12, 3, 10, 6, 4, 9, 7, 5, 8, 9, 3, 10, 7, 11, 7, 10, 8, 7, 8, 6, 8, 11, 10, 9, 8, 5, 8, 8, 6, 7, 10, 8, 12, 8, 9, 5, 7, 4, 7, 8, 5, 2, 3, 10, 12, 8, 4, 7, 9, 6, 8, 6, 5, 8, 9, 5, 7, 10, 4, 8, 8, 9, 8, 12, 10, 3, 8, 7, 4, 4, 3, 9, 4, 8, 6, 5, 7, 10, 8, 8, 9, 7, 3, 8, 6, 7, 3, 6, 6, 5, 6, 5, 9, 7, 5, 4, 5, 10, 6, 7, 8, 7, 7, 4, 10, 2, 5, 7, 8, 7, 8, 7, 8, 2, 7, 7, 8, 5, 11, 6, 8, 9, 8, 6, 9, 8, 5, 8, 9, 8, 8, 7, 8, 9, 3, 9, 7, 10, 9, 9, 8, 5, 7, 6, 7, 7, 7, 4, 5, 9, 8, 9, 6, 4, 2, 7, 8, 8, 9, 9, 8, 10, 5, 7, 5, 7, 8, 8, 7, 8, 8, 7, 5, 6, 8, 6, 6, 7, 6, 6, 5, 8, 7, 9, 8, 6, 7, 9, 5, 11, 7, 7, 3, 9, 5, 4, 5, 7, 5, 9, 7, 11, 7, 9, 7, 6, 11, 9, 8, 8, 5, 10, 5, 5, 8, 9, 6, 7, 8, 6, 7, 8, 7, 9, 5, 9, 8, 12, 11, 7, 9, 7, 10, 8, 5, 7, 6, 5, 9, 6, 7, 7, 8, 10, 11, 10, 7, 11, 9, 8, 5, 6, 8, 6, 9, 9, 5, 4, 9, 4, 10, 4, 8, 9, 7, 6, 5, 8, 2, 6, 7, 6, 5, 9, 6, 6, 9, 9, 8, 5, 8, 6, 7, 4, 5, 9, 6, 8, 7, 7, 6, 5, 6, 4, 3, 4, 4, 7, 8, 10, 9, 7, 4, 7, 9, 8, 6, 7, 4, 7, 5, 6, 12, 11, 7, 5, 7, 2, 9, 9, 5, 3, 4, 5, 5, 7, 4, 8, 7, 9, 8, 6, 7, 3, 3, 8, 7, 9, 5, 7, 10, 6, 6, 8, 5, 10, 6, 9, 3, 9, 4, 7, 3, 7, 7, 3, 9, 6, 4, 8, 9, 8, 8, 8, 9, 8, 8, 3, 6, 8, 7, 4, 5, 6, 7, 5, 9, 7, 6, 5, 5, 10, 7, 6, 6, 8, 6, 6, 7, 10, 4, 7, 8, 8, 8, 9, 11, 8, 12, 9, 7, 2, 11, 5, 6, 9, 6, 8, 7, 4, 9, 7, 5, 10, 8, 6, 6, 2, 8, 8, 7, 9, 6, 7, 10, 4, 5, 2, 8, 7, 12, 11, 8, 10, 7, 7, 8, 3, 8, 7, 7, 7, 11, 7, 7, 9, 7, 7, 3, 6, 6, 7, 8, 7, 8, 8, 5, 6, 4, 6, 2, 8, 9, 5, 5, 8, 8, 9, 5, 7, 3, 8, 6, 10, 9, 5, 8, 5, 7, 6, 9, 8, 7, 4, 8, 6, 3, 5, 5, 6, 7, 7, 5, 6, 8, 7, 6, 8, 7, 8, 7, 7, 10, 9, 10, 8, 3, 10, 10, 7, 3, 3, 5, 2, 4, 3, 8, 1, 8, 9, 8, 8, 7, 8, 6, 9, 7, 7, 5, 7, 4, 8, 8, 9, 7, 5, 5, 5, 8, 6, 7, 8, 7, 6, 5, 4, 8, 4, 5, 7, 5, 9, 9, 7, 6, 7, 7, 8, 8, 6, 7, 10, 9, 8, 7, 5, 7, 8, 5, 3, 7, 6, 7, 5, 7, 8, 9, 9, 9, 8, 9, 4, 8, 4, 8, 8, 2, 5, 3, 3, 3, 5, 8, 9, 9, 6, 8, 3, 9, 8, 6, 8, 3, 8, 6, 6, 6, 10, 4, 8, 6, 10, 6, 9, 9, 7, 9, 7, 10, 8, 6, 8, 6, 9, 4, 5, 8, 6, 2, 11, 10, 7, 5, 4, 8, 9, 5, 7, 9, 8, 2, 8, 9, 8, 6, 8, 6, 6, 5, 6, 10, 7, 10, 8, 3, 7, 4, 7, 6, 9, 7, 8, 5, 7, 8, 5, 6, 5, 11, 5, 4, 7, 7, 6, 9, 6, 8, 7, 6, 9, 9, 7, 8, 9, 10, 7, 3, 3, 8, 3, 9, 3, 3, 3, 5, 6, 6, 6, 3, 8, 4, 4, 6, 7, 9, 9, 4, 12, 6, 4, 7, 8, 4, 8, 5, 8, 8, 8, 6, 8, 5, 5, 10, 9, 8, 7, 9, 8, 7, 6, 4, 11, 6, 11, 6, 5, 6, 7, 8, 11, 5, 9, 6, 8, 6, 3, 9, 10, 4, 9, 7, 7, 7, 5, 8, 8, 6, 4, 9, 8, 10, 3, 5, 9, 6, 6, 9, 8, 10, 7, 9, 9, 8, 6, 7, 10, 4, 5, 7, 8, 8, 5, 10, 5, 9, 2, 12, 11, 9, 7, 4, 9, 8, 8, 7, 3, 5, 5, 11, 8, 8, 6, 8, 3, 5, 7, 7, 4, 9, 9, 7, 7, 9, 4, 6, 8, 7, 10, 7, 10, 4, 8, 8, 8, 7, 10, 8, 7, 4, 8, 7, 7, 4, 5, 5, 3, 9, 5, 5, 8, 3, 6, 5, 6, 9, 8, 6, 8, 7, 7, 7, 9, 3, 6, 6, 4, 8, 9, 3, 4, 7, 8, 4, 8, 6, 5, 4, 8, 10, 7, 3, 10, 8, 7, 4, 6, 9, 8, 7, 5, 4, 7, 6, 7, 9, 5, 9, 8, 8, 11, 7, 6, 10, 7, 8, 5, 10, 5, 9, 4, 9, 6, 8, 5, 11, 8, 8, 8, 5, 6, 7, 8, 7, 7, 5, 5, 9, 7, 8, 2, 8, 8, 9, 7, 8, 2, 8, 9, 5, 4, 5, 8, 4, 7, 8, 9, 6, 8, 6, 3, 7, 7, 8, 3, 5, 4, 7, 1, 8, 7, 7, 10, 5, 2, 5, 6, 4, 11, 7, 6, 9, 10, 7, 7, 9, 5, 8, 8, 5, 9, 7, 8, 4, 7, 8, 3, 2, 10, 8, 4, 9, 7, 9, 5, 8, 8, 9, 7, 5, 2, 9, 4, 6, 11, 6, 8, 7, 8, 8, 7, 5, 3, 5, 8, 6, 7, 8, 3, 7, 6, 2, 6, 7, 9, 7, 4, 8, 7, 7, 6, 7, 7, 9, 5, 5, 8, 3, 8, 3, 5, 8, 7, 9, 10, 8, 8, 9, 8, 3, 8, 9, 4, 2, 10, 8, 10, 9, 7, 7, 9, 8, 9, 5, 8, 6, 7, 6, 12, 9, 8, 7, 5, 3, 7, 9, 5, 9, 6, 4, 5, 5, 5, 7, 8, 6, 8, 3, 6, 10, 4, 7, 5, 7, 6, 8, 8, 7, 7, 5, 8, 4, 6, 9, 8, 6, 5, 5, 11, 5, 8, 5, 10, 11, 12, 7, 7, 2, 5, 10, 5, 7, 7, 7, 10, 5, 5, 9, 6, 10, 3, 5, 7, 9, 8, 6, 10, 10, 6, 8, 9, 9, 9, 4, 8, 6, 7, 6, 6, 10, 6, 6, 7, 6, 4, 5, 7, 6, 9, 9, 7, 8, 8, 4, 12, 9, 7, 3, 4, 6, 4, 7, 4, 8, 9, 8, 8, 9, 5, 6, 6, 5, 9, 8, 3, 7, 7, 8, 8, 5, 6, 8, 7, 8, 8, 4, 9, 8, 8, 8, 3, 9, 9, 8, 4, 7, 9, 10, 8, 4, 7, 4, 6, 7, 7, 8, 5, 8, 8, 4, 8, 11, 8, 9, 9, 3, 5, 10, 6, 7, 3, 7, 9, 7, 10, 8, 6, 4, 8, 8, 3, 6, 4, 9, 7, 9, 7, 4, 6, 4, 7, 4, 4, 8, 6, 10, 8, 7, 10, 10, 3, 7, 12, 12, 8, 3, 7, 6, 7, 4, 5, 4, 10, 6, 7, 6, 10, 7, 6, 7, 4, 10, 7, 9, 9, 10, 3, 5, 5, 6, 5, 7, 12, 8, 7, 6, 9, 5, 8, 10, 6, 4, 8, 6, 12, 8, 9, 7, 8, 3, 7, 5, 9, 10, 5, 8, 7, 9, 3, 8, 10, 8, 2, 9, 6, 10, 9, 8, 8, 7, 6, 7, 5, 11, 5, 4, 7, 11, 7, 8, 7, 8, 10, 10, 8, 4, 7, 7, 5, 6, 6, 5, 9, 8, 7, 10, 9, 7, 10, 6, 7, 8, 2, 8, 5, 10, 6, 2, 5, 4, 8, 7, 8, 7, 8, 7, 11, 6, 8, 8, 8, 8, 8, 6, 7, 6, 10, 8, 6, 5, 8, 8, 6, 9, 2, 8, 5, 8, 4, 7, 5, 10, 9, 2, 7, 4, 6, 8, 9, 8, 9, 8, 6, 8, 7, 7, 6, 6, 6, 9, 5, 11, 6, 7, 7, 10, 3, 5, 9, 4, 9, 8, 5, 8, 7, 6, 7, 5, 7, 8, 8, 5, 8, 3, 8, 8, 6, 6, 6, 10, 7, 6, 4, 9, 6, 10, 7, 5, 2, 9, 6, 6, 7, 11, 8, 6, 11, 7, 8, 5, 10, 8, 8, 3, 9, 6, 5, 7, 5, 3, 6, 17, 7, 11, 5, 9, 8, 7, 10, 7, 9, 4, 8, 3, 2, 7, 6, 6, 9, 6, 9, 9, 10, 5, 8, 3, 5, 6, 5, 7, 9, 8, 8, 8, 7, 5, 10, 9, 6, 6, 8, 6, 6, 4, 10, 6, 6, 8, 5, 7, 9, 5, 5, 8, 6, 4, 7, 8, 9, 6, 5, 7, 8, 10, 5, 5, 8, 6, 5, 5, 6, 8, 8, 3, 7, 10, 11, 7, 8, 9, 4, 8, 7, 9, 8, 3, 7, 6, 7, 6, 4, 8, 5, 11, 10, 8, 4, 6, 6, 7, 6, 6, 8, 7, 8, 11, 8, 5, 4, 7, 7, 6, 10, 8, 3, 6, 5, 4, 10, 4, 9, 6, 11, 2, 7, 8, 7, 6, 6, 5, 4, 7, 7, 3, 4, 11, 8, 9, 8, 10, 7, 6, 6, 7, 8, 9, 4, 10, 8, 7, 6, 9, 8, 8, 5, 8, 8, 8, 5, 8, 8, 3, 6, 11, 8, 7, 4, 3, 7, 2, 11, 11, 7, 7, 5, 11, 5, 10, 9, 4, 10, 10, 8, 6, 9, 5, 8, 8, 8, 7, 4, 7, 5, 8, 4, 3, 7, 7, 4, 6, 9, 6, 9, 2, 8, 8, 8, 5, 6, 7, 6, 6, 7, 6, 6, 5, 5, 8, 14, 8, 7, 6, 5, 9, 6, 5, 4, 4, 7, 7, 6, 7, 9, 8, 8, 9, 8, 2, 6, 8, 7, 5, 8, 10, 8, 5, 9, 8, 13, 9, 7, 3, 8, 4, 7, 3, 7, 12, 6, 7, 11, 9, 9, 9, 6, 4, 8, 8, 3, 5, 5, 6, 7, 7, 4, 7, 7, 3, 6, 3, 8, 5, 4, 8, 9, 5, 8, 7, 6, 8, 5, 6, 7, 6, 6, 5, 4, 8, 5, 8, 7, 7, 11, 5, 11, 3, 9, 12, 9, 7, 6, 3, 6, 7, 9, 9, 8, 4, 3, 8, 7, 10, 9, 7, 5, 6, 8, 6, 6, 4, 6, 7, 5, 7, 8, 8, 7, 6, 3, 4, 8, 7, 6, 10, 8, 8, 5, 4, 8, 6, 7, 3, 2, 11, 6, 6, 8, 7, 5, 7, 9, 4, 8, 6, 6, 9, 5, 6, 7, 7, 7, 4, 8, 6, 4, 10, 7, 8, 8, 9, 2, 7, 7, 7, 8, 10, 2, 11, 7, 9, 6, 7, 9, 5, 6, 5, 6, 10, 5, 8, 7, 9, 8, 9, 6, 10, 12, 9, 8, 8, 5, 4, 9, 6, 7, 3, 4, 8, 5, 9, 5, 3, 6, 9, 6, 11, 7, 9, 2, 8, 7, 3, 8, 10, 5, 7, 3, 7, 5, 7, 5, 6, 4, 9, 9, 5, 4, 7, 3, 10, 6, 8, 6, 9, 5, 12, 8, 8, 9, 5, 9, 6, 7, 7, 7, 7, 7, 6, 8, 8, 6, 10, 8, 9, 9, 6, 7, 6, 6, 10, 8, 7, 6, 8, 9, 7, 7, 7, 9, 6, 9, 2, 5, 2, 10, 10, 10, 5, 3, 7, 7, 11, 6, 4, 9, 5, 2, 10, 9, 6, 6, 10, 9, 3, 10, 9, 5, 5, 9, 4, 8, 6, 10, 5, 5, 7, 7, 4, 8, 8, 6, 7, 6, 10, 4, 9, 8, 10, 6, 9, 9, 9, 6, 5, 7, 8, 9, 7, 8, 6, 5, 10, 4, 10, 3, 7, 9, 8, 8, 8, 7, 6, 7, 7, 4, 2, 7, 8, 5, 7, 7, 7, 4, 5, 8, 10, 7, 4, 7, 4, 6, 4, 9, 11, 6, 10, 12, 6, 6, 6, 6, 4, 3, 3, 6, 6, 3, 11, 7, 4, 5, 3, 4, 7, 5, 10, 7, 8, 4, 5, 7, 6, 7, 8, 9, 8, 8, 9, 6, 8, 7, 10, 9, 5, 7, 7, 6, 7, 3, 3, 7, 7, 7, 10, 8, 9, 6, 7, 4, 5, 8, 10, 9, 8, 7, 5, 5, 9, 9, 7, 3, 6, 8, 9, 3, 5, 8, 9, 9, 7, 7, 7, 9, 3, 4, 7, 6, 9, 8, 5, 3, 8, 4, 8, 5, 6, 7, 8, 7, 10, 8, 8, 9, 9, 8, 8, 5, 7, 6, 4, 6, 7, 8, 9, 3, 5, 8, 7, 2, 5, 6, 6, 2, 7, 10, 4, 7, 4, 6, 8, 5, 11, 9, 7, 5, 10, 8, 4, 8, 6, 5, 9, 7, 7, 7, 9, 9, 5, 8, 5, 9, 6, 8, 5, 7, 9, 4, 7, 8, 5, 8, 8, 6, 4, 8, 7, 9, 5, 8, 8, 7, 10, 7, 7, 6, 7, 6, 8, 7, 9, 8, 9, 4, 7, 4, 10, 2, 8, 7, 8, 8, 8, 8, 8, 3, 6, 7, 7, 10, 8, 7, 7, 5, 9, 7, 9, 8, 6, 4, 5, 6, 10, 10, 5, 9, 2, 5, 8, 2, 10, 6, 7, 6, 5, 3, 5, 7, 7, 9, 5, 11, 6, 6, 5, 8, 9, 9, 7, 10, 3, 9, 7, 5, 8, 4, 6, 2, 6, 10, 11, 9, 7, 8, 8, 9, 9, 10, 2, 7, 8, 4, 4, 2, 7, 7, 2, 8, 9, 6, 6, 6, 9, 9, 6, 5, 7, 9, 7, 3, 5, 7, 3, 6, 7, 6, 6, 6, 7, 7, 9, 8, 7, 5, 10, 8, 5, 7, 8, 8, 3, 9, 6, 11, 7, 6, 4, 7, 6, 10, 6, 4, 7, 5, 5, 8, 8, 8, 11, 6, 9, 8, 6, 12, 2, 6, 8, 7, 7, 5, 5, 5, 8, 6, 9, 9, 4, 7, 9, 7, 8, 6, 4, 10, 5, 8, 9, 4, 7, 6, 9, 6, 8, 6, 4, 5, 10, 8, 7, 8, 4, 2, 8, 7, 4, 9, 5, 5, 5, 8, 10, 7, 4, 8, 6, 9, 3, 9, 9, 2, 7, 8, 9, 9, 6, 4, 4, 6, 5, 11, 6, 6, 10, 2, 9, 3, 6, 7, 2, 7, 5, 7, 3, 9, 9, 7, 7, 3, 5, 4, 8, 2, 7, 6, 5, 8, 7, 10, 3, 8, 4, 11, 10, 7, 6, 3, 8, 6, 5, 6, 9, 8, 8, 7, 6, 7, 11, 7, 6, 6, 6, 3, 8, 9, 4, 8, 8, 8, 6, 9, 5, 6, 3, 4, 8, 7, 2, 6, 8, 8, 6, 7, 8, 4, 8, 3, 10, 6, 7, 10, 7, 4, 10, 8, 3, 6, 7, 7, 8, 6, 6, 9, 7, 4, 5, 7, 3, 10, 9, 7, 4, 6, 6, 5, 2, 5, 6, 5, 7, 7, 8, 5, 6, 8, 3, 4, 5, 7, 10, 4, 2, 10, 7, 8, 9, 6, 7, 8, 2, 3, 9, 7, 7, 7, 9, 7, 6, 6, 12, 9, 7, 9, 3, 9, 9, 4, 7, 9, 7, 9, 6, 7, 7, 10, 5, 8, 7, 8, 9, 7, 2, 3, 5, 5, 7, 6, 6, 5, 7, 5, 9, 6, 5, 7, 9, 7, 3, 7, 4, 9, 6, 4, 6, 8, 11, 8, 8, 9, 7, 2, 9, 6, 10, 6, 7, 8, 4, 6, 6, 4, 7, 9, 3, 8, 6, 6, 8, 9, 7, 8, 6, 7, 10, 6, 7, 10, 7, 10, 7, 12, 8, 11, 6, 8, 6, 6, 11, 7, 3, 2, 8, 8, 6, 4, 10, 4, 8, 3, 7, 7, 6, 8, 8, 8, 6, 2, 10, 8, 5, 1, 3, 3, 7, 7, 8, 20, 7, 5, 7, 5, 8, 10, 6, 9, 9, 11, 6, 3, 8, 3, 5, 7, 5, 5, 13, 6, 4, 7, 9, 7, 4, 2, 7, 6, 4, 9, 5, 6, 8, 8, 6, 11, 7, 5, 7, 6, 2, 10, 2, 4, 7, 5, 7, 3, 10, 7, 8, 7, 6, 7, 8, 9, 8, 9, 5, 8, 4, 9, 7, 9, 10, 4, 7, 10, 2, 6, 5, 2, 4, 7, 6, 5, 10, 5, 10, 9, 6, 6, 8, 2, 9, 9, 4, 6, 8, 6, 6, 9, 11, 8, 7, 6, 6, 6, 7, 7, 8, 5, 5, 8, 9, 3, 4, 11, 11, 8, 8, 9, 5, 9, 7, 10, 8, 7, 3, 5, 6, 6, 7, 7, 7, 6, 3, 9, 7, 5, 9, 2, 9, 6, 9, 7, 6, 8, 4, 5, 8, 2, 8, 6, 8, 9, 6, 7, 2, 8, 7, 7, 9, 6, 9, 8, 8, 9, 7, 3, 6, 3, 7, 6, 10, 9, 7, 2, 6, 8, 6, 7, 9, 8, 5, 9, 7, 7, 2, 5, 8, 7, 5, 8, 6, 10, 8, 5, 7, 4, 8, 5, 9, 8, 6, 5, 6, 7, 7, 6, 6, 3, 7, 5, 10, 8, 5, 5, 4, 5, 3, 8, 8, 9, 8, 10, 8, 8, 9, 8, 3, 8, 8, 5, 5, 6, 4, 9, 7, 5, 8, 6, 6, 3, 5, 5, 4, 7, 2, 11, 12, 9, 3, 7, 6, 8, 5, 9, 4, 8, 3, 4, 6, 7, 7, 3, 8, 8, 7, 7, 6, 8, 9, 7, 7, 5, 8, 8, 5, 9, 6, 5, 6, 1, 3, 8, 5, 6, 6, 4, 6, 9, 2, 9, 7, 9, 7, 9, 7, 2, 7, 2, 5, 7, 6, 8, 13, 9, 4, 8, 8, 10, 9, 6, 9, 6, 7, 6, 7, 10, 7, 10, 10, 6, 8, 8, 8, 8, 6, 11, 4, 3, 8, 6, 7, 9, 9, 5, 5, 7, 5, 7, 6, 7, 6, 6, 10, 8, 6, 10, 5, 9, 10, 6, 6, 8, 4, 5, 6, 4, 4, 5, 8, 4, 9, 5, 9, 6, 6, 8, 8, 9, 9, 6, 6, 9, 6, 6, 2, 4, 6, 10, 12, 6, 9, 6, 7, 8, 7, 11, 8, 6, 7, 2, 5, 4, 10, 8, 9, 10, 8, 5, 10, 8, 4, 5, 6, 5, 9, 7, 7, 8, 4, 6, 5, 10, 9, 7, 7, 10, 6, 9, 8, 7, 8, 6, 9, 2, 9, 2, 6, 8, 6, 8, 8, 10, 6, 4, 6, 8, 5, 6, 9, 5, 8, 8, 9, 8, 4, 10, 6, 7, 9, 7, 9, 4, 7, 8, 6, 6, 9, 8, 11, 6, 12, 4, 7, 4, 5, 8, 8, 9, 7, 9, 7, 7, 6, 5, 8, 8, 8, 8, 5, 7, 6, 4, 10, 6, 9, 4, 11, 11, 4, 6, 9, 7, 8, 6, 3, 7, 8, 7, 9, 7, 10, 5, 6, 10, 8, 8, 4, 8, 6, 4, 9, 7, 8, 4, 5, 6, 9, 7, 5, 7, 10, 11, 7, 5, 3, 7, 7, 7, 8, 7, 3, 9, 7, 6, 9, 11, 10, 3, 6, 3, 4, 8, 6, 8, 6, 6, 10, 9, 6, 6, 6, 7, 6, 5, 10, 8, 5, 7, 6, 2, 2, 6, 4, 9, 2, 8, 9, 8, 6, 8, 9, 9, 11, 8, 8, 6, 9, 9, 5, 6, 7, 8, 11, 7, 4, 8, 6, 8, 7, 8, 9, 5, 8, 8, 11, 6, 11, 8, 7, 12, 7, 5, 5, 9, 7, 7, 7, 8, 4, 9, 11, 7, 7, 5, 7, 6, 7, 7, 8, 4, 9, 6, 11, 6, 10, 6, 10, 8, 6, 7, 5, 6, 11, 7, 11, 6, 10, 4, 5, 6, 8, 7, 5, 5, 6, 7, 8, 7, 4, 6, 6, 4, 11, 7, 7, 5, 5, 6, 7, 9, 6, 5, 6, 10, 8, 7, 8, 6, 11, 8, 5, 7, 7, 7, 8, 10, 5, 10, 9, 7, 7, 8, 13, 5, 9, 9, 6, 7, 7, 5, 8, 3, 4, 9, 10, 9, 7, 7, 5, 9, 6, 8, 8, 7, 6, 7, 6, 6, 5, 8, 10, 9, 6, 8, 8, 9, 3, 7, 6, 6, 8, 7, 6, 6, 7, 3, 9, 8, 9, 6, 5, 6, 9, 8, 8, 4, 2, 2, 8, 4, 5, 7, 7, 6, 9, 9, 6, 7, 5, 9, 7, 8, 5, 6, 7, 9, 10, 10, 9, 7, 9, 5, 6, 7, 9, 7, 9, 7, 12, 8, 10, 2, 8, 8, 5, 4, 6, 8, 8, 9, 5, 12, 3, 9, 9, 9, 7, 2, 6, 6, 3, 9, 5, 9, 10, 7, 9, 3, 9, 5, 9, 10, 8, 5, 10, 3, 7, 7, 9, 5, 8, 4, 8, 6, 5, 5, 6, 10, 10, 10, 11, 7, 9, 7, 7, 7, 7, 7, 4, 7, 6, 3, 6, 7, 4, 6, 6, 6, 3, 8, 2, 8, 9, 8, 6, 7, 8, 6, 9, 8, 7, 5, 9, 8, 9, 9, 8, 1, 7, 4, 10, 8, 7, 4, 4, 7, 7, 7, 8, 10, 6, 7, 8, 8, 6, 8, 5, 9, 7, 4, 7, 8, 6, 5, 8, 8, 11, 8, 7, 4, 10, 4, 8, 10, 5, 8, 9, 10, 11, 8, 5, 6, 6, 7, 4, 8, 9, 9, 6, 8, 7, 6, 7, 8, 10, 8, 6, 10, 7, 7, 2, 11, 4, 7, 4, 8, 1, 3, 7, 9, 10, 10, 4, 5, 7, 7, 7, 2, 8, 10, 10, 7, 5, 8, 9, 7, 8, 9, 6, 8, 6, 3, 6, 7, 6, 8, 4, 7, 7, 6, 5, 5, 8, 9, 6, 8, 4, 5, 6, 7, 4, 8, 6, 9, 4, 7, 5, 7, 5, 4, 5, 4, 2, 6, 9, 5, 4, 9, 5, 9, 6, 9, 7, 9, 7, 4, 10, 8, 6, 7, 5, 5, 3, 6, 5, 10, 9, 10, 7, 8, 8, 4, 8, 8, 7, 11, 5, 6, 5, 6, 5, 7, 11, 7, 7, 4, 8, 9, 7, 8, 6, 4, 7, 8, 6, 7, 7, 5, 5, 4, 9, 7, 7, 5, 9, 9, 8, 7, 8, 5, 8, 7, 7, 7, 8, 4, 8, 9, 8, 7, 7, 5, 11, 8, 6, 10, 7, 6, 9, 8, 8, 4, 8, 7, 11, 5, 8, 6, 6, 4, 8, 4, 9, 8, 4, 9, 9, 6, 5, 5, 4, 9, 5, 9, 8, 10, 9, 8, 3, 5, 8, 9, 7, 10, 7, 7, 10, 7, 5, 3, 8, 14, 7, 8, 5, 9, 7, 9, 6, 6, 8, 8, 8, 7, 7, 7, 6, 8, 7, 7, 5, 8, 5, 4, 9, 7, 7, 9, 8, 9, 10, 7, 7, 5, 9, 9, 8, 11, 5, 6, 8, 8, 6, 7, 6, 5, 5, 7, 4, 7, 7, 5, 8, 7, 8, 8, 9, 2, 3, 8, 8, 7, 19, 7, 8, 4, 6, 6, 7, 10, 14, 6, 10, 9, 9, 6, 4, 7, 5, 7, 7, 3, 10, 7, 5, 4, 7, 7, 9, 8, 4, 5, 7, 9, 5, 6, 9, 7, 10, 7, 8, 6, 6, 7, 9, 5, 7, 9, 9, 7, 3, 11, 4, 9, 5, 6, 8, 9, 11, 9, 7, 6, 7, 7, 5, 9, 2, 8, 5, 5, 8, 6, 7, 10, 8, 9, 7, 9, 6, 3, 10, 7, 8, 7, 8, 6, 3, 7, 6, 6, 6, 9, 8, 9, 5, 5, 7, 10, 4, 8, 9, 6, 6, 9, 2, 6, 9, 7, 6, 6, 8, 4, 8, 5, 10, 12, 7, 4, 3, 10, 7, 8, 10, 10, 2, 3, 5, 2, 8, 5, 8, 6, 6, 7, 9, 6, 9, 8, 8, 2, 10, 8, 9, 5, 5, 2, 8, 4, 9, 9, 6, 5, 6, 9, 9, 7, 5, 5, 6, 4, 5, 9, 4, 3, 7, 7, 7, 5, 8, 7, 8, 8, 8, 3, 7, 5, 5, 7, 2, 9, 7, 10, 9, 6, 12, 6, 3, 4, 9, 7, 6, 8, 4, 7, 9, 5, 9, 8, 3, 8, 6, 6, 9, 4, 5, 9, 10, 6, 6, 5, 9, 6, 10, 9, 7, 6, 5, 4, 3, 6, 8, 5, 7, 8, 9, 6, 6, 6, 6, 10, 6, 8, 8, 10, 2, 6, 2, 8, 2, 7, 4, 8, 7, 12, 3, 10, 8, 8, 8, 8, 11, 6, 4, 6, 8, 7, 4, 2, 10, 5, 9, 5, 9, 3, 3, 6, 9, 6, 6, 8, 8, 7, 6, 6, 8, 9, 4, 6, 5, 3, 5, 2, 8, 4, 6, 7, 7, 9, 7, 5, 12, 3, 5, 5, 7, 2, 3, 7, 4, 8, 2, 9, 8, 8, 7, 6, 7, 9, 2, 3, 9, 7, 7, 3, 5, 4, 8, 7, 4, 10, 5, 8, 9, 7, 5, 7, 2, 8, 5, 2, 10, 9, 6, 11, 7, 6, 7, 4, 9, 9, 7, 6, 6, 8, 11, 6, 6, 4, 7, 10, 4, 9, 8, 8, 7, 8, 4, 7, 4, 7, 3, 11, 9, 3, 2, 7, 6, 10, 7, 8, 5, 6, 5, 9, 3, 8, 3, 4, 6, 8, 8, 8, 7, 6, 12, 10, 7, 7, 9, 9, 7, 5, 0, 8, 5, 8, 8, 10, 12, 9, 5, 3, 7, 8, 6, 8, 6, 10, 9, 9, 5, 5, 6, 7, 6, 10, 3, 5, 6, 6, 8, 7, 6, 3, 8, 9, 8, 5, 6, 8, 6, 9, 10, 11, 8, 7, 9, 6, 2, 11, 5, 4, 2, 6, 10, 5, 6, 3, 4, 2, 6, 6, 5, 11, 4, 9, 7, 5, 3, 10, 11, 10, 8, 4, 5, 6, 8, 5, 7, 12, 6, 6, 3, 6, 9, 5, 8, 7, 2, 3, 3, 8, 7, 14, 7, 7, 5, 7, 10, 6, 8, 5, 8, 4, 3, 8, 9, 7, 7, 10, 10, 8, 9, 4, 7, 9, 8, 7, 10, 7, 8, 10, 9, 8, 5, 6, 8, 3, 8, 8, 10, 7, 8, 5, 8, 8, 5, 5, 9, 7, 12, 9, 7, 4, 3, 9, 10, 10, 8, 6, 9, 9, 9, 4, 8, 7, 8, 7, 6, 4, 1, 6, 6, 4, 5, 12, 6, 7, 8, 7, 9, 8, 6, 7, 5, 9, 8, 8, 3, 7, 8, 2, 10, 5, 6, 9, 6, 9, 7, 7, 4, 8, 6, 9, 8, 6, 8, 6, 8, 4, 2, 8, 8, 8, 10, 3, 5, 11, 7, 7, 14, 9, 5, 7, 5, 7, 6, 15, 6, 7, 10, 7, 6, 7, 6, 7, 7, 6, 7, 5, 6, 8, 6, 9, 8, 7, 6, 7, 7, 5, 10, 8, 8, 7, 5, 6, 6, 5, 8, 15, 7, 3, 10, 8, 6, 5, 5, 6, 9, 4, 8, 8, 8, 4, 6, 6, 5, 7, 2, 8, 9, 7, 10, 10, 9, 9, 8, 9, 8, 4, 4, 5, 7, 3, 4, 12, 10, 10, 7, 5, 8, 6, 6, 8, 8, 4, 8, 3, 7, 5, 9, 5, 6, 5, 7, 3, 9, 6, 10, 7, 8, 8, 7, 5, 9, 6, 5, 10, 11, 5, 9, 6, 5, 2, 7, 8, 3, 7, 6, 8, 12, 8, 6, 9, 8, 3, 7, 6, 7, 7, 7, 4, 9, 5, 3, 5, 7, 6, 8, 4, 5, 6, 6, 7, 8, 6, 7, 7, 9, 10, 8, 6, 8, 7, 10, 7, 6, 10, 11, 8, 8, 9, 8, 8, 4, 7, 7, 8, 3, 5, 9, 6, 9, 7, 7, 10, 5, 9, 4, 4, 9, 6, 8, 7, 6, 7, 7, 4, 8, 7, 8, 7, 5, 2, 6, 6, 9, 4, 6, 10, 9, 9, 4, 6, 7, 10, 8, 5, 9, 6, 10, 7, 10, 3, 4, 9, 9, 5, 7, 5, 4, 4, 3, 7, 8, 4, 10, 6, 5, 8, 7, 3, 5, 9, 5, 6, 10, 10, 7, 4, 7, 7, 7, 5, 8, 3, 10, 8, 6, 9, 5, 10, 10, 7, 4, 12, 8, 10, 10, 4, 9, 2, 5, 8, 7, 4, 9, 6, 4, 13, 7, 9, 7, 8, 3, 5, 5, 7, 9, 6, 6, 9, 10, 7, 10, 7, 7, 9, 4, 10, 5, 7, 10, 5, 8, 9, 7, 5, 9, 4, 7, 7, 6, 9, 8, 9, 9, 4, 4, 10, 7, 10, 5, 6, 8, 5, 9, 4, 8, 3, 8, 7, 8, 10, 7, 6, 6, 5, 6, 5, 7, 4, 6, 8, 7, 8, 5, 7, 5, 5, 8, 3, 6, 5, 9, 7, 9, 2, 9, 9, 3, 9, 10, 9, 10, 2, 7, 8, 5, 5, 4, 5, 11, 11, 6, 8, 5, 7, 5, 7, 5, 8, 7, 6, 9, 6, 9, 9, 7, 4, 6, 6, 7, 6, 4, 5, 6, 3, 2, 6, 4, 6, 4, 6, 5, 6, 9, 4, 2, 10, 8, 6, 7, 7, 5, 3, 9, 6, 9, 8, 5, 4, 9, 9, 2, 5, 8, 8, 6, 5, 6, 7, 7, 3, 5, 9, 8, 7, 10, 4, 6, 10, 5, 5, 9, 6, 9, 12, 3, 7, 4, 10, 10, 9, 4, 7, 8, 10, 8, 10, 8, 10, 10, 8, 9, 5, 8, 6, 7, 7, 4, 7, 8, 9, 7, 4, 6, 6, 5, 6, 7, 5, 10, 8, 10, 7, 10, 9, 5, 8, 5, 4, 5, 11, 6, 8, 6, 8, 9, 7, 9, 6, 8, 4, 7, 4, 2, 4, 7, 6, 6, 9, 7, 4, 5, 4, 8, 5, 8, 8, 4, 2, 8, 9, 7, 7, 9, 4, 7, 10, 7, 6, 6, 6, 8, 8, 9, 7, 5, 5, 7, 8, 4, 2, 8, 5, 10, 10, 4, 10, 10, 7, 6, 7, 7, 5, 7, 2, 6, 9, 12, 4, 9, 5, 3, 10, 5, 7, 5, 10, 6, 6, 7, 8, 9, 3, 3, 3, 10, 5, 6, 8, 6, 5, 7, 15, 9, 9, 6, 8, 3, 7, 9, 4, 11, 8, 7, 8, 5, 9, 5, 9, 5, 6, 15, 8, 7, 7, 7, 7, 2, 3, 8, 6, 4, 7, 9, 7, 9, 5, 5, 9, 9, 4, 10, 18, 3, 11, 9, 7, 10, 2, 8, 2, 11, 7, 7, 11, 7, 8, 8, 10, 9, 7, 7, 7, 6, 6, 3, 8, 5, 9, 5, 8, 7, 8, 8, 8, 7, 5, 5, 6, 5, 9, 4, 6, 8, 7, 8, 10, 8, 7, 4, 8, 9, 10, 5, 8, 10, 7, 1, 5, 6, 5, 8, 8, 15, 8, 8, 8, 7, 9, 14, 8, 8, 5, 5, 7, 7, 8, 8, 4, 10, 5, 7, 4, 5, 6, 10, 8, 9, 7, 7, 9, 10, 4, 8, 8, 3, 6, 4, 8, 5, 8, 10, 7, 7, 8, 2, 10, 9, 7, 6, 6, 8, 6, 7, 7, 4, 9, 5, 6, 7, 6, 7, 5, 9, 9, 7, 3, 7, 8, 4, 7, 3, 6, 7, 6, 3, 8, 5, 5, 8, 5, 5, 6, 7, 10, 10, 5, 7, 2, 8, 4, 4, 8, 8, 2, 4, 5, 9, 7, 2, 7, 7, 8, 8, 7, 10, 5, 6, 10, 5, 9, 6, 8, 2, 10, 6, 9, 8, 5, 5, 7, 3, 8, 4, 5, 9, 9, 5, 5, 8, 8, 9, 7, 3, 6, 5, 8, 14, 4, 7, 5, 8, 11, 5, 3, 8, 10, 8, 9, 8, 7, 6, 12, 8, 3, 7, 9, 6, 6, 7, 8, 6, 10, 8, 7, 7, 9, 5, 9, 7, 6, 11, 7, 7, 10, 7, 3, 6, 6, 5, 5, 6, 10, 9, 8, 7, 11, 8, 5, 9, 2, 5, 8, 9, 8, 5, 8, 6, 7, 7, 7, 7, 6, 11, 3, 7, 10, 7, 5, 10, 7, 8, 7, 8, 7, 9, 11, 7, 7]}, {\"name\": \"Sarc\\u00e1sticos\", \"opacity\": 0.55, \"type\": \"histogram\", \"x\": [7, 6, 8, 10, 9, 7, 5, 4, 9, 8, 10, 7, 12, 6, 9, 6, 7, 6, 8, 3, 11, 6, 6, 11, 9, 6, 10, 9, 9, 9, 10, 5, 8, 8, 3, 9, 14, 6, 10, 9, 5, 6, 7, 5, 5, 7, 9, 5, 3, 7, 8, 8, 9, 11, 4, 13, 7, 9, 8, 12, 8, 11, 5, 10, 8, 7, 5, 6, 8, 8, 6, 5, 6, 6, 8, 6, 9, 13, 15, 8, 12, 3, 5, 9, 11, 12, 10, 9, 9, 4, 11, 11, 4, 7, 7, 4, 3, 5, 7, 8, 8, 7, 16, 8, 5, 7, 10, 9, 11, 9, 8, 8, 7, 5, 5, 6, 9, 8, 6, 6, 13, 9, 6, 8, 13, 5, 6, 9, 6, 4, 7, 5, 7, 9, 9, 6, 8, 7, 10, 9, 5, 9, 7, 5, 6, 7, 7, 6, 5, 10, 13, 7, 10, 4, 9, 6, 8, 4, 8, 10, 6, 7, 6, 8, 8, 10, 7, 6, 10, 12, 11, 10, 8, 10, 10, 3, 8, 8, 7, 7, 8, 9, 8, 7, 7, 11, 7, 9, 5, 14, 8, 8, 6, 10, 6, 4, 5, 8, 9, 8, 5, 10, 5, 9, 5, 6, 5, 8, 5, 9, 7, 7, 7, 9, 12, 7, 7, 8, 7, 5, 4, 7, 4, 7, 4, 8, 7, 6, 7, 3, 10, 9, 7, 8, 5, 7, 8, 4, 3, 9, 12, 9, 6, 9, 8, 8, 13, 7, 10, 10, 7, 8, 5, 6, 6, 7, 5, 4, 5, 9, 5, 11, 11, 12, 8, 15, 5, 4, 10, 7, 11, 9, 4, 6, 4, 11, 7, 7, 16, 9, 5, 11, 11, 8, 9, 2, 8, 9, 9, 7, 5, 9, 7, 7, 5, 8, 5, 10, 8, 12, 7, 7, 8, 7, 4, 4, 4, 7, 5, 5, 4, 10, 9, 10, 7, 11, 6, 6, 9, 6, 6, 4, 6, 4, 7, 6, 5, 8, 9, 7, 8, 9, 6, 10, 12, 10, 8, 6, 7, 3, 7, 6, 12, 4, 8, 8, 5, 8, 9, 10, 10, 12, 7, 12, 5, 10, 7, 6, 5, 11, 8, 9, 6, 10, 7, 10, 6, 9, 6, 7, 6, 8, 3, 8, 7, 9, 4, 7, 13, 4, 8, 6, 6, 8, 12, 2, 7, 3, 10, 10, 12, 10, 7, 8, 6, 5, 10, 8, 8, 5, 7, 7, 5, 11, 9, 10, 5, 8, 8, 9, 8, 6, 4, 7, 8, 9, 6, 5, 8, 6, 7, 8, 7, 6, 10, 4, 8, 4, 3, 9, 5, 6, 8, 13, 4, 9, 3, 6, 4, 5, 8, 5, 4, 2, 6, 3, 7, 10, 7, 8, 10, 13, 11, 8, 3, 6, 7, 6, 7, 9, 5, 6, 6, 9, 10, 4, 6, 4, 10, 5, 8, 7, 11, 8, 11, 6, 9, 7, 6, 10, 10, 5, 8, 5, 7, 8, 11, 8, 4, 7, 6, 5, 3, 5, 10, 4, 8, 6, 5, 10, 6, 6, 7, 4, 6, 8, 11, 8, 7, 8, 12, 5, 7, 2, 8, 10, 9, 8, 9, 7, 9, 8, 10, 8, 6, 9, 13, 8, 13, 3, 10, 9, 8, 7, 9, 10, 5, 7, 10, 8, 6, 7, 2, 11, 10, 12, 6, 7, 8, 11, 7, 6, 12, 9, 6, 13, 8, 12, 6, 3, 10, 9, 5, 6, 8, 7, 9, 7, 8, 9, 6, 14, 8, 6, 6, 10, 2, 10, 9, 12, 16, 13, 7, 6, 8, 6, 12, 9, 7, 11, 10, 11, 9, 8, 5, 8, 8, 10, 11, 9, 7, 6, 6, 7, 5, 8, 7, 9, 10, 7, 7, 3, 8, 11, 8, 7, 5, 8, 14, 8, 4, 10, 7, 6, 3, 8, 7, 9, 8, 6, 6, 12, 11, 8, 6, 6, 6, 8, 3, 8, 5, 8, 6, 7, 9, 7, 5, 6, 9, 6, 10, 7, 10, 6, 9, 6, 8, 9, 4, 4, 4, 7, 6, 7, 4, 6, 6, 9, 5, 4, 7, 4, 7, 10, 10, 7, 7, 6, 6, 9, 12, 9, 14, 9, 7, 7, 10, 8, 8, 2, 6, 8, 9, 5, 8, 12, 6, 7, 6, 8, 7, 8, 10, 5, 6, 13, 9, 13, 10, 9, 2, 11, 5, 9, 5, 10, 7, 7, 6, 7, 6, 7, 7, 5, 7, 9, 5, 6, 9, 8, 7, 6, 5, 4, 13, 6, 7, 8, 7, 7, 2, 9, 8, 10, 7, 4, 10, 6, 12, 8, 10, 4, 5, 6, 9, 10, 8, 6, 7, 6, 10, 10, 6, 3, 8, 8, 7, 11, 9, 7, 10, 7, 6, 10, 8, 8, 11, 9, 10, 10, 7, 9, 7, 6, 5, 8, 11, 7, 11, 10, 7, 6, 6, 8, 9, 7, 14, 4, 8, 10, 10, 5, 10, 10, 7, 7, 4, 7, 8, 10, 10, 12, 12, 10, 6, 6, 12, 9, 9, 9, 9, 4, 10, 4, 10, 8, 5, 8, 9, 5, 8, 4, 7, 5, 10, 4, 4, 9, 8, 11, 6, 8, 9, 4, 8, 2, 7, 9, 6, 6, 5, 8, 11, 6, 10, 14, 13, 4, 7, 10, 4, 6, 5, 8, 9, 6, 8, 6, 4, 4, 14, 4, 6, 8, 6, 10, 6, 8, 9, 9, 5, 10, 7, 8, 8, 8, 8, 6, 10, 10, 8, 6, 6, 12, 9, 8, 5, 6, 6, 9, 6, 7, 6, 7, 7, 6, 10, 8, 12, 7, 6, 7, 5, 7, 12, 6, 7, 8, 9, 11, 11, 9, 5, 12, 6, 13, 6, 6, 7, 8, 12, 10, 7, 4, 7, 12, 8, 7, 12, 9, 8, 14, 8, 9, 11, 5, 6, 7, 4, 8, 7, 7, 6, 6, 5, 3, 10, 8, 6, 8, 6, 8, 5, 6, 7, 6, 9, 7, 10, 11, 9, 2, 5, 6, 8, 8, 9, 11, 7, 11, 5, 8, 10, 8, 11, 6, 4, 8, 7, 8, 13, 10, 8, 9, 11, 9, 9, 7, 8, 10, 9, 9, 6, 8, 9, 8, 5, 10, 9, 7, 8, 5, 4, 8, 11, 6, 10, 6, 10, 10, 4, 10, 10, 6, 7, 8, 9, 7, 6, 12, 8, 10, 14, 7, 6, 6, 9, 5, 27, 10, 7, 8, 8, 9, 6, 13, 10, 6, 4, 5, 6, 8, 7, 8, 5, 9, 8, 10, 9, 7, 6, 7, 3, 9, 9, 8, 11, 6, 8, 7, 7, 5, 10, 10, 9, 6, 6, 8, 11, 11, 8, 9, 12, 11, 9, 6, 5, 3, 6, 7, 11, 6, 8, 9, 6, 10, 9, 7, 5, 5, 8, 11, 4, 8, 5, 8, 11, 5, 11, 7, 15, 13, 3, 8, 8, 5, 9, 6, 7, 6, 3, 14, 7, 8, 11, 6, 6, 6, 8, 9, 8, 6, 14, 6, 10, 13, 9, 5, 7, 7, 8, 11, 13, 8, 8, 6, 9, 5, 5, 7, 4, 8, 8, 10, 9, 7, 8, 3, 9, 10, 8, 11, 8, 10, 4, 8, 7, 13, 7, 9, 8, 8, 6, 5, 7, 7, 6, 20, 9, 8, 9, 8, 5, 8, 5, 10, 5, 6, 11, 6, 6, 5, 8, 4, 6, 9, 6, 11, 3, 8, 8, 8, 12, 7, 15, 10, 6, 6, 7, 11, 7, 14, 10, 7, 7, 6, 6, 12, 6, 5, 9, 5, 10, 7, 11, 7, 8, 6, 5, 13, 13, 4, 5, 6, 5, 7, 8, 8, 11, 9, 11, 8, 6, 8, 12, 9, 5, 7, 13, 6, 8, 7, 7, 7, 9, 11, 7, 7, 7, 7, 6, 6, 15, 11, 5, 10, 5, 10, 7, 9, 4, 5, 11, 15, 9, 5, 6, 5, 6, 9, 7, 10, 12, 7, 4, 4, 12, 9, 6, 7, 7, 5, 7, 10, 6, 8, 9, 7, 7, 6, 6, 9, 12, 11, 4, 4, 6, 8, 6, 6, 10, 5, 9, 6, 12, 4, 8, 7, 9, 7, 8, 9, 8, 5, 10, 12, 13, 9, 9, 7, 3, 10, 7, 7, 8, 11, 7, 6, 11, 7, 9, 7, 7, 13, 10, 7, 6, 8, 10, 4, 6, 9, 11, 7, 7, 10, 7, 13, 5, 6, 10, 4, 6, 5, 4, 8, 3, 10, 9, 9, 6, 7, 7, 14, 5, 5, 6, 12, 12, 4, 5, 5, 8, 8, 8, 6, 9, 6, 8, 8, 8, 6, 12, 5, 10, 5, 9, 5, 11, 9, 14, 6, 7, 9, 4, 12, 8, 8, 12, 8, 8, 4, 11, 7, 9, 8, 11, 7, 6, 6, 4, 4, 9, 4, 9, 8, 6, 7, 4, 2, 4, 8, 11, 9, 7, 9, 10, 6, 8, 5, 6, 7, 5, 7, 10, 6, 4, 7, 11, 7, 9, 8, 8, 7, 7, 12, 5, 8, 9, 8, 10, 6, 7, 8, 6, 11, 8, 6, 10, 10, 4, 12, 10, 5, 6, 8, 6, 8, 4, 8, 5, 9, 9, 7, 8, 7, 8, 11, 7, 8, 6, 6, 7, 4, 6, 5, 10, 5, 9, 6, 11, 8, 11, 7, 8, 8, 11, 7, 11, 8, 8, 8, 5, 8, 8, 9, 6, 9, 10, 8, 8, 10, 4, 5, 8, 5, 10, 5, 6, 10, 13, 6, 7, 7, 6, 7, 6, 8, 11, 10, 8, 7, 6, 7, 3, 6, 6, 11, 7, 16, 11, 8, 6, 5, 7, 12, 10, 8, 10, 7, 7, 7, 4, 7, 7, 11, 12, 6, 4, 9, 6, 10, 12, 4, 7, 10, 6, 3, 9, 7, 8, 10, 5, 12, 6, 11, 8, 9, 8, 9, 9, 8, 10, 7, 13, 7, 3, 9, 9, 8, 6, 10, 7, 8, 9, 3, 9, 7, 10, 11, 17, 7, 3, 8, 8, 9, 10, 8, 13, 4, 12, 12, 6, 6, 14, 10, 11, 11, 9, 10, 11, 6, 8, 7, 7, 9, 8, 10, 9, 4, 8, 7, 6, 7, 10, 10, 7, 8, 9, 7, 11, 8, 9, 9, 7, 10, 5, 7, 13, 7, 7, 8, 7, 8, 4, 6, 6, 6, 6, 6, 8, 10, 8, 9, 7, 6, 3, 4, 7, 6, 12, 6, 9, 8, 8, 5, 7, 10, 11, 6, 3, 4, 12, 7, 6, 5, 7, 7, 6, 7, 7, 3, 7, 10, 4, 4, 8, 6, 8, 6, 5, 9, 6, 2, 4, 9, 12, 7, 9, 9, 6, 10, 10, 11, 3, 8, 13, 10, 7, 9, 7, 7, 7, 8, 9, 10, 8, 9, 8, 7, 6, 7, 8, 6, 9, 9, 11, 12, 5, 11, 7, 7, 8, 9, 6, 8, 10, 11, 8, 11, 5, 8, 8, 5, 9, 9, 9, 6, 7, 11, 5, 7, 12, 7, 9, 8, 7, 8, 6, 7, 10, 8, 5, 8, 5, 9, 5, 8, 7, 6, 8, 10, 7, 7, 4, 10, 11, 8, 10, 3, 9, 9, 3, 3, 7, 7, 11, 7, 6, 9, 13, 11, 4, 6, 5, 4, 8, 11, 12, 7, 7, 10, 7, 5, 8, 11, 9, 5, 6, 7, 12, 8, 4, 5, 10, 12, 4, 7, 5, 7, 9, 8, 8, 12, 8, 11, 6, 11, 3, 13, 5, 4, 6, 4, 8, 6, 5, 11, 9, 6, 5, 5, 6, 7, 6, 4, 12, 5, 7, 9, 8, 5, 6, 6, 8, 8, 9, 9, 7, 7, 8, 10, 7, 12, 5, 3, 7, 6, 7, 9, 11, 11, 4, 6, 7, 12, 12, 7, 6, 7, 11, 7, 10, 5, 13, 6, 4, 11, 10, 6, 6, 8, 6, 4, 8, 8, 10, 5, 7, 7, 9, 6, 8, 13, 7, 8, 12, 9, 5, 9, 6, 3, 9, 12, 6, 11, 9, 6, 8, 6, 8, 8, 10, 9, 7, 12, 13, 8, 10, 11, 6, 4, 13, 11, 6, 8, 10, 3, 5, 7, 14, 8, 7, 4, 4, 8, 7, 10, 11, 11, 7, 8, 9, 7, 12, 6, 6, 14, 8, 11, 12, 10, 7, 5, 5, 11, 9, 10, 8, 4, 11, 6, 11, 6, 7, 10, 7, 7, 10, 4, 5, 8, 10, 8, 5, 10, 8, 8, 6, 5, 11, 9, 4, 9, 7, 10, 9, 7, 5, 10, 7, 9, 10, 5, 10, 6, 4, 6, 10, 6, 11, 6, 15, 7, 6, 7, 8, 8, 10, 5, 5, 9, 7, 14, 9, 7, 6, 11, 7, 6, 7, 9, 7, 11, 6, 12, 8, 4, 7, 8, 6, 4, 7, 10, 8, 14, 9, 5, 5, 7, 9, 8, 8, 8, 6, 7, 7, 7, 7, 10, 12, 9, 6, 8, 8, 11, 7, 6, 7, 5, 6, 5, 8, 7, 9, 5, 5, 8, 6, 9, 9, 6, 7, 5, 6, 8, 7, 9, 10, 9, 10, 6, 5, 9, 7, 5, 7, 5, 7, 4, 5, 9, 7, 4, 15, 8, 6, 8, 7, 12, 8, 9, 10, 7, 5, 9, 5, 9, 11, 4, 6, 9, 10, 7, 4, 8, 6, 9, 6, 11, 9, 8, 9, 13, 5, 9, 6, 6, 8, 11, 4, 6, 5, 8, 10, 9, 8, 6, 5, 8, 11, 9, 4, 8, 10, 10, 7, 7, 5, 14, 11, 9, 14, 7, 7, 5, 11, 11, 8, 5, 6, 6, 6, 6, 9, 5, 9, 4, 10, 8, 5, 10, 9, 9, 10, 8, 11, 9, 14, 9, 9, 9, 5, 4, 7, 11, 9, 6, 11, 9, 9, 11, 5, 9, 7, 12, 14, 7, 10, 7, 6, 10, 7, 4, 9, 4, 11, 7, 7, 7, 8, 7, 7, 9, 7, 7, 11, 9, 6, 7, 7, 4, 8, 9, 5, 9, 6, 11, 10, 8, 10, 8, 5, 9, 10, 11, 9, 10, 7, 9, 12, 11, 12, 7, 8, 7, 5, 5, 3, 12, 15, 6, 4, 7, 14, 7, 4, 8, 8, 6, 6, 8, 8, 11, 6, 7, 7, 7, 6, 5, 10, 8, 10, 4, 9, 7, 4, 7, 9, 7, 11, 5, 10, 5, 4, 12, 14, 7, 10, 4, 15, 8, 6, 9, 13, 9, 10, 7, 8, 6, 6, 8, 6, 4, 7, 6, 8, 8, 3, 7, 13, 3, 11, 9, 8, 8, 5, 3, 6, 10, 13, 7, 8, 8, 4, 7, 11, 10, 6, 7, 4, 4, 12, 9, 10, 10, 11, 10, 6, 4, 7, 10, 5, 4, 7, 6, 10, 10, 7, 10, 10, 8, 9, 4, 5, 7, 13, 7, 7, 7, 11, 5, 10, 8, 6, 7, 10, 5, 11, 9, 9, 8, 13, 5, 6, 11, 8, 9, 7, 4, 5, 10, 10, 6, 10, 7, 8, 6, 6, 7, 10, 7, 8, 9, 8, 10, 8, 14, 10, 4, 11, 11, 10, 12, 7, 6, 8, 7, 8, 6, 6, 5, 7, 5, 15, 10, 8, 6, 8, 7, 10, 9, 7, 11, 10, 10, 6, 6, 6, 9, 11, 6, 9, 3, 10, 4, 8, 8, 9, 3, 5, 10, 15, 6, 10, 7, 5, 8, 10, 11, 8, 8, 7, 10, 5, 7, 10, 9, 4, 6, 12, 8, 7, 11, 10, 6, 7, 6, 6, 5, 5, 5, 12, 8, 10, 6, 6, 6, 11, 4, 8, 8, 7, 11, 10, 8, 12, 6, 13, 11, 6, 8, 5, 12, 8, 4, 8, 7, 6, 7, 11, 6, 9, 8, 6, 9, 4, 9, 8, 11, 8, 8, 8, 10, 5, 9, 5, 5, 11, 5, 6, 8, 9, 9, 5, 7, 8, 7, 12, 6, 8, 12, 8, 5, 9, 8, 12, 6, 11, 4, 7, 6, 9, 5, 8, 6, 7, 6, 6, 10, 4, 6, 7, 7, 7, 6, 10, 8, 7, 6, 11, 9, 5, 6, 9, 10, 10, 5, 4, 8, 8, 8, 7, 9, 7, 16, 5, 6, 6, 6, 8, 9, 6, 8, 10, 4, 14, 11, 5, 5, 14, 10, 9, 14, 7, 6, 10, 6, 9, 10, 8, 5, 6, 14, 8, 3, 6, 6, 7, 13, 4, 8, 13, 6, 5, 10, 14, 9, 7, 6, 8, 11, 5, 5, 4, 9, 8, 8, 9, 11, 6, 9, 7, 9, 8, 9, 9, 6, 6, 5, 4, 4, 5, 6, 7, 8, 9, 5, 7, 9, 12, 7, 11, 7, 6, 8, 9, 7, 8, 9, 7, 7, 7, 8, 5, 5, 3, 5, 7, 9, 7, 16, 5, 9, 9, 6, 5, 8, 7, 6, 6, 9, 5, 6, 10, 10, 6, 10, 6, 5, 8, 7, 12, 5, 5, 6, 10, 6, 5, 5, 7, 9, 13, 8, 6, 10, 8, 9, 8, 4, 3, 8, 6, 9, 4, 11, 8, 7, 8, 11, 9, 4, 6, 11, 11, 5, 6, 9, 6, 5, 7, 3, 5, 7, 5, 8, 6, 9, 6, 7, 3, 11, 8, 12, 14, 7, 9, 6, 8, 7, 9, 4, 9, 8, 9, 13, 5, 9, 9, 10, 12, 9, 7, 6, 7, 9, 11, 7, 9, 8, 10, 8, 7, 9, 6, 5, 8, 8, 5, 10, 8, 9, 6, 8, 2, 6, 9, 9, 7, 6, 11, 13, 6, 12, 8, 8, 7, 12, 9, 6, 6, 10, 5, 6, 7, 7, 10, 6, 9, 5, 5, 8, 10, 5, 8, 6, 5, 6, 10, 7, 10, 10, 6, 5, 7, 6, 6, 7, 8, 4, 6, 9, 7, 5, 7, 8, 11, 6, 8, 9, 9, 7, 9, 8, 9, 9, 7, 6, 7, 10, 6, 5, 6, 5, 7, 7, 11, 11, 5, 7, 4, 9, 7, 10, 7, 10, 5, 11, 5, 10, 7, 11, 11, 6, 12, 14, 6, 8, 5, 11, 8, 4, 5, 11, 13, 6, 9, 6, 8, 6, 7, 10, 6, 5, 5, 3, 6, 6, 11, 2, 11, 4, 3, 5, 9, 16, 7, 7, 4, 4, 12, 5, 10, 8, 11, 9, 10, 7, 7, 9, 9, 10, 9, 6, 5, 5, 7, 12, 5, 6, 6, 11, 10, 7, 8, 6, 5, 6, 8, 4, 5, 10, 5, 4, 7, 5, 6, 7, 7, 15, 6, 5, 8, 6, 6, 11, 12, 5, 10, 8, 7, 5, 11, 9, 11, 8, 2, 7, 11, 11, 7, 4, 8, 6, 11, 7, 9, 8, 9, 6, 6, 7, 12, 7, 7, 10, 7, 7, 9, 9, 4, 13, 10, 4, 11, 6, 7, 5, 7, 5, 12, 11, 7, 5, 9, 10, 4, 10, 9, 5, 8, 9, 8, 6, 6, 11, 4, 5, 8, 9, 5, 8, 8, 6, 7, 5, 10, 11, 9, 9, 8, 3, 7, 6, 3, 9, 8, 9, 9, 7, 4, 6, 6, 6, 11, 10, 3, 10, 4, 7, 3, 8, 13, 6, 9, 8, 8, 7, 8, 7, 8, 15, 6, 11, 12, 9, 5, 11, 9, 9, 8, 5, 8, 3, 9, 5, 5, 7, 6, 8, 7, 9, 12, 5, 5, 9, 5, 13, 6, 8, 10, 9, 11, 7, 9, 8, 8, 3, 10, 2, 5, 8, 8, 7, 3, 9, 10, 8, 11, 6, 8, 10, 8, 6, 10, 6, 5, 11, 3, 9, 8, 10, 11, 7, 9, 6, 3, 7, 5, 8, 5, 8, 11, 10, 11, 5, 4, 8, 5, 10, 10, 9, 13, 8, 6, 8, 10, 3, 6, 11, 3, 8, 10, 9, 2, 8, 15, 11, 10, 13, 5, 13, 8, 6, 6, 9, 11, 6, 6, 8, 5, 10, 5, 4, 10, 7, 11, 5, 12, 8, 4, 8, 5, 8, 5, 7, 11, 11, 8, 11, 8, 9, 8, 5, 6, 9, 5, 15, 9, 6, 10, 8, 8, 2, 9, 7, 6, 5, 12, 11, 9, 11, 5, 7, 13, 6, 3, 6, 10, 5, 6, 7, 5, 8, 7, 7, 6, 10, 11, 9, 7, 7, 6, 9, 16, 8, 9, 6, 7, 7, 7, 8, 12, 9, 10, 9, 5, 7, 9, 9, 8, 6, 7, 10, 8, 5, 5, 7, 10, 5, 6, 5, 8, 7, 7, 5, 10, 9, 11, 14, 5, 9, 7, 7, 9, 7, 8, 7, 8, 6, 8, 5, 8, 10, 8, 8, 6, 9, 5, 3, 7, 6, 7, 8, 12, 7, 8, 4, 8, 12, 7, 8, 5, 5, 5, 8, 12, 8, 4, 7, 5, 5, 8, 13, 5, 5, 15, 7, 7, 6, 13, 11, 9, 9, 8, 6, 10, 5, 9, 9, 8, 7, 7, 9, 6, 9, 6, 8, 5, 8, 8, 11, 9, 4, 8, 8, 8, 10, 4, 9, 10, 5, 9, 10, 5, 8, 9, 8, 5, 9, 5, 4, 7, 6, 8, 7, 7, 11, 7, 10, 7, 10, 9, 4, 7, 6, 8, 6, 10, 7, 8, 7, 7, 7, 10, 7, 9, 6, 5, 3, 7, 8, 11, 6, 13, 8, 11, 5, 7, 5, 8, 11, 5, 7, 15, 13, 10, 9, 6, 7, 9, 10, 9, 7, 9, 4, 10, 4, 9, 4, 11, 11, 4, 6, 6, 10, 6, 7, 6, 13, 7, 9, 9, 6, 10, 5, 7, 8, 5, 7, 7, 10, 9, 6, 6, 9, 4, 7, 9, 10, 6, 9, 6, 5, 10, 7, 9, 8, 5, 5, 7, 6, 5, 6, 11, 4, 6, 12, 9, 7, 13, 5, 13, 7, 11, 14, 7, 9, 6, 5, 9, 10, 5, 10, 9, 7, 10, 6, 6, 11, 8, 9, 4, 6, 9, 3, 6, 12, 10, 3, 8, 4, 11, 10, 9, 9, 9, 7, 11, 6, 8, 5, 3, 10, 12, 9, 7, 5, 4, 8, 7, 8, 6, 10, 5, 5, 7, 12, 7, 12, 13, 7, 11, 7, 12, 17, 6, 10, 6, 6, 5, 8, 10, 9, 8, 5, 5, 5, 8, 7, 11, 12, 6, 4, 3, 10, 8, 8, 6, 6, 7, 7, 6, 10, 9, 9, 5, 10, 9, 4, 9, 10, 8, 6, 6, 4, 8, 14, 5, 5, 8, 10, 7, 7, 9, 9, 7, 9, 7, 6, 8, 9, 10, 10, 8, 11, 6, 6, 10, 8, 8, 7, 8, 12, 11, 7, 8, 7, 9, 11, 8, 9, 4, 6, 8, 6, 10, 7, 5, 9, 7, 11, 5, 8, 8, 6, 10, 3, 10, 11, 11, 5, 6, 6, 10, 15, 6, 9, 11, 7, 6, 10, 8, 4, 8, 5, 10, 9, 7, 12, 4, 6, 4, 12, 5, 9, 7, 10, 8, 5, 6, 4, 9, 4, 10, 7, 7, 8, 9, 7, 4, 4, 3, 7, 4, 4, 6, 9, 7, 8, 9, 7, 12, 11, 13, 6, 4, 6, 9, 8, 8, 5, 8, 7, 10, 8, 8, 9, 9, 5, 7, 6, 12, 10, 10, 5, 6, 7, 8, 9, 7, 7, 10, 6, 7, 3, 8, 7, 8, 4, 10, 8, 5, 8, 5, 9, 8, 10, 9, 9, 6, 9, 8, 6, 9, 10, 12, 7, 8, 8, 9, 9, 10, 11, 11, 9, 6, 6, 9, 9, 9, 7, 5, 7, 6, 8, 13, 7, 6, 9, 7, 8, 10, 7, 5, 10, 8, 9, 7, 5, 8, 6, 7, 12, 9, 7, 4, 5, 8, 8, 9, 5, 6, 7, 5, 9, 6, 5, 4, 9, 4, 9, 6, 4, 7, 5, 5, 2, 11, 9, 8, 11, 10, 9, 8, 7, 12, 11, 8, 12, 7, 7, 8, 7, 7, 6, 5, 10, 8, 10, 3, 6, 12, 10, 11, 5, 9, 8, 3, 11, 7, 8, 4, 5, 6, 7, 12, 7, 5, 9, 7, 5, 13, 6, 7, 8, 6, 6, 6, 6, 8, 6, 5, 11, 7, 11, 8, 8, 4, 7, 12, 9, 8, 10, 5, 9, 7, 12, 5, 5, 11, 6, 6, 9, 12, 6, 10, 13, 5, 11, 11, 10, 6, 8, 5, 7, 8, 8, 11, 7, 8, 8, 7, 6, 9, 3, 5, 5, 7, 3, 6, 13, 13, 8, 4, 7, 5, 8, 7, 11, 5, 7, 7, 6, 9, 5, 10, 9, 4, 10, 6, 7, 4, 10, 10, 9, 6, 6, 6, 9, 7, 8, 8, 8, 13, 9, 9, 5, 7, 11, 7, 7, 5, 8, 4, 6, 12, 6, 10, 7, 3, 3, 9, 9, 10, 9, 5, 11, 11, 6, 12, 5, 8, 13, 5, 11, 5, 11, 8, 3, 7, 8, 8, 5, 7, 5, 7, 6, 8, 9, 9, 6, 8, 8, 3, 11, 8, 9, 14, 8, 4, 10, 7, 9, 8, 9, 7, 7, 6, 7, 6, 9, 6, 5, 12, 5, 5, 6, 9, 5, 5, 6, 9, 11, 6, 6, 11, 8, 6, 12, 9, 9, 4, 4, 7, 5, 6, 8, 9, 10, 8, 7, 7, 8, 7, 9, 13, 7, 12, 11, 7, 8, 10, 6, 10, 5, 7, 10, 9, 10, 9, 11, 3, 5, 10, 7, 11, 8, 9, 6, 5, 4, 10, 5, 8, 9, 9, 5, 8, 4, 6, 5, 8, 6, 6, 10, 9, 8, 6, 7, 11, 6, 7, 8, 8, 10, 11, 9, 4, 14, 8, 5, 5, 3, 6, 10, 10, 8, 10, 8, 5, 9, 7, 11, 5, 6, 12, 8, 9, 8, 9, 6, 6, 4, 10, 9, 11, 6, 7, 4, 7, 12, 11, 7, 12, 6, 7, 8, 7, 8, 7, 6, 10, 7, 4, 6, 7, 8, 9, 8, 6, 6, 9, 5, 8, 9, 8, 4, 7, 12, 8, 9, 9, 11, 7, 8, 7, 13, 7, 7, 7, 7, 8, 7, 10, 5, 6, 5, 7, 8, 7, 8, 8, 11, 8, 9, 7, 6, 11, 7, 7, 5, 7, 9, 5, 11, 6, 8, 7, 6, 5, 10, 6, 17, 9, 4, 4, 8, 8, 8, 7, 5, 7, 6, 9, 11, 10, 10, 5, 8, 11, 5, 7, 9, 14, 9, 9, 5, 8, 8, 11, 10, 6, 6, 8, 5, 5, 6, 7, 6, 11, 13, 14, 6, 10, 5, 6, 9, 7, 9, 7, 8, 10, 9, 10, 8, 9, 6, 11, 8, 6, 10, 11, 6, 9, 9, 10, 6, 7, 5, 9, 11, 8, 10, 2, 8, 7, 10, 4, 7, 9, 4, 5, 10, 5, 8, 11, 5, 3, 6, 6, 8, 7, 10, 6, 12, 5, 7, 9, 7, 7, 6, 7, 6, 13, 10, 6, 5, 2, 3, 8, 7, 5, 5, 8, 5, 5, 13, 6, 9, 8, 7, 12, 8, 5, 14, 8, 5, 14, 9, 8, 6, 6, 5, 5, 6, 6, 8, 5, 12, 12, 8, 7, 10, 9, 8, 5, 10, 5, 9, 8, 11, 9, 5, 7, 10, 7, 6, 7, 12, 7, 6, 12, 7, 7, 5, 5, 8, 8, 10, 4, 11, 8, 6, 14, 10, 7, 8, 7, 5, 4, 5, 6, 6, 7, 13, 5, 7, 13, 5, 6, 6, 8, 8, 7, 12, 9, 12, 8, 12, 10, 7, 8, 8, 6, 8, 4, 5, 7, 9, 5, 8, 3, 7, 2, 11, 8, 7, 10, 9, 11, 8, 5, 10, 8, 5, 7, 6, 11, 4, 11, 7, 6, 8, 5, 10, 5, 9, 5, 10, 8, 8, 7, 11, 6, 7, 5, 11, 7, 6, 11, 7, 12, 5, 8, 10, 6, 6, 8, 7, 6, 14, 7, 7, 10, 4, 13, 8, 5, 11, 11, 10, 11, 5, 10, 8, 6, 6, 10, 11, 11, 5, 13, 5, 10, 5, 9, 8, 8, 5, 7, 9, 7, 5, 6, 8, 7, 12, 3, 11, 9, 2, 11, 11, 5, 8, 6, 10, 11, 7, 6, 8, 7, 5, 10, 7, 13, 6, 7, 11, 8, 8, 10, 4, 10, 9, 10, 11, 6, 6, 11, 6, 12, 9, 12, 7, 7, 4, 5, 3, 4, 5, 10, 10, 6, 8, 8, 9, 6, 9, 8, 6, 6, 8, 6, 10, 9, 7, 7, 8, 8, 7, 9, 10, 8, 4, 7, 7, 9, 8, 7, 5, 6, 7, 7, 6, 9, 5, 6, 8, 5, 12, 8, 7, 10, 5, 5, 6, 11, 6, 6, 10, 6, 7, 17, 2, 11, 6, 5, 4, 13, 9, 11, 9, 11, 11, 7, 7, 9, 10, 12, 5, 11, 5, 8, 11, 9, 8, 7, 5, 12, 7, 4, 7, 11, 6, 5, 4, 12, 5, 4, 3, 9, 5, 5, 10, 7, 5, 9, 7, 11, 6, 8, 8, 13, 6, 8, 11, 8, 5, 11, 6, 6, 8, 12, 2, 10, 11, 8, 5, 3, 6, 5, 10, 6, 6, 11, 8, 5, 13, 8, 6, 8, 6, 10, 7, 10, 5, 6, 8, 9, 5, 5, 10, 4, 12, 12, 10, 10, 11, 4, 7, 8, 7, 8, 7, 6, 5, 5, 6, 10, 11, 8, 6, 7, 8, 8, 11, 10, 6, 8, 11, 9, 5, 5, 12, 6, 7, 11, 5, 6, 10, 11, 8, 8, 6, 8, 4, 10, 7, 9, 4, 8, 7, 7, 8, 10, 10, 6, 8, 9, 9, 7, 6, 5, 6, 7, 7, 12, 8, 8, 13, 9, 7, 6, 7, 4, 8, 8, 5, 9, 11, 13, 13, 12, 2, 7, 10, 9, 7, 8, 8, 10, 10, 7, 6, 10, 4, 11, 12, 9, 9, 4, 8, 7, 10, 4, 7, 7, 5, 6, 9, 8, 8, 11, 10, 11, 6, 6, 7, 3, 10, 11, 12, 12, 10, 6, 6, 5, 7, 5, 10, 7, 5, 5, 8, 11, 8, 10, 9, 6, 8, 9, 5, 7, 5, 4, 6, 6, 6, 5, 3, 6, 6, 10, 6, 6, 8, 7, 6, 12, 8, 7, 6, 9, 9, 5, 5, 14, 13, 13, 5, 10, 11, 9, 6, 7, 4, 5, 6, 7, 2, 9, 7, 6, 9, 6, 5, 7, 6, 8, 6, 11, 6, 6, 11, 8, 9, 8, 5, 7, 8, 12, 5, 9, 11, 6, 6, 5, 3, 11, 5, 6, 8, 8, 6, 5, 13, 9, 6, 6, 9, 8, 11, 6, 8, 8, 6, 5, 10, 10, 10, 9, 6, 11, 4, 5, 7, 5, 12, 9, 10, 6, 4, 11, 7, 4, 7, 6, 10, 5, 6, 11, 7, 9, 6, 7, 7, 14, 8, 8, 5, 5, 4, 4, 9, 6, 9, 9, 4, 9, 6, 8, 6, 10, 7, 11, 11, 8, 7, 8, 9, 10, 5, 10, 7, 4, 9, 14, 8, 4, 5, 6, 8, 6, 5, 7, 4, 2, 6, 8, 9, 10, 5, 12, 6, 6, 7, 10, 10, 7, 4, 11, 5, 9, 11, 6, 6, 11, 8, 7, 10, 5, 11, 9, 7, 11, 6, 12, 5, 7, 8, 2, 6, 10, 6, 5, 6, 7, 7, 6, 7, 8, 10, 12, 13, 8, 9, 8, 5, 6, 7, 6, 5, 7, 9, 6, 15, 6, 5, 4, 8, 13, 6, 11, 4, 4, 7, 7, 8, 12, 10, 11, 8, 7, 7, 10, 7, 6, 10, 4, 6, 11, 7, 10, 6, 13, 6, 10, 6, 10, 10, 4, 5, 7, 7, 7, 8, 5, 13, 10, 5, 5, 10, 9, 7, 5, 10, 8, 6, 5, 10, 7, 8, 8, 11, 7, 9, 6, 7, 11, 6, 3, 8, 5, 7, 3, 10, 5, 9, 8, 8, 6, 3, 5, 10, 6, 6, 5, 5, 9, 7, 9, 6, 5, 5, 7, 4, 6, 12, 6, 9, 8, 5, 10, 7, 5, 7, 6, 5, 7, 10, 12, 8, 10, 8, 7, 7, 4, 7, 9, 12, 12, 10, 6, 3, 4, 4, 8, 5, 12, 6, 8, 6, 8, 3, 11, 12, 5, 9, 8, 8, 9, 10, 8, 5, 5, 9, 5, 6, 4, 8, 12, 10, 8, 5, 7, 11, 6, 8, 5, 8, 4, 8, 15, 8, 9, 5, 8, 5, 13, 4, 8, 5, 5, 7, 6, 9, 9, 7, 15, 4, 5, 10, 8, 6, 12, 7, 9, 7, 9, 12, 4, 4, 9, 9, 5, 3, 15, 7, 11, 4, 8, 10, 12, 6, 10, 8, 3, 5, 7, 8, 8, 9, 7, 7, 4, 7, 6, 6, 7, 8, 11, 8, 4, 4, 2, 8, 8, 4, 6, 7, 7, 8, 8, 8, 11, 8, 4, 8, 9, 8, 6, 9, 6, 5, 7, 5, 7, 11, 8, 11, 6, 10, 10, 7, 4, 6, 11, 5, 15, 8, 8, 8, 4, 8, 12, 11, 4, 13, 9, 8, 7, 11, 8, 8, 8, 6, 9, 6, 9, 11, 4, 5, 9, 11, 8, 4, 7, 10, 9, 8, 10, 6, 9, 5, 5, 3, 5, 5, 7, 7, 5, 5, 4, 10, 7, 4, 10, 9, 3, 10, 5, 6, 7, 8, 4, 9, 11, 4, 15, 10, 7, 6, 10, 8, 8, 10, 15, 8, 10, 8, 5, 10, 6, 7, 5, 6, 7, 7, 8, 6, 8, 8, 6, 6, 5, 6, 5, 6, 9, 7, 7, 5, 6, 7, 5, 7, 5, 9, 7, 5, 9, 4, 9, 8, 8, 8, 7, 6, 8, 8, 6, 4, 11, 7, 7, 11, 9, 9, 4, 15, 9, 5, 7, 5, 11, 6, 8, 6, 6, 6, 9, 8, 11, 8, 4, 9, 10, 6, 8, 10, 10, 6, 12, 12, 6, 7, 9, 10, 9, 3, 4, 7, 9, 5, 8, 8, 8, 7, 6, 5, 6, 11, 9, 6, 5, 6, 7, 7, 4, 10, 9, 10, 7, 9, 4, 6, 5, 5, 4, 9, 7, 11, 7, 11, 7, 6, 6, 8, 6, 7, 5, 7, 11, 8, 10, 10, 5, 7, 10, 3, 6, 3, 9, 5, 5, 6, 12, 7, 5, 6, 7, 4, 7, 9, 6, 7, 6, 10, 9, 7, 9, 9, 9, 7, 9, 12, 8, 8, 5, 7, 7, 8, 8, 5, 12, 13, 11, 5, 10, 6, 11, 4, 6, 10, 9, 11, 10, 12, 10, 9, 10, 7, 5, 18, 7, 3, 10, 11, 8, 8, 7, 7, 9, 9, 10, 12, 8, 7, 7, 7, 7, 6, 11, 4, 7, 10, 6, 11, 8, 5, 9, 9, 7, 8, 7, 9, 3, 7, 8, 9, 8, 8, 9, 10, 10, 12, 12, 11, 9, 8, 5, 7, 15, 7, 7, 10, 8, 6, 10, 6, 6, 12, 5, 3, 5, 7, 5, 8, 11, 11, 8, 11, 8, 6, 12, 8, 7, 7, 6, 4, 6, 7, 7, 12, 9, 6, 9, 11, 8, 10, 6, 5, 6, 5, 10, 6, 15, 9, 12, 15, 6, 3, 4, 5, 11, 6, 11, 8, 6, 6, 10, 5, 9, 12, 3, 5, 10, 4, 7, 7, 8, 9, 11, 11, 9, 8, 8, 13, 11, 6, 6, 8, 11, 15, 5, 9, 11, 10, 5, 7, 13, 9, 9, 3, 3, 3, 8, 11, 8, 4, 11, 7, 7, 8, 5, 9, 4, 7, 10, 4, 10, 6, 7, 8, 7, 7, 6, 5, 14, 13, 11, 13, 10, 5, 9, 6, 5, 9, 9, 7, 7, 8, 5, 7, 5, 11, 4, 6, 8, 5, 9, 10, 6, 6, 8, 8, 4, 9, 5, 4, 10, 9, 8, 7, 7, 6, 12, 5, 7, 11, 8, 8, 7, 9, 5, 12, 10, 5, 8, 4, 10, 7, 11, 7, 9, 9, 6, 9, 6, 11, 3, 4, 9, 3, 7, 7, 8, 5, 9, 5, 6, 7, 8, 4, 6, 8, 5, 6, 7, 7, 10, 8, 12, 6, 9, 9, 14, 8, 6, 10, 7, 7, 6, 9, 9, 4, 10, 5, 6, 5, 7, 7, 7, 8, 6, 8, 4, 6, 12, 8, 6, 8, 9, 10, 7, 6, 6, 7, 9, 9, 4, 6, 6, 11, 11, 7, 8, 7, 7, 7, 5, 6, 8, 8, 12, 6, 8, 9, 10, 8, 8, 8, 10, 12, 7, 5, 10, 2, 6, 7, 11, 9, 7, 8, 12, 7, 8, 8, 4, 9, 8, 2, 7, 10, 7, 9, 8, 7, 7, 6, 9, 7, 6, 9, 6, 9, 6, 7, 11, 13, 6, 2, 5, 7, 8, 7, 8, 5, 9, 5, 7, 4, 8, 7, 8, 7, 13, 6, 8, 6, 5, 14, 9, 12, 3, 7, 6, 7, 4, 5, 6, 8, 6, 11, 4, 13, 5, 4, 7, 9, 9, 7, 8, 5, 9, 6, 9, 9, 11, 5, 4, 5, 7, 10, 9, 8, 3, 4, 10, 7, 5, 7, 11, 7, 7, 6, 2, 5, 5, 8, 4, 6, 6, 7, 9, 6, 9, 6, 7, 7, 8, 7, 7, 4, 4, 7, 8, 13, 5, 10, 7, 13, 9, 11, 9, 5, 5, 5, 8, 13, 4, 8, 6, 7, 8, 9, 14, 11, 7, 7, 8, 8, 4, 8, 8, 7, 8, 11, 11, 6, 14, 7, 4, 5, 5, 9, 8, 15, 8, 7, 13, 9, 7, 12, 12, 10, 6, 7, 9, 4, 9, 9, 7, 7, 8, 12, 12, 8, 7, 7, 10, 7, 11, 12, 9, 5, 5, 7, 8, 8, 5, 16, 5, 10, 5, 7, 7, 5, 9, 7, 10, 6, 5, 8, 8, 8, 5, 5, 7, 5, 3, 5, 11, 5, 7, 7, 8, 11, 11, 4, 7, 6, 10, 5, 7, 13, 3, 8, 9, 8, 12, 6, 5, 8, 6, 11, 8, 15, 9, 9, 8, 8, 12, 11, 4, 8, 11, 9, 8, 6, 7, 6, 5, 5, 12, 13, 11, 8, 10, 6, 10, 11, 5, 12, 9, 8, 5, 4, 5, 10, 10, 12, 5, 6, 3, 10, 6, 5, 4, 4, 12, 10, 6, 7, 5, 6, 4, 6, 9, 8, 9, 7, 5, 6, 8, 10, 9, 12, 9, 9, 4, 11, 12, 11, 6, 11, 10, 12, 8, 7, 8, 10, 14, 9, 7, 5, 9, 6, 13, 5, 6, 7, 5, 6, 8, 6, 7, 7, 8, 5, 5, 6, 13, 4, 10, 5, 4, 9, 10, 7, 7, 6, 6, 11, 7, 9, 8, 10, 9, 7, 9, 8, 10, 4, 11, 10, 8, 3, 11, 5, 4, 4, 9, 6, 13, 9, 5, 9, 6, 9, 5, 11, 11, 5, 6, 5, 10, 7, 12, 7, 9, 7, 7, 5, 11, 10, 7, 9, 11, 6, 5, 5, 8, 9, 11, 7, 7, 7, 13, 7, 7, 11, 4, 10, 2, 10, 12, 4, 10, 7, 15, 6, 16, 13, 10, 5, 3, 8, 6, 8, 7, 9, 7, 7, 9, 6, 10, 8, 12, 5, 9, 8, 5, 5, 5, 11, 9, 8, 12, 10, 2, 5, 11, 6, 3, 8, 9, 7, 10, 10, 10, 7, 7, 16, 7, 6, 8, 6, 5, 8, 6, 5, 9, 8, 6, 6, 9, 7, 7, 8, 9, 10, 10, 11, 5, 7, 6, 7, 5, 8, 13, 7, 11, 6, 8, 6, 9, 6, 5, 11, 7, 3, 8, 5, 6, 6, 7, 10, 4, 8, 7, 4, 4, 8, 8, 3, 6, 6, 7, 7, 9, 5, 5, 9, 11, 4, 11, 11, 9, 11, 8, 11, 8, 10, 12, 9, 10, 6, 10, 5, 2, 3, 6, 4, 7, 7, 10, 5, 6, 6, 7, 10, 5, 9, 8, 11, 6, 8, 7, 9, 9, 6, 9, 10, 11, 5, 7, 7, 6, 12, 7, 8, 7, 8, 3, 11, 8, 7, 11, 12, 6, 5, 10, 8, 7, 8, 10, 10, 5, 6, 11, 8, 11, 7, 5, 9, 9, 10, 11, 10, 10, 8, 8, 10, 10, 4, 6, 10, 7, 13, 7, 8, 10, 5, 9, 10, 3, 7, 12, 10, 11, 11, 6, 6, 8, 9, 8, 4, 9, 6, 9, 7, 14, 8, 5, 9, 8, 7, 5, 6, 8, 11, 8, 12, 10, 9, 8, 9, 7, 8, 8, 4, 3, 7, 6, 11, 6, 10, 6, 10, 7, 12, 7, 10, 4, 6, 10, 7, 10, 9, 8, 7, 4, 10, 10, 7, 8, 8, 6, 10, 6, 8, 10, 10, 6, 9, 6, 5, 10, 9, 7, 8, 4, 14, 4, 7, 6, 10, 5, 11, 9, 13, 7, 6, 9, 9, 10, 7, 7, 9, 5, 4, 8, 12, 4, 4, 7, 4, 13, 7, 6, 6, 12, 8, 7, 5, 5, 9, 5, 8, 8, 6, 8, 8, 6, 11, 6, 5, 6, 5, 5, 10, 8, 8, 6, 7, 10, 6, 9, 8, 8, 5, 7, 8, 6, 5, 11, 5, 7, 12, 6, 6, 7, 8, 6, 10, 5, 10, 9, 3, 7, 4, 7, 8, 7, 9, 11, 6, 8, 6, 8, 10, 9, 6, 7, 8, 10, 8, 3, 7, 10, 5, 13, 11, 6, 10, 8, 7, 8, 7, 12, 6, 9, 6, 7, 9, 8, 4, 8, 8, 9, 13, 8, 9, 12, 8, 7, 3, 7, 8, 9, 9, 8, 4, 4, 8, 6, 11, 15, 5, 4, 7, 12, 9, 7, 3, 5, 10, 10, 7, 13, 7, 4, 12, 10, 9, 4, 3, 13, 7, 12, 11, 6, 7, 4, 6, 7, 8, 8, 5, 10, 8, 10, 9, 5, 5, 9, 4, 9, 9, 7, 6, 7, 10, 9, 9, 4, 9, 8, 11, 4, 10, 8, 5, 5, 8, 10, 9, 8, 7, 8, 11, 7, 10, 7, 9, 9, 3, 7, 8, 11, 7, 6, 9, 9, 13, 10, 8, 7, 7, 5, 8, 7, 6, 5, 10, 6, 10, 3, 9, 5, 6, 17, 7, 7, 7, 7, 5, 9, 9, 7, 10, 12, 11, 4, 9, 10, 6, 8, 12, 8, 9, 10, 12, 7, 7, 6, 11, 6, 7, 7, 7, 5, 6, 7, 5, 4, 6, 9, 8, 16, 7, 11, 4, 7, 9, 4, 8, 10, 8, 8, 6, 9, 7, 8, 6, 9, 13, 3, 5, 11, 9, 8, 7, 6, 14, 8, 10, 11, 8, 10, 8, 4, 5, 8, 10, 5, 11, 5, 4, 11, 7, 6, 8, 6, 8, 4, 6, 10, 7, 7, 3, 2, 9, 11, 11, 11, 12, 4, 6, 4, 4, 10, 11, 7, 10, 6, 6, 4, 4, 7, 7, 6, 9, 13, 4, 5, 6, 9, 9, 9, 5, 9, 6, 9, 8, 12, 6, 8, 7, 7, 7, 6, 5, 10, 6, 11, 8, 6, 10, 8, 9, 8, 2, 4, 14, 9, 7, 7, 5, 3, 10, 6, 9, 8, 10, 3, 9, 6, 9, 7, 10, 10, 9, 11, 2, 5, 10, 6, 6, 11, 11, 3, 4, 7, 10, 9, 9, 5, 10, 7, 3, 7, 4, 5, 6, 5, 4, 9, 10, 7, 9, 9, 5, 9, 6, 8, 5, 5, 4, 4, 11, 7, 6, 9, 6, 9, 9, 5, 9, 6, 10, 10, 10, 11, 6, 6, 10, 5, 3, 6, 6, 13, 12, 6, 8, 6, 3, 11, 9, 7, 9, 14, 5, 6, 11, 7, 6, 7, 10, 5, 12, 9, 5, 9, 11, 6, 10, 6, 11, 9, 6, 8, 6, 9, 8, 7, 9, 8, 9, 7, 10, 6, 9, 11, 9, 4, 7, 8, 5, 6, 7, 6, 5, 6, 8, 6, 10, 6, 8, 9, 4, 5, 5, 10, 12, 6, 10, 7, 12, 4, 8, 8, 9, 6, 8, 12, 9, 4, 5, 5, 8, 9, 6, 8, 7, 7, 10, 11, 11, 9, 8, 5, 8, 12, 5, 9, 8, 5, 8, 8, 7, 12, 10, 10, 8, 7, 11, 9, 14, 7, 8, 9, 8, 8, 6, 8, 9, 10, 11, 6, 7, 6, 11, 12, 10, 6, 6, 11, 8, 8, 5, 6, 4, 8, 9, 6, 6, 11, 7, 12, 7, 5, 6, 9, 7, 7, 13, 4, 12, 10, 8, 9, 7, 6, 5, 8, 6, 6, 11, 8, 8, 7, 3, 10, 11, 5, 9, 13, 9, 8, 10, 6, 10, 12, 6, 10, 10, 5, 5, 11, 8, 4, 6, 14, 9, 11, 5, 8, 5, 7, 11, 5, 5, 2, 7, 7, 10, 5, 7, 8, 7, 7, 5, 5, 8, 5, 11, 11, 8, 6, 12, 11, 8, 7, 8, 3, 5, 4, 7, 4, 11, 12, 7, 9, 11, 7, 9, 4, 9, 4, 7, 11, 9, 8, 5, 5, 6, 8, 5, 6, 4, 10, 7, 6, 7, 6, 4, 14, 5, 7, 6, 7, 13, 5, 10, 6, 13, 11, 10, 10, 8, 9, 10, 12, 7, 10, 7, 8, 9, 7, 11, 5, 5, 5, 9, 8, 10, 8, 6, 5, 7, 7, 10, 4, 7, 7, 10, 3, 11, 7, 3, 5, 8, 6, 9, 9, 10, 9, 8, 3, 4, 4, 7, 11, 9, 4, 8, 8, 6, 12, 6, 6, 9, 7, 10, 11, 8, 7, 7, 12, 11, 7, 6, 13, 10, 5, 10, 6, 9, 13, 7, 10, 4, 6, 9, 9, 10, 6, 7, 11, 8, 10, 12, 8, 9, 7, 7, 8, 9, 7, 6, 8, 11, 7, 7, 8, 7, 6, 8, 10, 6, 7, 10, 8, 6, 8, 6, 7, 10, 6, 8, 10, 12, 5, 4, 9, 5, 7, 4, 10, 2, 6, 5, 11, 7, 5, 11, 9, 5, 8, 14, 8, 2, 11, 6, 9, 2, 7, 3, 8, 11, 7, 6, 6, 4, 13, 10, 10, 5, 7, 5, 10, 13, 7, 6, 6, 6, 10, 9, 7, 11, 11, 8, 5, 10, 6, 9, 12, 12, 8, 9, 9, 9, 5, 7, 7, 9, 10, 11, 5, 11, 6, 7, 4, 10, 9, 12, 9, 7, 6, 10, 6, 9, 8, 11, 8, 10, 7, 6, 4, 6, 12, 5, 2, 8, 14, 11, 10, 4, 8, 3, 9, 8, 6, 8, 6, 8, 8, 9, 7, 7, 10, 8, 10, 12, 7, 6, 2, 7, 9, 10, 6, 6, 6, 10, 8, 7, 5, 11, 8, 8, 11, 9, 5, 7, 12, 5, 6, 9, 7, 7, 8, 5, 7, 8, 7, 12, 9, 3, 4, 8, 9, 5, 8, 9, 8, 7, 11, 3, 9, 12, 6, 12, 9, 4, 9, 7, 5, 4, 4, 7, 11, 9, 10, 5, 8, 4, 7, 8, 10, 8, 8, 8, 4, 13, 8, 8, 8, 8, 6, 9, 4, 10, 6, 8, 8, 8, 7, 3, 12, 10, 8, 8, 12, 9, 14, 8, 8, 3, 4, 6, 9, 12, 10, 11, 6, 6, 5, 8, 13, 8, 12, 7, 9, 7, 2, 8, 5, 12, 4, 13, 8, 8, 9, 7, 5, 6, 6, 7, 7, 9, 11, 4, 6, 4, 7, 7, 9, 10, 5, 3, 16, 6, 8, 10, 6, 10, 6, 9, 7, 6, 6, 11, 10, 10, 7, 9, 11, 6, 4, 5, 11, 6, 10, 8, 9, 8, 10, 9, 3, 8, 5, 11, 5, 13, 7, 2, 6, 5, 8, 6, 6, 8, 7, 13, 12, 7, 4, 4, 8, 6, 7, 8, 7, 8, 6, 10, 10, 5, 12, 8, 5, 6, 3, 6, 9, 11, 10, 6, 9, 11, 9, 6, 5, 8, 8, 5, 5, 9, 7, 6, 8, 6, 14, 6, 13, 6, 9, 7, 5, 11, 4, 8, 7, 7, 5, 5, 6, 8, 9, 8, 4, 8, 8, 6, 9, 7, 6, 6, 9, 13, 6, 6, 5, 6, 9, 12, 9, 8, 13, 7, 13, 8, 7, 9, 8, 5, 9, 5, 6, 13, 11, 9, 9, 2, 5, 7, 6, 7, 8, 8, 10, 9, 11, 7, 8, 8, 6, 8, 4, 10, 10, 9, 6, 9, 5, 7, 13, 8, 8, 6, 9, 9, 11, 7, 5, 4, 11, 10, 5, 9, 7, 9, 4, 11, 5, 9, 5, 7, 6, 6, 7, 7, 7, 5, 7, 5, 7, 5, 7, 9, 5, 13, 6, 10, 10, 10, 10, 5, 7, 5, 11, 11, 8, 8, 9, 15, 9, 6, 11, 10, 8, 7, 3, 7, 6, 10, 11, 5, 8, 6, 9, 12, 8, 12, 12, 8, 6, 2, 8, 6, 8, 7, 5, 14, 4, 7, 13, 5, 8, 14, 5, 8, 11, 6, 5, 11, 12, 7, 4, 5, 11, 10, 8, 10, 8, 8, 7, 9, 11, 7, 7, 10, 7, 4, 4, 8, 7, 7, 11, 6, 10, 8, 8, 7, 5, 8, 11, 7, 23, 7, 7, 3, 8, 10, 9, 7, 8, 9, 8, 4, 8, 6, 7, 11, 3, 5, 6, 7, 8, 7, 10, 7, 7, 9, 1, 7, 8, 4, 6, 4, 6, 6, 6, 5, 4, 7, 3, 4, 9, 9, 6, 7, 12, 10, 12, 11, 15, 7, 7, 8, 8, 4, 11, 5, 6, 9, 5, 9, 6, 11, 10, 11, 10, 10, 6, 10, 11, 9, 3, 11, 9, 5, 5, 7, 8, 6, 5, 8, 8, 4, 8, 7, 4, 7, 5, 13, 10, 5, 12, 11, 4, 9, 7, 11, 7, 4, 9, 4, 4, 7, 7, 5, 12, 9, 8, 6, 7, 7, 11, 6, 12, 6, 7, 8, 7, 6, 9, 9, 9, 12, 13, 7, 7, 9, 12, 9, 3, 10, 9, 9, 5, 9, 7, 7, 9, 5, 5, 7, 10, 11, 8, 7, 6, 8, 9, 11, 8, 3, 5, 10, 9, 6, 8, 7, 6, 4, 4, 5, 8, 7, 10, 8, 13, 9, 11, 10, 9, 4, 8, 5, 7, 14, 7, 12, 6, 11, 8, 6, 9, 5, 10, 12, 6, 8, 13, 11, 4, 6, 6, 6, 5, 7, 9, 6, 12, 8, 7, 5, 5, 8, 6, 9, 7, 7, 6, 3, 5, 9, 7, 8, 5, 9, 6, 11, 10, 4, 11, 6, 12, 7, 8, 6, 9, 9, 8, 6, 11, 6, 11, 7, 7, 11, 10, 13, 9, 9, 4, 7, 6, 6, 7, 7, 5, 8, 11, 7, 13, 8, 6, 4, 7, 6, 8, 4, 10, 4, 7, 9, 9, 8, 5, 7, 9, 7, 9, 4, 7, 8, 5, 9, 8, 6, 10, 7, 12, 6, 8, 13, 10, 6, 4, 6, 10, 10, 11, 4, 8, 10, 9, 10, 5, 9, 8, 9, 14, 7, 2, 6, 4, 10, 3, 14, 8, 6, 5, 6, 3, 2, 8, 9, 9, 8, 4, 7, 7, 6, 10, 7, 5, 5, 8, 8, 8, 10, 6, 13, 5, 8, 6, 7, 10, 8, 8, 6, 9, 7, 10, 5, 9, 10, 10, 8, 10, 13, 8, 8, 6, 9, 12, 10, 7, 8, 8, 5, 6, 11, 10, 6, 9, 9, 6, 6, 4, 8, 7, 9, 7, 7, 5, 9, 10, 6, 10, 10, 9, 9, 9, 7, 8, 11, 9, 5, 4, 7, 14, 11, 8, 2, 11, 5, 8, 6, 8, 8, 11, 6, 7, 6, 9, 4, 16, 7, 8, 3, 7, 5, 8, 6, 10, 7, 6, 12, 8, 5, 7, 10, 8, 9, 12, 11, 6, 6, 11, 6, 9, 10, 3, 7, 6, 10, 8, 6, 3, 11, 8, 10, 3, 5, 7, 8, 12, 7, 9, 9, 5, 9, 10, 10, 2, 9, 10, 9, 9, 9, 3, 9, 6, 5, 7, 9, 6, 10, 7, 8, 10, 14, 13, 6, 9, 9, 7, 7, 11, 6, 3, 5, 10, 6, 6, 6, 7, 7, 6, 5, 7, 9, 4, 6, 8, 10, 8, 5, 10, 7, 10, 10, 12, 7, 11, 5, 10, 9, 3, 10, 6, 10, 5, 6, 10, 11, 7, 8, 6, 6, 8, 10, 6, 7, 7, 6, 12, 7, 5, 6, 4, 7, 11, 8, 9, 6, 7, 9, 6, 11, 5, 8, 4, 6, 7, 5, 12, 11, 12, 7, 4, 7, 5, 7, 10, 9, 8, 6, 10, 11, 8, 6, 12, 7, 10, 6, 9, 6, 7, 7, 9, 6, 7, 8, 11, 7, 7, 6, 5, 8, 9, 9, 3, 7, 10, 7, 8, 7, 8, 4, 9, 7, 5, 9, 6, 6, 9, 8, 8, 13, 8, 9, 4, 12, 6, 6, 5, 7, 10, 9, 7, 12, 7, 11, 16, 11, 10, 7, 10, 5, 13, 8, 6, 6, 4, 9, 5, 4, 3, 10, 5, 7, 6, 7, 6, 9, 5, 10, 7, 6, 11, 9, 6, 11, 9, 6, 7, 5, 5, 9, 7, 9, 9, 9, 5, 9, 5, 7, 9, 11, 4, 14, 5, 8, 10, 10, 8, 9, 7, 6, 7, 7, 6, 10, 8, 5, 4, 8, 6, 12, 8, 7, 8, 7, 8, 5, 10, 6, 6, 8, 7, 6, 6, 6, 8, 7, 4, 7, 5, 4, 7, 10, 8, 10, 11, 10, 8, 6, 13, 9, 7, 11, 10, 5, 9, 11, 8, 8, 2, 8, 10, 6, 11, 4, 11, 10, 10, 6, 7, 8, 6, 7, 7, 6, 7, 11, 8, 9, 9, 8, 6, 4, 6, 7, 11, 10, 7, 5, 12, 9, 10, 8, 8, 8, 6, 10, 4, 5, 5, 8, 9, 9, 8, 10, 7, 10, 10, 10, 7, 3, 7, 9, 7, 6, 3, 11, 5, 7, 8, 7, 6, 8, 8, 11, 6, 9, 9, 13, 8, 8, 10, 8, 7, 8, 5, 5, 7, 7, 9, 8, 7, 5, 7, 11, 5, 10, 6, 8, 6, 3, 6, 8, 11, 8, 8, 8, 7, 3, 7, 2, 6, 6, 7, 8, 7, 8, 7, 11, 3, 9, 11, 11, 6, 14, 5, 6, 11, 7, 8, 8, 7, 12, 8, 7, 5, 8, 4, 7, 9, 15, 8, 5, 9, 10, 8, 6, 9, 12, 7, 9, 10, 12, 8, 9, 6, 4, 9, 12, 7, 11, 10, 6, 10, 9, 4, 6, 9, 8, 7, 8, 11, 9, 10, 7, 11, 9, 8, 14, 9, 8, 8, 8, 8, 6, 13, 10, 7, 2, 10, 11, 6, 8, 13, 8, 9, 7, 13, 10, 9, 10, 8, 7, 4, 13, 12, 3, 6, 8, 11, 12, 7, 7, 8, 8, 11, 4, 9, 7, 6, 8, 9, 5, 7, 7, 17, 7, 4, 7, 8, 8, 6, 3, 7, 5, 9, 6, 6, 9, 6, 6, 8, 6, 8, 8, 12, 5, 8, 5, 13, 8, 5, 10, 12, 7, 11, 5, 12, 7, 7, 10, 4, 6, 7, 5, 8, 5, 9, 7, 6, 6, 7, 5, 8, 8, 9, 10, 4, 11, 6, 11, 10, 4, 11, 5, 7, 11, 13, 10, 4, 7, 8, 7, 7, 5, 9, 7, 4, 5, 10, 10, 7, 6, 6, 8, 7, 5, 5, 11, 7, 5, 8, 9, 5, 8, 12, 6, 7, 7, 5, 10, 8, 8, 8, 10, 6, 9, 9, 7, 13, 8, 9, 9, 8, 8, 7, 7, 5, 6, 12, 8, 8, 5, 5, 10, 6, 8, 6, 7, 6, 7, 10, 6, 7, 8, 8, 8, 7, 10, 8, 6, 8, 9, 6, 5, 8, 6, 9, 6, 6, 14, 6, 4, 9, 6, 10, 7, 8, 9, 6, 9, 5, 4, 7, 2, 14, 9, 10, 5, 6, 7, 9, 8, 10, 12, 11, 8, 6, 10, 6, 7, 10, 7, 7, 6, 7, 5, 9, 9, 8, 12, 3, 9, 4, 10, 6, 12, 11, 8, 10, 5, 4, 5, 7, 9, 13, 11, 6, 12, 10, 12, 5, 10, 7, 8, 4, 10, 6, 5, 14, 5, 10, 10, 8, 7, 11, 12, 3, 9, 8, 6, 6, 11, 6, 7, 5, 5, 7, 8, 7, 9, 11, 8, 11, 4, 7, 13, 2, 8, 5, 10, 4, 9, 11, 6, 5, 6, 7, 6, 11, 12, 7, 8, 9, 9, 13, 9, 12, 8, 11, 10, 11, 7, 14, 8, 12, 5, 5, 10, 9, 1, 8, 9, 8, 10, 11, 5, 10, 12, 4, 8, 9, 9, 10, 6, 9, 9, 5, 5, 10, 8, 12, 7, 7, 5, 9, 9, 10, 7, 11, 6, 10, 12, 8, 7, 7, 7, 8, 13, 4, 6, 5, 6, 9, 9, 9, 9, 3, 7, 7, 3, 11, 7, 5, 10, 6, 9, 6, 10, 10, 6, 12, 5, 9, 8, 12, 10, 4, 8, 8, 9, 9, 7, 10, 8, 5, 8, 12, 7, 9, 14, 3, 8, 5, 6, 3, 11, 7, 6, 7, 11, 11, 4, 8, 12, 7, 8, 9, 5, 10, 6, 13, 4, 9, 10, 8, 10, 2, 5, 8, 7, 7, 4, 9, 11, 12, 11, 7, 8, 6, 7, 4, 6, 10, 9, 9, 9, 10, 11, 9, 6, 5, 5, 9, 11, 12, 10, 4, 9, 7, 8, 6, 7, 8, 7, 13, 8, 7, 6, 6, 6, 7, 12, 8, 7, 11, 6, 4, 7, 8, 8, 5, 4, 7, 8, 7, 7, 3, 4, 4, 11, 9, 9, 5, 9, 9, 6, 6, 7, 6, 5, 8, 4, 7, 7, 10, 11, 7, 11, 9, 6, 5, 7, 8, 9, 13, 12, 6, 9, 6, 5, 11, 7, 7, 10, 11, 6, 9, 2, 11, 10, 5, 11, 10, 8, 6, 6, 6, 6, 5, 9, 4, 11, 12, 11, 7, 9, 5, 8, 6, 6, 6, 5, 7, 5, 7, 9, 6, 10, 6, 11, 9, 11, 6, 9, 7, 10, 7, 6, 10, 11, 3, 9, 9, 7, 12, 9, 8, 9, 9, 9, 7, 7, 7, 7, 8, 10, 5, 4, 7, 4, 4, 4, 5, 10, 6, 8, 7, 7, 8, 5, 8, 12, 8, 7, 8, 7, 9, 6, 7, 5, 10, 8, 8, 5, 7, 8, 8, 11, 2, 5, 6, 13, 7, 4, 10, 7, 6, 8, 7, 4, 8, 6, 5, 6, 10, 8, 8, 11, 5, 13, 9, 12, 8, 5, 10, 10, 6, 12, 9, 8, 8, 7, 9, 10, 9, 4, 8, 10, 5, 5, 3, 9, 12, 3, 8, 4, 6, 7, 5, 9, 11, 9, 6, 4, 8, 8, 6, 4, 5, 7, 13, 10, 5, 7, 6, 5, 7, 6, 4, 6, 8, 12, 11, 8, 6, 7, 10, 4, 7, 5, 8, 9, 12, 8, 12, 9, 6, 6, 8, 6, 9, 5, 8, 9, 4, 9, 8, 8, 12, 7, 9, 7, 6, 5, 6, 8, 8, 6, 8, 11, 6, 5, 7, 9, 8, 7, 5, 9, 5, 8, 9, 12, 9, 10, 6, 6, 7, 6, 9, 6, 9, 13, 10, 9, 8, 14, 9, 6, 7, 9, 10, 9, 7, 6, 4, 7, 8, 5, 9, 9, 7, 9, 5, 6, 8, 8, 7, 10, 8, 9, 9, 11, 8, 9, 12, 2, 8, 7, 6, 3, 9, 11, 7, 6, 13, 5, 8, 5, 8, 10, 10, 11, 13, 12, 8, 9, 10, 11, 6, 14, 10, 12, 4, 7, 6, 12, 12, 5, 6, 8, 5, 7, 10, 5, 9, 8, 8, 9, 9, 6, 5, 9, 7, 9, 6, 8, 8, 5, 6, 7, 11, 6, 4, 10, 5, 5, 9, 8, 8, 8, 9, 5, 7, 5, 6, 9, 6, 5, 7, 5, 7, 9, 7, 9, 4, 8, 7, 7, 7, 8, 10, 4, 7, 8, 6, 8, 10, 9, 5, 11, 4, 7, 5, 7, 10, 6, 8, 8, 10, 5, 5, 8, 6, 7, 7, 7, 8, 9, 11, 10, 8, 5, 6, 8, 11, 7, 7, 9, 9, 9, 11, 9, 13, 10, 7, 6, 8, 5, 7, 13, 6, 7, 6, 8, 13, 9, 7, 4, 6, 8, 6, 8, 6, 4, 9, 13, 6, 6, 10, 5, 7, 10, 7, 9, 5, 8, 4, 7, 8, 4, 8, 10, 6, 4, 5, 7, 4, 9, 8, 7, 9, 14, 7, 10, 12, 10, 7, 7, 9, 7, 10, 7, 8, 5, 6, 5, 8, 9, 7, 7, 8, 6, 8, 6, 6, 7, 13, 9, 9, 10, 5, 10, 9, 8, 5, 15, 8, 6, 9, 11, 4, 5, 4, 8, 4, 7, 11, 9, 13, 11, 10, 7, 4, 8, 5, 7, 7, 10, 9, 7, 8, 7, 9, 14, 8, 6, 6, 8, 6, 3, 6, 3, 8, 7, 11, 9, 5, 4, 5, 6, 10, 10, 6, 7, 10, 9, 9, 10, 6, 14, 8, 7, 7, 9, 12, 10, 9, 10, 7, 8, 5, 8, 9, 10, 7, 11, 10, 10, 9, 8, 11, 6, 7, 7, 6, 7, 5, 12, 6, 11, 9, 11, 3, 8, 10, 7, 8, 8, 4, 8, 5, 5, 8, 7, 8, 5, 9, 13, 10, 10, 10, 7, 6, 9, 11, 6, 9, 10, 13, 8, 11, 10, 11, 6, 11, 9, 7, 8, 4, 8, 5, 7, 11, 4, 4, 3, 8, 9, 12, 6, 8, 2, 8, 9, 5, 3, 7, 8, 7, 10, 12, 9, 6, 5, 9, 9, 7, 11, 8, 2, 5, 7, 8, 7, 6, 9, 12, 5, 7, 8, 8, 9, 4, 11, 7, 11, 4, 6, 11, 7, 9, 5, 6, 6, 6, 7, 8, 6, 12, 11, 6, 12, 5, 6, 8, 4, 5, 10, 9, 7, 2, 4, 8, 6, 12, 7, 5, 10, 4, 6, 10, 7, 5, 8, 4, 9, 9, 10, 6, 9, 4, 6, 3, 4, 12, 7, 6, 8, 9, 11, 5, 6, 9, 6, 7, 7, 7, 9, 11, 9, 6, 7, 4, 9, 7, 8, 7, 8, 9, 7, 4, 7, 4, 7, 10, 8, 11, 13, 6, 6, 6, 4, 11, 6, 11, 8, 11, 8, 4, 5, 11, 7, 5, 5, 5, 6, 5, 4, 8, 9, 8, 5, 10, 6, 10, 3, 6, 6, 4, 5, 5, 8, 2, 6, 8, 10, 5, 6, 10, 11, 9, 9, 13, 8, 12, 10, 4, 13, 8, 6, 11, 4, 6, 8, 7, 13, 7, 6, 6, 9, 9, 6, 9, 17, 6, 9, 7, 9, 4, 8, 9, 4, 8, 5, 6, 9, 7, 10, 5, 6, 10, 8, 4, 6, 8, 4, 12, 8, 7, 9, 6, 4, 6, 4, 11, 10, 3, 7, 4, 7, 6, 5, 14, 8, 5, 11, 10, 5, 7, 5, 8, 7, 8, 6, 4, 9, 6, 8, 8, 9, 13, 9, 10, 4, 7, 9, 11, 9, 8, 7, 7, 9, 13, 11, 8, 11, 8, 5, 8, 7, 8, 7, 5, 4, 12, 12, 11, 7, 11, 14, 12, 6, 10, 9, 9, 10, 8, 7, 6, 5, 6, 6, 7, 8, 12, 5, 8, 8, 11, 9, 9, 10, 14, 5, 6, 8, 7, 9, 8, 6, 7, 2, 5, 10, 6, 3, 5, 6, 11, 12, 7, 6, 11, 6, 7, 8, 11, 6, 9, 11, 7, 8, 6, 10, 5, 10, 6, 7, 5, 4, 6, 9, 5, 3, 7, 5, 9, 7, 5, 4, 3, 8, 9, 9, 8, 6, 7, 10, 9, 6, 7, 5, 7, 4, 8, 9, 10, 10, 6, 8, 9, 9, 13, 10, 7, 12, 8, 10, 10, 6, 8, 8, 8, 3, 8, 6, 9, 5, 5, 4, 5, 8, 7, 6, 5, 10, 8, 12, 8, 10, 12, 9, 2, 8, 10, 5, 6, 12, 11, 9, 8, 8, 6, 4, 12, 9, 10, 10, 4, 12, 13, 10, 5, 10, 9, 9, 7, 9, 7, 6, 7, 7, 8, 7, 6, 6, 11, 11, 11, 8, 5, 8, 7, 8, 4, 6, 7, 9, 6, 10, 11, 13, 5, 7, 6, 11, 8, 11, 7, 4, 7, 4, 9, 9, 3, 5, 8, 5, 9, 9, 11, 6, 12, 9, 10, 8, 6, 6, 7, 5, 3, 6, 5, 6, 6, 6, 7, 8, 5, 7, 9, 7, 4, 7, 5, 5, 12, 4, 5, 7, 7, 5, 5, 10, 7, 10, 9, 10, 9, 4, 4, 5, 8, 8, 6, 5, 8, 9, 6, 12, 9, 6, 10, 10, 6, 11, 6, 4, 5, 11, 4, 6, 13, 11, 6, 10, 7, 9, 6, 9, 5, 7, 5, 10, 5, 8, 8, 5, 5, 9, 8, 8, 8, 12, 4, 7, 9, 8, 4, 11, 6, 6, 10, 7, 7, 9, 6, 7, 9, 12, 8, 4, 6, 6, 4, 11, 11, 7, 8, 6, 10, 7, 11, 7, 7, 8, 5, 9, 9, 6, 5, 5, 9, 9, 5, 7, 5, 10, 7, 10, 8, 10, 11, 9, 6, 9, 16, 6, 9, 7, 6, 11, 6, 8, 12, 6, 9, 8, 6, 8, 8, 8, 12, 6, 10, 8, 9, 10, 5, 6, 9, 8, 7, 11, 7, 9, 5, 8, 3, 11, 6, 10, 6, 4, 7, 5, 6, 6, 3, 10, 10, 11, 4, 10, 8, 12, 8, 10, 6, 7, 4, 5, 10, 4, 7, 10, 12, 7, 6, 10, 10, 7, 5, 9, 7, 6, 7, 10, 8, 7, 7, 9, 5, 7, 9, 8, 6, 8, 13, 9, 5, 4, 8, 9, 11, 9, 4, 10, 10, 8, 8, 10, 7, 11, 7, 6, 7, 11, 7, 2, 5, 9, 6, 7, 9, 6, 5, 9, 9, 2, 9, 14, 10, 4, 7, 8, 8, 10, 9, 11, 7, 10, 7, 5, 13, 5, 9, 12, 8, 10, 13, 10, 7, 9, 9, 9, 12, 9, 6, 9, 3, 7, 6, 5, 10, 9, 7, 10, 7, 5, 5, 11, 14, 4, 9, 9, 9, 8, 8, 10, 10, 8, 5, 11, 9, 4, 6, 9, 14, 5, 11, 11, 11, 11, 10, 6, 7, 4, 11, 9, 8, 10, 5, 6, 6, 5, 3, 8, 4, 7, 8, 8, 9, 5, 9, 6, 7, 11, 4, 7, 9, 3, 7, 8, 8, 8, 11, 11, 8, 10, 10, 8, 2, 9, 5, 8, 8, 8, 6, 7, 6, 9, 11, 11, 11, 9, 6, 7, 9, 6, 11, 5, 8, 6, 8, 10, 7, 9, 6, 9, 9, 8, 10, 9, 7, 5, 7, 12, 8, 11, 6, 4, 11, 10, 10, 11, 9, 5, 3, 12, 8, 7, 10, 7, 6, 9, 9, 11, 8, 12, 10, 10, 6, 4, 5, 4, 10, 12, 11, 12, 11, 7, 5, 11, 7, 12, 5, 4, 7, 12, 4, 11, 12, 10, 7, 6, 6, 4, 3, 6, 7, 10, 12, 7, 9, 7, 6, 5, 6, 7, 8, 10, 8, 10, 10, 10, 5, 4, 7, 8, 6, 5, 9, 5, 10, 9, 10, 9, 8, 11, 14, 9, 8, 3, 8, 8, 7, 7, 12, 7, 5, 4, 8, 12, 7, 8, 7, 4, 10, 11, 6, 7, 7, 4, 9, 6, 8, 7, 6, 6, 7, 5, 8, 7, 6, 7, 7, 7, 13, 8, 4, 9, 10, 7, 12, 10, 6, 11, 7, 7, 7, 9, 7, 8, 10, 8, 6, 5, 4, 7, 7, 5, 4, 8, 5, 6, 6, 5, 12, 7, 9, 11, 5, 4, 5, 7, 5, 2, 7, 7, 10, 10, 8, 6, 6, 7, 7, 8, 8, 5, 6, 10, 11, 7, 11, 12, 10, 6, 9, 8, 11, 4, 7, 6, 11, 11, 12, 5, 5, 9, 5, 6, 5, 10, 10, 3, 7, 8, 9, 5, 9, 9, 6, 7, 4, 6, 5, 8, 10, 8, 6, 9, 11, 9, 10, 10, 8, 8, 9, 6, 5, 6, 6, 8, 9, 11, 10, 5, 8, 7, 10, 4, 7, 8, 6, 8, 6, 12, 10, 8, 6, 5, 5, 9, 11, 5, 9, 5, 6, 3, 9, 5, 12, 8, 6, 6, 9, 9, 9, 9, 11, 3, 11, 8, 9, 7, 13, 8, 9, 10, 10, 7, 5, 12, 8, 11, 5, 8, 6, 4, 7, 8, 7, 6, 6, 11, 5, 10, 10, 6, 5, 11, 10, 3, 12, 6, 5, 7, 7, 7, 6, 4, 4, 5, 4, 12, 9, 7, 10, 10, 5, 8, 4, 4, 10, 4, 6, 6, 6, 9, 5, 7, 8, 9, 7, 5, 6, 8, 8, 5, 6, 4, 9, 4, 10, 13, 3, 9, 5, 4, 8, 7, 10, 11, 7, 7, 12, 8, 3, 10, 7, 10, 12, 8, 5, 8, 13, 7, 7, 4, 9, 12, 13, 9, 8, 5, 12, 7, 8, 7, 5, 9, 11, 3, 6, 13, 8, 14, 10, 6, 10, 6, 4, 6, 13, 6, 4, 6, 8, 9, 7, 4, 11, 9, 10, 4, 7, 6, 7, 14, 11, 7, 13, 4, 8, 8, 11, 9, 4, 7, 6, 9, 9, 5, 6, 7, 11, 8, 10, 4, 7, 7, 8, 6, 7, 8, 5, 7, 10, 9, 11, 5, 5, 6, 11, 5, 7, 11, 14, 6, 5, 7, 10, 6, 7, 8, 6, 6, 2, 10, 9, 5, 7, 6, 9, 12, 4, 5, 8, 5, 4, 7, 8, 4, 9, 3, 7, 7, 6, 10, 11, 7, 10, 4, 10, 7, 8, 9, 12, 6, 11, 10, 12, 5, 10, 8, 6, 9, 10, 9, 6, 6, 10, 4, 5, 5, 9, 12, 4, 6, 7, 6, 9, 6, 5, 5, 7, 8, 7, 10, 5, 7, 6, 7, 6, 5, 8, 6, 6, 6, 10, 5, 9, 8, 7, 6, 5, 6, 4, 7, 6, 6, 8, 11, 4, 9, 11, 9, 9, 3, 6, 9, 11, 7, 9, 10, 7, 9, 9, 8, 8, 11, 15, 8, 8, 5, 6, 11, 6, 5, 6, 7, 8, 10, 7, 9, 8, 7, 6, 9, 9, 10, 11, 8, 8, 12, 7, 6, 7, 8, 9, 10, 8, 4, 3, 5, 6, 8, 9, 14, 5, 12, 6, 9, 6, 6, 8, 6, 10, 7, 11, 7, 7, 4, 13, 5, 6, 5, 7, 8, 6, 8, 6, 7, 8, 7, 7, 6, 6, 7, 10, 10, 11, 10, 9, 4, 7, 11, 7, 2, 7, 4, 5, 10, 6, 12, 7, 6, 9, 5, 2, 3, 13, 10, 3, 7, 8, 5, 12, 9, 7, 6, 8, 5, 10, 5, 10, 9, 7, 4, 11, 5, 6, 5, 8, 9, 4, 5, 8, 6, 4, 8, 12, 12, 5, 5, 7, 11, 7, 6, 5, 5, 8, 10, 9, 10, 8, 8, 5, 11, 9, 11, 10, 7, 12, 6, 8, 7, 6, 7, 10, 11, 6, 6, 7, 8, 6, 8, 10, 6, 6, 12, 8, 13, 8, 3, 11, 9, 6, 10, 5, 10, 7, 12, 6, 8, 6, 9, 6, 7, 8, 4, 7, 6, 5, 9, 7, 13, 10, 3, 8, 6, 7, 10, 10, 6, 11, 6, 9, 5, 8, 9, 9, 8, 7, 11, 8, 4, 8, 9, 5, 11, 6, 6, 6, 11, 6, 6, 5, 5, 6, 7, 7, 10, 11, 5, 9, 10, 6, 11, 10, 10, 11, 8, 8, 8, 9, 7, 11, 6, 6, 7, 11, 7, 9, 9, 9, 7, 5, 9, 5, 10, 4, 6, 5, 8, 7, 12, 7, 14, 10, 10, 11, 9, 7, 5, 4, 7, 6, 10, 10, 5, 10, 12, 6, 11, 6, 11, 8, 4, 10, 6, 7, 3, 9, 8, 4, 6, 12, 9, 7, 9, 5, 8, 8, 9, 5, 8, 10, 6, 6, 7, 6, 8, 6, 7, 6, 5, 12, 6, 10, 10, 8, 9, 7, 10, 8, 5, 4, 6, 5, 7, 5, 5, 6, 7, 5, 9, 8, 6, 8, 8, 12, 5, 5, 11, 7, 10, 7, 10, 12, 11, 9, 8, 7, 9, 6, 10, 10, 7, 5, 8, 9, 9, 8, 5, 6, 6, 7, 6, 5, 5, 12, 5, 6, 4, 7, 8, 9, 7, 7, 6, 5, 13, 4, 7, 12, 7, 9, 8, 7, 8, 7, 10, 8, 9, 5, 10, 4, 12, 4, 8, 7, 7, 7, 9, 6, 10, 8, 7, 8, 5, 11, 14, 4, 4, 11, 6, 9, 10, 8, 4, 10, 9, 12, 5, 9, 8, 8, 9, 4, 6, 6, 4, 6, 6, 10, 8, 11, 12, 6, 7, 4, 6, 5, 9, 7, 2, 12, 6, 4, 7, 7, 7, 7, 7, 10, 10, 7, 8, 12, 8, 8, 8, 6, 8, 6, 6, 11, 8, 11, 4, 8, 16, 12, 12, 10, 6, 5, 5, 6, 4, 10, 9, 14, 8, 12, 8, 6, 10, 6, 11, 8, 6, 7, 7, 6, 10, 9, 9, 5, 9, 5, 7, 7, 7, 4, 5, 12, 6, 7, 10, 11, 11, 10, 8, 6, 11, 9, 25, 4, 7, 8, 7, 8, 3, 8, 12, 6, 9, 6, 7, 10, 8, 7, 7, 3, 8, 6, 15, 5, 10, 4, 7, 4, 10, 9, 6, 5, 12, 11, 9, 3, 8, 9, 6, 11, 4, 6, 10, 5, 11, 11, 12, 6, 5, 7, 8, 6, 9, 5, 5, 5, 5, 7, 12, 4, 9, 7, 9, 5, 7, 7, 8, 5, 9, 9, 6, 6, 5, 6, 13, 10, 14, 6, 7, 7, 8, 6, 4, 7, 9, 7, 10, 6, 4, 8, 12, 9, 7, 9, 9, 12, 4, 5, 7, 10, 5, 11, 5, 15, 7, 6, 8, 3, 7, 7, 8, 7, 10, 7, 3, 9, 8, 5, 5, 10, 8, 14, 12, 7, 8, 12, 6, 7, 10, 6, 7, 4, 6, 9, 3, 8, 17, 6, 7, 9, 13, 10, 10, 12, 12, 5, 7, 9, 8, 7, 8, 5, 7, 12, 7, 7, 5, 11, 8, 8, 7, 5, 8, 6, 9, 10, 9, 5, 8, 9, 6, 4, 6, 9, 5, 2, 5, 8, 8, 6, 10, 5, 6, 7, 5, 5, 5, 4, 6, 4, 7, 8, 8, 5, 8, 5, 9, 4, 9, 6, 6, 8, 4, 12, 10, 5, 8, 11, 9, 11, 10, 6, 10, 10, 10, 6, 8, 4, 8, 13, 6, 5, 10, 6, 12, 5, 7, 10, 11, 4, 10, 5, 7, 6, 8, 6, 9, 7, 10, 8, 12, 6, 6, 9, 10, 10, 6, 8, 7, 6, 9, 10, 11, 5, 7, 9, 8, 8, 7, 6, 7, 9, 12, 4, 8, 7, 10, 11, 12, 12, 8, 5, 5, 8, 7, 7, 12, 10, 6, 10, 6, 6, 4, 8, 6, 8, 6, 9, 6, 3, 4, 5, 5, 7, 8, 7, 6, 10, 12, 9, 7, 6, 9, 2, 8, 4, 6, 8, 9, 8, 9, 8, 11, 9, 7, 3, 7, 12, 5, 10, 8, 4, 6, 9, 10, 11, 5, 10, 5, 6, 8, 5, 7, 9, 9, 6, 7, 10, 4, 8, 6, 6, 6, 6, 8, 10, 5, 7, 11, 7, 10, 8, 5, 10, 8, 7, 10, 10, 5, 6, 7, 7, 8, 7, 3, 6, 7, 10, 8, 7, 6, 10, 9, 7, 5, 9, 7, 8, 14, 12, 4, 3, 10, 6, 8, 7, 5, 9, 11, 7, 6, 8, 7, 6, 3, 5, 4, 7, 7, 13, 9, 11, 5, 5, 8, 6, 5, 6, 5, 13, 6, 10, 6, 7, 6, 10, 7, 8, 6, 6, 10, 7, 10, 13, 6, 11, 5, 3, 8, 4, 9, 11, 8, 14, 9, 8, 7, 8, 7, 7, 8, 8, 10, 7, 7, 6, 8, 12, 8, 8, 8, 5, 5, 4, 9, 8, 5, 10, 4, 7, 4, 9, 9, 9, 7, 9, 5, 6, 6, 6, 4, 5, 9, 7, 9, 8, 8, 4, 6, 11, 5, 2, 7, 10, 12, 5, 5, 5, 7, 6, 13, 10, 6, 10, 8, 9, 7, 10, 5, 11, 6, 6, 5, 6, 7, 15, 8, 8, 8, 7, 11, 9, 10, 4, 10, 9, 3, 8, 9, 12, 8, 5, 8, 8, 3, 12, 3, 5, 5, 8, 8, 8, 7, 12, 8, 8, 8, 12, 3, 4, 11, 7, 5, 7, 8, 11, 10, 7, 11, 6, 10, 6, 5, 4, 7, 11, 7, 8, 9, 11, 11, 6, 17, 16, 7, 4, 3, 7, 4, 12, 10, 10, 9, 4, 5, 13, 5, 3, 10, 7, 13, 10, 7, 5, 10, 5, 10, 7, 7, 7, 7, 9, 11, 12, 5, 11, 7, 8, 6, 5, 7, 8, 5, 8, 6, 5, 10, 8, 6, 7, 10, 4, 4, 6, 6, 6, 7, 8, 8, 5, 9, 10, 13, 9, 10, 8, 10, 11, 10, 9, 5, 8, 7, 10, 9, 7, 7, 7, 10, 7, 8, 5, 8, 3, 6, 8, 7, 9, 13, 6, 9, 9, 9, 6, 9, 6, 6, 5, 12, 8, 8, 8, 4, 11, 3, 6, 5, 8, 5, 13, 9, 9, 7, 3, 5, 9, 7, 7, 7, 9, 7, 10, 9, 10, 8, 8, 9, 5, 6, 8, 13, 4, 6, 5, 11, 8, 9, 5, 7, 7, 4, 8, 5, 7, 8, 5, 13, 10, 7, 9, 9, 8, 6, 6, 6, 7, 11, 7, 11, 6, 4, 4, 6, 7, 9, 8, 8, 6, 9, 10, 9, 7, 6, 11, 5, 6, 12, 8, 7, 12, 3, 5, 14, 9, 7, 10, 6, 11, 7, 4, 5, 15, 10, 5, 11, 11, 6, 9, 7, 10, 11, 5, 5, 7, 9, 9, 9, 4, 8, 9, 11, 12, 8, 5, 7, 14, 5, 7, 9, 5, 12, 12, 7, 10, 5, 6, 7, 6, 5, 6, 9, 10, 8, 6, 8, 6, 9, 5, 7, 9, 5, 6, 7, 5, 7, 8, 6, 8, 11, 4, 7, 8, 7, 10, 11, 7, 7, 9, 8, 6, 10, 4, 9, 4, 7, 7, 9, 7, 12, 10, 7, 10, 10, 6, 24, 13, 6, 8, 10, 8, 4, 11, 8, 9, 9, 8, 7, 10, 9, 8, 18, 9, 9, 7, 11, 9, 7, 7, 6, 6, 3, 4, 10, 6, 5, 6, 5, 10, 10, 9, 9, 7, 6, 4, 7, 6, 8, 10, 10, 11, 4, 7, 5, 7, 7, 4, 7, 7, 5, 7, 3, 10, 6, 13, 8, 6, 8, 6, 5, 8, 6, 7, 9, 7, 9, 6, 5, 9, 9, 5, 7, 5, 11, 7, 9, 10, 9, 9, 11, 6, 8, 6, 8, 6, 12, 8, 5, 10, 6, 6, 8, 6, 10, 3, 7, 10, 5, 9, 9, 7, 5, 7, 4, 13, 11, 5, 4, 7, 5, 9, 11, 6, 9, 9, 7, 6, 5, 9, 6, 5, 7, 9, 7, 6, 6, 12, 6, 7, 7, 8, 6, 13, 8, 13, 12, 4, 8, 7, 3, 9, 7, 6, 8, 8, 12, 7, 8, 11, 10, 7, 7, 10, 6, 6, 6, 7, 9, 7, 13, 8, 7, 12, 12, 13, 8, 11, 10, 7, 9, 5, 8, 10, 9, 6, 12, 9, 8, 9, 10, 10, 10, 8, 8, 4, 10, 11, 4, 10, 7, 8, 9, 8, 7, 16, 10, 14, 6, 11, 7, 8, 7, 5, 7, 5, 11, 5, 8, 9, 7, 6, 8, 7, 12, 12, 10, 7, 10, 11, 7, 6, 6, 13, 8, 7, 9, 5, 8, 6, 7, 3, 9, 6, 7, 8, 8, 7, 9, 7, 9, 11, 8, 7, 8, 10, 8, 5, 6, 10, 6, 10, 8, 4, 5, 6, 6, 8, 12, 8, 6, 5, 8, 9, 9, 9, 6, 6, 9, 9, 6, 8, 9, 5, 5, 12, 11, 7, 8, 8, 7, 10, 9, 7, 3, 7, 7, 10, 7, 6, 11, 8, 5, 7, 14, 14, 7, 4, 9, 11, 9, 6, 9, 8, 6, 9, 6, 4, 5, 11, 3, 12, 8, 11, 8, 11, 10, 6, 7, 11, 5, 12, 9, 7, 7, 8, 9, 4, 9, 5, 10, 7, 5, 12, 4, 7, 4, 5, 12, 13, 10, 5, 9, 3, 8, 6, 6, 5, 7, 12, 9, 6, 10, 5, 12, 5, 6, 9, 13, 4, 6, 13, 7, 11, 5, 15, 10, 5, 5, 5, 10, 4, 6, 9, 8, 6, 6, 13, 10, 8, 5, 13, 5, 5, 10, 5, 5, 7, 13, 6, 8, 9, 8, 2, 8, 9, 7, 3, 5, 9, 8, 6, 8, 10, 8, 12, 13, 5, 4, 9, 2, 7, 9, 8, 5, 3, 9, 16, 12, 11, 7, 9, 9, 8, 5, 5, 7, 5, 11, 11, 10, 6, 3, 9, 9, 5, 4, 7, 7, 9, 13, 6, 6, 9, 11, 6, 6, 5, 6, 8, 8, 11, 9, 9, 7, 5, 7, 11, 9, 6, 10, 7, 9, 9, 9, 9, 10, 9, 8, 9, 10, 7, 9, 7, 7, 10, 9, 7, 6, 9, 5, 5, 6, 9, 10, 7, 5, 6, 10, 7, 9, 11, 7, 8, 4, 15, 7, 3, 6, 5, 8, 5, 5, 6, 6, 6, 10, 10, 7, 5, 6, 8, 5, 8, 8, 8, 11, 6, 11, 8, 9, 9, 9, 3, 13, 14, 10, 10, 7, 7, 8, 11, 11, 12, 14, 7, 9, 8, 6, 3, 11, 7, 7, 7, 9, 8, 8, 10, 5, 9, 11, 9, 12, 12, 11, 4, 10, 5, 8, 9, 6, 6, 10, 8, 8, 9, 12, 8, 11, 10, 7, 4, 7, 6, 8, 8, 6, 14, 6, 10, 12, 8, 9, 7, 3, 8, 5, 6, 5, 8, 9, 11, 6, 10, 7, 5, 6, 10, 8, 5, 6, 7, 3, 6, 9, 7, 9, 8, 5, 8, 7, 12, 7, 6, 8, 10, 8, 10, 7, 4, 6, 8, 4, 5, 12, 7, 6, 8, 6, 10, 11, 6, 9, 13, 6, 9, 9, 9, 9, 7, 9, 11, 25, 9, 10, 10, 5, 9, 14, 10, 5, 11, 11, 9, 8, 11, 10, 5, 5, 9, 6, 4, 5, 6, 7, 7, 9, 12, 8, 8, 6, 4, 9, 8, 11, 7, 11, 6, 11, 8, 5, 7, 7, 10, 8, 7, 9, 6, 7, 8, 7, 6, 8, 9, 11, 6, 6, 7, 8, 6, 4, 6, 5, 8, 5, 7, 2, 7, 5, 6, 14, 8, 5, 5, 8, 7, 9, 7, 10, 6, 10, 9, 8, 5, 6, 10, 8, 8, 6, 7, 8, 11, 4, 6, 8, 12, 8, 8, 10, 9, 4, 7, 10, 4, 7, 9, 6, 9, 5, 5, 6, 10, 4, 7, 4, 8, 5, 10, 8, 7, 11, 6, 8, 5, 8, 8, 8, 9, 9, 12, 5, 10, 8, 6, 7, 7, 6, 6, 5, 8, 6, 6, 11, 9, 4, 5, 11, 5, 7, 9, 8, 7, 11, 5, 9, 9, 8, 9, 6, 11, 8, 13, 7, 10, 5, 4, 7, 7, 8, 6, 10, 3, 8, 5, 9, 6, 6, 8, 4, 10, 6, 8, 7, 5, 4, 8, 11, 6, 6, 4, 4, 7, 10, 11, 9, 7, 11, 11, 5, 6, 5, 10, 6, 7, 8, 12, 8, 13, 5, 5, 8, 8, 12, 9, 5, 10, 7, 8, 7, 7, 5, 6, 6, 8, 9, 6, 9, 6, 6, 9, 9, 9, 9, 8, 13, 10, 9, 9, 14, 9, 5, 10, 12, 7, 6, 7, 8, 4, 12, 8, 12, 11, 9, 6, 6, 5, 8, 8, 10, 6, 6, 4, 9, 9, 6, 11, 10, 7, 11, 6, 9, 10, 5, 13, 8, 8, 5, 9, 8, 9, 7, 8, 7, 6, 11, 9, 7, 6, 12, 8, 4, 6, 12, 7, 10, 6, 5, 5, 4, 7, 9, 4, 6, 9, 6, 10, 9, 4, 8, 11, 10, 8, 5, 6, 5, 6, 5, 9, 7, 4]}],\n",
              "                        {\"barmode\": \"overlay\", \"height\": 800, \"legend\": {\"x\": 0.78, \"xanchor\": \"left\", \"y\": 0.99, \"yanchor\": \"top\"}, \"template\": {\"data\": {\"bar\": [{\"error_x\": {\"color\": \"#2a3f5f\"}, \"error_y\": {\"color\": \"#2a3f5f\"}, \"marker\": {\"line\": {\"color\": \"#E5ECF6\", \"width\": 0.5}}, \"type\": \"bar\"}], \"barpolar\": [{\"marker\": {\"line\": {\"color\": \"#E5ECF6\", \"width\": 0.5}}, \"type\": \"barpolar\"}], \"carpet\": [{\"aaxis\": {\"endlinecolor\": \"#2a3f5f\", \"gridcolor\": \"white\", \"linecolor\": \"white\", \"minorgridcolor\": \"white\", \"startlinecolor\": \"#2a3f5f\"}, \"baxis\": {\"endlinecolor\": \"#2a3f5f\", \"gridcolor\": \"white\", \"linecolor\": \"white\", \"minorgridcolor\": \"white\", \"startlinecolor\": \"#2a3f5f\"}, \"type\": \"carpet\"}], \"choropleth\": [{\"colorbar\": {\"outlinewidth\": 0, \"ticks\": \"\"}, \"type\": \"choropleth\"}], \"contour\": [{\"colorbar\": {\"outlinewidth\": 0, \"ticks\": \"\"}, \"colorscale\": [[0.0, \"#0d0887\"], [0.1111111111111111, \"#46039f\"], [0.2222222222222222, \"#7201a8\"], [0.3333333333333333, \"#9c179e\"], [0.4444444444444444, \"#bd3786\"], [0.5555555555555556, \"#d8576b\"], [0.6666666666666666, \"#ed7953\"], [0.7777777777777778, \"#fb9f3a\"], [0.8888888888888888, \"#fdca26\"], [1.0, \"#f0f921\"]], \"type\": \"contour\"}], \"contourcarpet\": [{\"colorbar\": {\"outlinewidth\": 0, \"ticks\": \"\"}, \"type\": \"contourcarpet\"}], \"heatmap\": [{\"colorbar\": {\"outlinewidth\": 0, \"ticks\": \"\"}, \"colorscale\": [[0.0, \"#0d0887\"], [0.1111111111111111, \"#46039f\"], [0.2222222222222222, \"#7201a8\"], [0.3333333333333333, \"#9c179e\"], [0.4444444444444444, \"#bd3786\"], [0.5555555555555556, \"#d8576b\"], [0.6666666666666666, \"#ed7953\"], [0.7777777777777778, \"#fb9f3a\"], [0.8888888888888888, \"#fdca26\"], [1.0, \"#f0f921\"]], \"type\": \"heatmap\"}], \"heatmapgl\": [{\"colorbar\": {\"outlinewidth\": 0, \"ticks\": \"\"}, \"colorscale\": [[0.0, \"#0d0887\"], [0.1111111111111111, \"#46039f\"], [0.2222222222222222, \"#7201a8\"], [0.3333333333333333, \"#9c179e\"], [0.4444444444444444, \"#bd3786\"], [0.5555555555555556, \"#d8576b\"], [0.6666666666666666, \"#ed7953\"], [0.7777777777777778, \"#fb9f3a\"], [0.8888888888888888, \"#fdca26\"], [1.0, \"#f0f921\"]], \"type\": \"heatmapgl\"}], \"histogram\": [{\"marker\": {\"colorbar\": {\"outlinewidth\": 0, \"ticks\": \"\"}}, \"type\": \"histogram\"}], \"histogram2d\": [{\"colorbar\": {\"outlinewidth\": 0, \"ticks\": \"\"}, \"colorscale\": [[0.0, \"#0d0887\"], [0.1111111111111111, \"#46039f\"], [0.2222222222222222, \"#7201a8\"], [0.3333333333333333, \"#9c179e\"], [0.4444444444444444, \"#bd3786\"], [0.5555555555555556, \"#d8576b\"], [0.6666666666666666, \"#ed7953\"], [0.7777777777777778, \"#fb9f3a\"], [0.8888888888888888, \"#fdca26\"], [1.0, \"#f0f921\"]], \"type\": \"histogram2d\"}], \"histogram2dcontour\": [{\"colorbar\": {\"outlinewidth\": 0, \"ticks\": \"\"}, \"colorscale\": [[0.0, \"#0d0887\"], [0.1111111111111111, \"#46039f\"], [0.2222222222222222, \"#7201a8\"], [0.3333333333333333, \"#9c179e\"], [0.4444444444444444, \"#bd3786\"], [0.5555555555555556, \"#d8576b\"], [0.6666666666666666, \"#ed7953\"], [0.7777777777777778, \"#fb9f3a\"], [0.8888888888888888, \"#fdca26\"], [1.0, \"#f0f921\"]], \"type\": \"histogram2dcontour\"}], \"mesh3d\": [{\"colorbar\": {\"outlinewidth\": 0, \"ticks\": \"\"}, \"type\": \"mesh3d\"}], \"parcoords\": [{\"line\": {\"colorbar\": {\"outlinewidth\": 0, \"ticks\": \"\"}}, \"type\": \"parcoords\"}], \"pie\": [{\"automargin\": true, \"type\": \"pie\"}], \"scatter\": [{\"marker\": {\"colorbar\": {\"outlinewidth\": 0, \"ticks\": \"\"}}, \"type\": \"scatter\"}], \"scatter3d\": [{\"line\": {\"colorbar\": {\"outlinewidth\": 0, \"ticks\": \"\"}}, \"marker\": {\"colorbar\": {\"outlinewidth\": 0, \"ticks\": \"\"}}, \"type\": \"scatter3d\"}], \"scattercarpet\": [{\"marker\": {\"colorbar\": {\"outlinewidth\": 0, \"ticks\": \"\"}}, \"type\": \"scattercarpet\"}], \"scattergeo\": [{\"marker\": {\"colorbar\": {\"outlinewidth\": 0, \"ticks\": \"\"}}, \"type\": \"scattergeo\"}], \"scattergl\": [{\"marker\": {\"colorbar\": {\"outlinewidth\": 0, \"ticks\": \"\"}}, \"type\": \"scattergl\"}], \"scattermapbox\": [{\"marker\": {\"colorbar\": {\"outlinewidth\": 0, \"ticks\": \"\"}}, \"type\": \"scattermapbox\"}], \"scatterpolar\": [{\"marker\": {\"colorbar\": {\"outlinewidth\": 0, \"ticks\": \"\"}}, \"type\": \"scatterpolar\"}], \"scatterpolargl\": [{\"marker\": {\"colorbar\": {\"outlinewidth\": 0, \"ticks\": \"\"}}, \"type\": \"scatterpolargl\"}], \"scatterternary\": [{\"marker\": {\"colorbar\": {\"outlinewidth\": 0, \"ticks\": \"\"}}, \"type\": \"scatterternary\"}], \"surface\": [{\"colorbar\": {\"outlinewidth\": 0, \"ticks\": \"\"}, \"colorscale\": [[0.0, \"#0d0887\"], [0.1111111111111111, \"#46039f\"], [0.2222222222222222, \"#7201a8\"], [0.3333333333333333, \"#9c179e\"], [0.4444444444444444, \"#bd3786\"], [0.5555555555555556, \"#d8576b\"], [0.6666666666666666, \"#ed7953\"], [0.7777777777777778, \"#fb9f3a\"], [0.8888888888888888, \"#fdca26\"], [1.0, \"#f0f921\"]], \"type\": \"surface\"}], \"table\": [{\"cells\": {\"fill\": {\"color\": \"#EBF0F8\"}, \"line\": {\"color\": \"white\"}}, \"header\": {\"fill\": {\"color\": \"#C8D4E3\"}, \"line\": {\"color\": \"white\"}}, \"type\": \"table\"}]}, \"layout\": {\"annotationdefaults\": {\"arrowcolor\": \"#2a3f5f\", \"arrowhead\": 0, \"arrowwidth\": 1}, \"coloraxis\": {\"colorbar\": {\"outlinewidth\": 0, \"ticks\": \"\"}}, \"colorscale\": {\"diverging\": [[0, \"#8e0152\"], [0.1, \"#c51b7d\"], [0.2, \"#de77ae\"], [0.3, \"#f1b6da\"], [0.4, \"#fde0ef\"], [0.5, \"#f7f7f7\"], [0.6, \"#e6f5d0\"], [0.7, \"#b8e186\"], [0.8, \"#7fbc41\"], [0.9, \"#4d9221\"], [1, \"#276419\"]], \"sequential\": [[0.0, \"#0d0887\"], [0.1111111111111111, \"#46039f\"], [0.2222222222222222, \"#7201a8\"], [0.3333333333333333, \"#9c179e\"], [0.4444444444444444, \"#bd3786\"], [0.5555555555555556, \"#d8576b\"], [0.6666666666666666, \"#ed7953\"], [0.7777777777777778, \"#fb9f3a\"], [0.8888888888888888, \"#fdca26\"], [1.0, \"#f0f921\"]], \"sequentialminus\": [[0.0, \"#0d0887\"], [0.1111111111111111, \"#46039f\"], [0.2222222222222222, \"#7201a8\"], [0.3333333333333333, \"#9c179e\"], [0.4444444444444444, \"#bd3786\"], [0.5555555555555556, \"#d8576b\"], [0.6666666666666666, \"#ed7953\"], [0.7777777777777778, \"#fb9f3a\"], [0.8888888888888888, \"#fdca26\"], [1.0, \"#f0f921\"]]}, \"colorway\": [\"#636efa\", \"#EF553B\", \"#00cc96\", \"#ab63fa\", \"#FFA15A\", \"#19d3f3\", \"#FF6692\", \"#B6E880\", \"#FF97FF\", \"#FECB52\"], \"font\": {\"color\": \"#2a3f5f\"}, \"geo\": {\"bgcolor\": \"white\", \"lakecolor\": \"white\", \"landcolor\": \"#E5ECF6\", \"showlakes\": true, \"showland\": true, \"subunitcolor\": \"white\"}, \"hoverlabel\": {\"align\": \"left\"}, \"hovermode\": \"closest\", \"mapbox\": {\"style\": \"light\"}, \"paper_bgcolor\": \"white\", \"plot_bgcolor\": \"#E5ECF6\", \"polar\": {\"angularaxis\": {\"gridcolor\": \"white\", \"linecolor\": \"white\", \"ticks\": \"\"}, \"bgcolor\": \"#E5ECF6\", \"radialaxis\": {\"gridcolor\": \"white\", \"linecolor\": \"white\", \"ticks\": \"\"}}, \"scene\": {\"xaxis\": {\"backgroundcolor\": \"#E5ECF6\", \"gridcolor\": \"white\", \"gridwidth\": 2, \"linecolor\": \"white\", \"showbackground\": true, \"ticks\": \"\", \"zerolinecolor\": \"white\"}, \"yaxis\": {\"backgroundcolor\": \"#E5ECF6\", \"gridcolor\": \"white\", \"gridwidth\": 2, \"linecolor\": \"white\", \"showbackground\": true, \"ticks\": \"\", \"zerolinecolor\": \"white\"}, \"zaxis\": {\"backgroundcolor\": \"#E5ECF6\", \"gridcolor\": \"white\", \"gridwidth\": 2, \"linecolor\": \"white\", \"showbackground\": true, \"ticks\": \"\", \"zerolinecolor\": \"white\"}}, \"shapedefaults\": {\"line\": {\"color\": \"#2a3f5f\"}}, \"ternary\": {\"aaxis\": {\"gridcolor\": \"white\", \"linecolor\": \"white\", \"ticks\": \"\"}, \"baxis\": {\"gridcolor\": \"white\", \"linecolor\": \"white\", \"ticks\": \"\"}, \"bgcolor\": \"#E5ECF6\", \"caxis\": {\"gridcolor\": \"white\", \"linecolor\": \"white\", \"ticks\": \"\"}}, \"title\": {\"x\": 0.05}, \"xaxis\": {\"automargin\": true, \"gridcolor\": \"white\", \"linecolor\": \"white\", \"ticks\": \"\", \"title\": {\"standoff\": 15}, \"zerolinecolor\": \"white\", \"zerolinewidth\": 2}, \"yaxis\": {\"automargin\": true, \"gridcolor\": \"white\", \"linecolor\": \"white\", \"ticks\": \"\", \"title\": {\"standoff\": 15}, \"zerolinecolor\": \"white\", \"zerolinewidth\": 2}}}, \"title\": {\"text\": \"Distribui\\u00e7\\u00e3o Contagem de Palavras\"}, \"width\": 800, \"xaxis\": {\"title\": {\"text\": \"Qtd. palavras\"}}, \"yaxis\": {\"title\": {\"text\": \"Frequ\\u00eancia\"}}},\n",
              "                        {\"responsive\": true}\n",
              "                    ).then(function(){\n",
              "                            \n",
              "var gd = document.getElementById('477a4942-da27-449e-bd0a-36ed86a4b77d');\n",
              "var x = new MutationObserver(function (mutations, observer) {{\n",
              "        var display = window.getComputedStyle(gd).display;\n",
              "        if (!display || display === 'none') {{\n",
              "            console.log([gd, 'removed!']);\n",
              "            Plotly.purge(gd);\n",
              "            observer.disconnect();\n",
              "        }}\n",
              "}});\n",
              "\n",
              "// Listen for the removal of the full notebook cells\n",
              "var notebookContainer = gd.closest('#notebook-container');\n",
              "if (notebookContainer) {{\n",
              "    x.observe(notebookContainer, {childList: true});\n",
              "}}\n",
              "\n",
              "// Listen for the clearing of the current output cell\n",
              "var outputEl = gd.closest('.output');\n",
              "if (outputEl) {{\n",
              "    x.observe(outputEl, {childList: true});\n",
              "}}\n",
              "\n",
              "                        })\n",
              "                };\n",
              "                \n",
              "            </script>\n",
              "        </div>\n",
              "</body>\n",
              "</html>"
            ]
          },
          "metadata": {},
          "output_type": "display_data"
        }
      ],
      "source": [
        "# Compara distribuições de acordo com categoria:\n",
        "hist = go.Figure()\n",
        "hist.add_trace(go.Histogram(x=s_not_sarc, name=\"Não Sarcástico\"))\n",
        "hist.add_trace(go.Histogram(x=s_sarc, name=\"Sarcásticos\"))\n",
        "hist.update_layout(barmode='overlay', \n",
        "                   title = \"Distribuição Contagem de Palavras\",\n",
        "                   width = 800, \n",
        "                   height = 800,\n",
        "                   legend=dict(\n",
        "                       yanchor=\"top\", \n",
        "                       y=0.99, \n",
        "                       xanchor=\"left\",\n",
        "                       x=0.78\n",
        "                   )\n",
        ")\n",
        "hist.update_xaxes(title=\"Qtd. palavras\")\n",
        "hist.update_yaxes(title=\"Frequência\")\n",
        "hist.update_traces(opacity=0.55)\n",
        "hist.show()"
      ]
    },
    {
      "cell_type": "markdown",
      "metadata": {
        "id": "8-Ccd9_LesIi"
      },
      "source": [
        "## Stemming e Lemmatization\n",
        "Na ausência de expressões equivalentes na língua Portuguesa, os processos de 'stemming' e 'lemmatization' vizam a redução das palavras, eliminando suas formas flexivas e/ou derivadas, mantendo seus sentidos e raízes morfológicas.\n",
        "\n",
        "Enquanto o método 'Stemming' procura reduzir a palavra ao seu radical mais básico, o método 'Lemmatization' se utiliza de vocabulário e análise morfológica das palavras.\n",
        "\n",
        "Podemos observar essas diferenças abaixo, na comparação entre as palavras `playing` e `wolves` nos exemplos com as classes `SnowballStemmer` e `WordNetLemmatizer`. "
      ]
    },
    {
      "cell_type": "code",
      "execution_count": 7,
      "metadata": {
        "colab": {
          "base_uri": "https://localhost:8080/"
        },
        "id": "K7_1D7JrTC_0",
        "outputId": "83b2bdbf-66e6-426b-cc17-70e10db0ecf8"
      },
      "outputs": [
        {
          "name": "stdout",
          "output_type": "stream",
          "text": [
            "-- ---- ---- ---- ---- --\n",
            "Snowball Stemmer:\n",
            "The stemmed form of 'playing' is: play\n",
            "The stemmed form of 'played' is: play\n",
            "The stemmed for of 'wolves' is: wolv\n",
            "-- -- -- -- -- -- \n",
            "Word Lemmatizer:\n",
            "The lemmatized form of 'playing': playing\n",
            "The lemmatized form of 'wolves': wolf\n",
            "The lemmatized form of 'leaves': leaf\n",
            "-- ---- ---- ---- ---- --\n"
          ]
        }
      ],
      "source": [
        "# Stemming:\n",
        "import nltk\n",
        "nltk.download('wordnet', quiet=True)\n",
        "from nltk.stem import WordNetLemmatizer\n",
        "stemmer = nltk.stem.SnowballStemmer(\"english\")\n",
        "wlm = nltk.wordnet.WordNetLemmatizer()\n",
        "\n",
        "print(\"-- --\"*5)\n",
        "print(\"Snowball Stemmer:\")\n",
        "print(\"The stemmed form of 'playing' is: {}\".format(stemmer.stem(\"playing\")))\n",
        "print(\"The stemmed form of 'played' is: {}\".format(stemmer.stem(\"played\")))\n",
        "print(\"The stemmed for of 'wolves' is: {}\".format(stemmer.stem(\"wolves\")))\n",
        "print(\"-- \"*6)\n",
        "print(\"Word Lemmatizer:\")\n",
        "print(\"The lemmatized form of 'playing': {}\".format(wlm.lemmatize(\"playing\")))\n",
        "print(\"The lemmatized form of 'wolves': {}\".format(wlm.lemmatize(\"wolves\")))\n",
        "print(\"The lemmatized form of 'leaves': {}\".format(wlm.lemmatize(\"leaves\")))\n",
        "print(\"-- --\"*5)\n"
      ]
    },
    {
      "cell_type": "markdown",
      "metadata": {
        "id": "Wn5d1za4qg6r"
      },
      "source": [
        "O método escolhido para a simplificação do vocabulário do modelo foi o de 'Lemmatization', processando as listas com o `WordNetLemmatizer`. Esse tratamento foi necessário para a composição dos Bigramas e Trigramas, conforme veremos adiante. \n"
      ]
    },
    {
      "cell_type": "markdown",
      "metadata": {
        "id": "6v5aZJxrtPhZ"
      },
      "source": [
        "# Análise de Contexto\n",
        "\n",
        "Para que o processo de vetorização e frequência de termos no texto levasse em consideração, também, o contexto, foram incorporados na matriz TF-IDF '*bigramas*' e '*trigramas*' de palavras. Em síntese, a frequência de combinações de uma, duas ou três palavras em sequência.\n",
        "\n",
        "Essencialmente, buscamos diferenciar contextos em que palavras combinadas produzam um sentido distinto do que se analizadas individualmente. Por exemplo:\n",
        "*   *Climate* (clima)\n",
        "*   *Climate change* (mudanças climáticas)\n",
        "*   *Climate change denial* (negacionismo climático)\n",
        "\n",
        "Conforme apontado acima, submetemos as listas de palavras a um processo de '*Lemmatization*' para simplificar o vocabulário, mantendo seu sentido e morfologia. "
      ]
    },
    {
      "cell_type": "code",
      "execution_count": 8,
      "metadata": {
        "id": "ncfdzAvvkCi7"
      },
      "outputs": [],
      "source": [
        "# Criação de listas para N-Gramas:\n",
        "news = []\n",
        "for entry in range(0, df_news.shape[0]):\n",
        "  head_txt = df_news.headline_clean[entry]\n",
        "  head_txt = head_txt.split(\" \")\n",
        "  news.append(head_txt)\n",
        "\n",
        "\n",
        "# Criação de lista \"lemmatized\":\n",
        "words_lemm = []\n",
        "for batch in news:\n",
        "    list_words = [word for word in batch if word.lower() not in stopwords]\n",
        "    lemm = WordNetLemmatizer()\n",
        "    list_lemm =  [lemm.lemmatize(word) for word in list_words]\n",
        "    words_lemm.append(list_lemm)\n"
      ]
    },
    {
      "cell_type": "markdown",
      "metadata": {
        "id": "BLt6E8YlxXqE"
      },
      "source": [
        "Abaixo são definidas as funções para o tratamento e quebra do texto em `'n_grams'`. Os valores de entrada precisam ser passados como listas para que a função as processe corretamente. Essa estrutura é gerada no bloco anterior de código e passadas para a camada apresentada abaixo."
      ]
    },
    {
      "cell_type": "code",
      "execution_count": 9,
      "metadata": {
        "id": "WbMTJt10qKFF"
      },
      "outputs": [],
      "source": [
        "# Define funções para criação dos N-Gramas:\n",
        "from collections import defaultdict\n",
        "df_words_lemm = pd.DataFrame({'words' : words_lemm})\n",
        "\n",
        "# Função para criação dos n-gramas:\n",
        "\"\"\"\n",
        "# Parâmetros de entrada são:\n",
        "1. text = estrutura tipo 'list' com as palavras.\n",
        "2. n_gram = número de palavras para combinações.\n",
        "\"\"\"\n",
        "def generate_ngrams(text, n_gram=1):\n",
        "  ngrams = zip(*[text[i:] for i in range(n_gram)])\n",
        "  return [\" \".join(ngram) for ngram in ngrams]\n",
        "\n",
        "# Função para criação do dicionário de frequências:\n",
        "\"\"\" \n",
        "Parâmetros são:\n",
        "1. data = dataframe com listas de palavras. \n",
        "2. n_gram = número de combinações. \n",
        "\"\"\"\n",
        "\n",
        "def list_ngrams (data, n_gram=1):\n",
        "  freq_dict = defaultdict(int)\n",
        "  for sent in data:\n",
        "    for word in generate_ngrams(sent,n_gram):\n",
        "      freq_dict[word] += 1\n",
        "  result_df = pd.DataFrame.from_dict(\n",
        "      freq_dict, orient='index').\\\n",
        "      sort_values(by=0, ascending=False)\n",
        "  result_df.reset_index(level=0, inplace=True)\n",
        "  result_df.columns = ['combination', 'frequency']\n",
        "  return (result_df)"
      ]
    },
    {
      "cell_type": "markdown",
      "metadata": {
        "id": "Js0qEMchxzGH"
      },
      "source": [
        "Após a definição das funções, podemos criar os dois conjuntos de 'duas-palavras' e 'três-palavras' para comparar suas frequências. Aqui, não separamos a análise por categorias. Analisamos o texto como um todo, sem distinguir as manchetes \"sarcásticas\" e \"não-sarcásticas\"."
      ]
    },
    {
      "cell_type": "markdown",
      "metadata": {
        "id": "RMDAmdt3zKNx"
      },
      "source": [
        "## Frequências dos N-Gramas:\n",
        "É possível observar que nas frequências mais altas não existe uma diferença substancial de significado entre as combinações de duas e três palavras. \n",
        "\n",
        "Os ranks com as 20 combinações mais frequentes apresetam ocorrências similares. "
      ]
    },
    {
      "cell_type": "code",
      "execution_count": 10,
      "metadata": {
        "colab": {
          "base_uri": "https://localhost:8080/",
          "height": 542
        },
        "id": "Id37Wb7fLcPY",
        "outputId": "a1fe5ed9-e4c2-4511-bbe2-a0bc7e1439a8"
      },
      "outputs": [
        {
          "data": {
            "text/html": [
              "<html>\n",
              "<head><meta charset=\"utf-8\" /></head>\n",
              "<body>\n",
              "    <div>\n",
              "            <script src=\"https://cdnjs.cloudflare.com/ajax/libs/mathjax/2.7.5/MathJax.js?config=TeX-AMS-MML_SVG\"></script><script type=\"text/javascript\">if (window.MathJax) {MathJax.Hub.Config({SVG: {font: \"STIX-Web\"}});}</script>\n",
              "                <script type=\"text/javascript\">window.PlotlyConfig = {MathJaxConfig: 'local'};</script>\n",
              "        <script src=\"https://cdn.plot.ly/plotly-latest.min.js\"></script>    \n",
              "            <div id=\"e058ccb6-4084-4b7c-b50c-edbc3ade556c\" class=\"plotly-graph-div\" style=\"height:525px; width:1000px;\"></div>\n",
              "            <script type=\"text/javascript\">\n",
              "                \n",
              "                    window.PLOTLYENV=window.PLOTLYENV || {};\n",
              "                    \n",
              "                if (document.getElementById(\"e058ccb6-4084-4b7c-b50c-edbc3ade556c\")) {\n",
              "                    Plotly.newPlot(\n",
              "                        'e058ccb6-4084-4b7c-b50c-edbc3ade556c',\n",
              "                        [{\"alignmentgroup\": \"True\", \"hoverlabel\": {\"namelength\": 0}, \"hovertemplate\": \"Frequ\\u00eancia=%{marker.color}<br>Combina\\u00e7\\u00e3o=%{y}\", \"legendgroup\": \"\", \"marker\": {\"color\": [50, 56, 56, 56, 59, 61, 67, 68, 70, 71, 76, 79, 82, 120, 131, 133, 179, 212, 263, 463], \"coloraxis\": \"coloraxis\"}, \"name\": \"\", \"offsetgroup\": \"\", \"orientation\": \"h\", \"showlegend\": false, \"textposition\": \"auto\", \"type\": \"bar\", \"x\": [50, 56, 56, 56, 59, 61, 67, 68, 70, 71, 76, 79, 82, 120, 131, 133, 179, 212, 263, 463], \"xaxis\": \"x\", \"y\": [\"paul ryan\", \"look like\", \"need know\", \"morning email\", \"unveils new\", \"ted cruz\", \"north korea\", \"health care\", \"introduces new\", \"pope francis\", \"climate change\", \"high school\", \"bernie sander\", \"supreme court\", \"study find\", \"new york\", \"hillary clinton\", \"white house\", \"area man\", \"donald trump\"], \"yaxis\": \"y\"}],\n",
              "                        {\"barmode\": \"relative\", \"coloraxis\": {\"colorbar\": {\"title\": {\"text\": \"Frequ\\u00eancia\"}}, \"colorscale\": [[0.0, \"#440154\"], [0.1111111111111111, \"#482878\"], [0.2222222222222222, \"#3e4989\"], [0.3333333333333333, \"#31688e\"], [0.4444444444444444, \"#26828e\"], [0.5555555555555556, \"#1f9e89\"], [0.6666666666666666, \"#35b779\"], [0.7777777777777778, \"#6ece58\"], [0.8888888888888888, \"#b5de2b\"], [1.0, \"#fde725\"]]}, \"legend\": {\"tracegroupgap\": 0}, \"template\": {\"data\": {\"bar\": [{\"error_x\": {\"color\": \"#2a3f5f\"}, \"error_y\": {\"color\": \"#2a3f5f\"}, \"marker\": {\"line\": {\"color\": \"#E5ECF6\", \"width\": 0.5}}, \"type\": \"bar\"}], \"barpolar\": [{\"marker\": {\"line\": {\"color\": \"#E5ECF6\", \"width\": 0.5}}, \"type\": \"barpolar\"}], \"carpet\": [{\"aaxis\": {\"endlinecolor\": \"#2a3f5f\", \"gridcolor\": \"white\", \"linecolor\": \"white\", \"minorgridcolor\": \"white\", \"startlinecolor\": \"#2a3f5f\"}, \"baxis\": {\"endlinecolor\": \"#2a3f5f\", \"gridcolor\": \"white\", \"linecolor\": \"white\", \"minorgridcolor\": \"white\", \"startlinecolor\": \"#2a3f5f\"}, \"type\": \"carpet\"}], \"choropleth\": [{\"colorbar\": {\"outlinewidth\": 0, \"ticks\": \"\"}, \"type\": \"choropleth\"}], \"contour\": [{\"colorbar\": {\"outlinewidth\": 0, \"ticks\": \"\"}, \"colorscale\": [[0.0, \"#0d0887\"], [0.1111111111111111, \"#46039f\"], [0.2222222222222222, \"#7201a8\"], [0.3333333333333333, \"#9c179e\"], [0.4444444444444444, \"#bd3786\"], [0.5555555555555556, \"#d8576b\"], [0.6666666666666666, \"#ed7953\"], [0.7777777777777778, \"#fb9f3a\"], [0.8888888888888888, \"#fdca26\"], [1.0, \"#f0f921\"]], \"type\": \"contour\"}], \"contourcarpet\": [{\"colorbar\": {\"outlinewidth\": 0, \"ticks\": \"\"}, \"type\": \"contourcarpet\"}], \"heatmap\": [{\"colorbar\": {\"outlinewidth\": 0, \"ticks\": \"\"}, \"colorscale\": [[0.0, \"#0d0887\"], [0.1111111111111111, \"#46039f\"], [0.2222222222222222, \"#7201a8\"], [0.3333333333333333, \"#9c179e\"], [0.4444444444444444, \"#bd3786\"], [0.5555555555555556, \"#d8576b\"], [0.6666666666666666, \"#ed7953\"], [0.7777777777777778, \"#fb9f3a\"], [0.8888888888888888, \"#fdca26\"], [1.0, \"#f0f921\"]], \"type\": \"heatmap\"}], \"heatmapgl\": [{\"colorbar\": {\"outlinewidth\": 0, \"ticks\": \"\"}, \"colorscale\": [[0.0, \"#0d0887\"], [0.1111111111111111, \"#46039f\"], [0.2222222222222222, \"#7201a8\"], [0.3333333333333333, \"#9c179e\"], [0.4444444444444444, \"#bd3786\"], [0.5555555555555556, \"#d8576b\"], [0.6666666666666666, \"#ed7953\"], [0.7777777777777778, \"#fb9f3a\"], [0.8888888888888888, \"#fdca26\"], [1.0, \"#f0f921\"]], \"type\": \"heatmapgl\"}], \"histogram\": [{\"marker\": {\"colorbar\": {\"outlinewidth\": 0, \"ticks\": \"\"}}, \"type\": \"histogram\"}], \"histogram2d\": [{\"colorbar\": {\"outlinewidth\": 0, \"ticks\": \"\"}, \"colorscale\": [[0.0, \"#0d0887\"], [0.1111111111111111, \"#46039f\"], [0.2222222222222222, \"#7201a8\"], [0.3333333333333333, \"#9c179e\"], [0.4444444444444444, \"#bd3786\"], [0.5555555555555556, \"#d8576b\"], [0.6666666666666666, \"#ed7953\"], [0.7777777777777778, \"#fb9f3a\"], [0.8888888888888888, \"#fdca26\"], [1.0, \"#f0f921\"]], \"type\": \"histogram2d\"}], \"histogram2dcontour\": [{\"colorbar\": {\"outlinewidth\": 0, \"ticks\": \"\"}, \"colorscale\": [[0.0, \"#0d0887\"], [0.1111111111111111, \"#46039f\"], [0.2222222222222222, \"#7201a8\"], [0.3333333333333333, \"#9c179e\"], [0.4444444444444444, \"#bd3786\"], [0.5555555555555556, \"#d8576b\"], [0.6666666666666666, \"#ed7953\"], [0.7777777777777778, \"#fb9f3a\"], [0.8888888888888888, \"#fdca26\"], [1.0, \"#f0f921\"]], \"type\": \"histogram2dcontour\"}], \"mesh3d\": [{\"colorbar\": {\"outlinewidth\": 0, \"ticks\": \"\"}, \"type\": \"mesh3d\"}], \"parcoords\": [{\"line\": {\"colorbar\": {\"outlinewidth\": 0, \"ticks\": \"\"}}, \"type\": \"parcoords\"}], \"pie\": [{\"automargin\": true, \"type\": \"pie\"}], \"scatter\": [{\"marker\": {\"colorbar\": {\"outlinewidth\": 0, \"ticks\": \"\"}}, \"type\": \"scatter\"}], \"scatter3d\": [{\"line\": {\"colorbar\": {\"outlinewidth\": 0, \"ticks\": \"\"}}, \"marker\": {\"colorbar\": {\"outlinewidth\": 0, \"ticks\": \"\"}}, \"type\": \"scatter3d\"}], \"scattercarpet\": [{\"marker\": {\"colorbar\": {\"outlinewidth\": 0, \"ticks\": \"\"}}, \"type\": \"scattercarpet\"}], \"scattergeo\": [{\"marker\": {\"colorbar\": {\"outlinewidth\": 0, \"ticks\": \"\"}}, \"type\": \"scattergeo\"}], \"scattergl\": [{\"marker\": {\"colorbar\": {\"outlinewidth\": 0, \"ticks\": \"\"}}, \"type\": \"scattergl\"}], \"scattermapbox\": [{\"marker\": {\"colorbar\": {\"outlinewidth\": 0, \"ticks\": \"\"}}, \"type\": \"scattermapbox\"}], \"scatterpolar\": [{\"marker\": {\"colorbar\": {\"outlinewidth\": 0, \"ticks\": \"\"}}, \"type\": \"scatterpolar\"}], \"scatterpolargl\": [{\"marker\": {\"colorbar\": {\"outlinewidth\": 0, \"ticks\": \"\"}}, \"type\": \"scatterpolargl\"}], \"scatterternary\": [{\"marker\": {\"colorbar\": {\"outlinewidth\": 0, \"ticks\": \"\"}}, \"type\": \"scatterternary\"}], \"surface\": [{\"colorbar\": {\"outlinewidth\": 0, \"ticks\": \"\"}, \"colorscale\": [[0.0, \"#0d0887\"], [0.1111111111111111, \"#46039f\"], [0.2222222222222222, \"#7201a8\"], [0.3333333333333333, \"#9c179e\"], [0.4444444444444444, \"#bd3786\"], [0.5555555555555556, \"#d8576b\"], [0.6666666666666666, \"#ed7953\"], [0.7777777777777778, \"#fb9f3a\"], [0.8888888888888888, \"#fdca26\"], [1.0, \"#f0f921\"]], \"type\": \"surface\"}], \"table\": [{\"cells\": {\"fill\": {\"color\": \"#EBF0F8\"}, \"line\": {\"color\": \"white\"}}, \"header\": {\"fill\": {\"color\": \"#C8D4E3\"}, \"line\": {\"color\": \"white\"}}, \"type\": \"table\"}]}, \"layout\": {\"annotationdefaults\": {\"arrowcolor\": \"#2a3f5f\", \"arrowhead\": 0, \"arrowwidth\": 1}, \"coloraxis\": {\"colorbar\": {\"outlinewidth\": 0, \"ticks\": \"\"}}, \"colorscale\": {\"diverging\": [[0, \"#8e0152\"], [0.1, \"#c51b7d\"], [0.2, \"#de77ae\"], [0.3, \"#f1b6da\"], [0.4, \"#fde0ef\"], [0.5, \"#f7f7f7\"], [0.6, \"#e6f5d0\"], [0.7, \"#b8e186\"], [0.8, \"#7fbc41\"], [0.9, \"#4d9221\"], [1, \"#276419\"]], \"sequential\": [[0.0, \"#0d0887\"], [0.1111111111111111, \"#46039f\"], [0.2222222222222222, \"#7201a8\"], [0.3333333333333333, \"#9c179e\"], [0.4444444444444444, \"#bd3786\"], [0.5555555555555556, \"#d8576b\"], [0.6666666666666666, \"#ed7953\"], [0.7777777777777778, \"#fb9f3a\"], [0.8888888888888888, \"#fdca26\"], [1.0, \"#f0f921\"]], \"sequentialminus\": [[0.0, \"#0d0887\"], [0.1111111111111111, \"#46039f\"], [0.2222222222222222, \"#7201a8\"], [0.3333333333333333, \"#9c179e\"], [0.4444444444444444, \"#bd3786\"], [0.5555555555555556, \"#d8576b\"], [0.6666666666666666, \"#ed7953\"], [0.7777777777777778, \"#fb9f3a\"], [0.8888888888888888, \"#fdca26\"], [1.0, \"#f0f921\"]]}, \"colorway\": [\"#636efa\", \"#EF553B\", \"#00cc96\", \"#ab63fa\", \"#FFA15A\", \"#19d3f3\", \"#FF6692\", \"#B6E880\", \"#FF97FF\", \"#FECB52\"], \"font\": {\"color\": \"#2a3f5f\"}, \"geo\": {\"bgcolor\": \"white\", \"lakecolor\": \"white\", \"landcolor\": \"#E5ECF6\", \"showlakes\": true, \"showland\": true, \"subunitcolor\": \"white\"}, \"hoverlabel\": {\"align\": \"left\"}, \"hovermode\": \"closest\", \"mapbox\": {\"style\": \"light\"}, \"paper_bgcolor\": \"white\", \"plot_bgcolor\": \"#E5ECF6\", \"polar\": {\"angularaxis\": {\"gridcolor\": \"white\", \"linecolor\": \"white\", \"ticks\": \"\"}, \"bgcolor\": \"#E5ECF6\", \"radialaxis\": {\"gridcolor\": \"white\", \"linecolor\": \"white\", \"ticks\": \"\"}}, \"scene\": {\"xaxis\": {\"backgroundcolor\": \"#E5ECF6\", \"gridcolor\": \"white\", \"gridwidth\": 2, \"linecolor\": \"white\", \"showbackground\": true, \"ticks\": \"\", \"zerolinecolor\": \"white\"}, \"yaxis\": {\"backgroundcolor\": \"#E5ECF6\", \"gridcolor\": \"white\", \"gridwidth\": 2, \"linecolor\": \"white\", \"showbackground\": true, \"ticks\": \"\", \"zerolinecolor\": \"white\"}, \"zaxis\": {\"backgroundcolor\": \"#E5ECF6\", \"gridcolor\": \"white\", \"gridwidth\": 2, \"linecolor\": \"white\", \"showbackground\": true, \"ticks\": \"\", \"zerolinecolor\": \"white\"}}, \"shapedefaults\": {\"line\": {\"color\": \"#2a3f5f\"}}, \"ternary\": {\"aaxis\": {\"gridcolor\": \"white\", \"linecolor\": \"white\", \"ticks\": \"\"}, \"baxis\": {\"gridcolor\": \"white\", \"linecolor\": \"white\", \"ticks\": \"\"}, \"bgcolor\": \"#E5ECF6\", \"caxis\": {\"gridcolor\": \"white\", \"linecolor\": \"white\", \"ticks\": \"\"}}, \"title\": {\"x\": 0.05}, \"xaxis\": {\"automargin\": true, \"gridcolor\": \"white\", \"linecolor\": \"white\", \"ticks\": \"\", \"title\": {\"standoff\": 15}, \"zerolinecolor\": \"white\", \"zerolinewidth\": 2}, \"yaxis\": {\"automargin\": true, \"gridcolor\": \"white\", \"linecolor\": \"white\", \"ticks\": \"\", \"title\": {\"standoff\": 15}, \"zerolinecolor\": \"white\", \"zerolinewidth\": 2}}}, \"title\": {\"text\": \"Frequ\\u00eancias Bigramas\"}, \"width\": 1000, \"xaxis\": {\"anchor\": \"y\", \"domain\": [0.0, 1.0], \"title\": {\"text\": \"Frequ\\u00eancia\"}}, \"yaxis\": {\"anchor\": \"x\", \"domain\": [0.0, 1.0], \"title\": {\"text\": \"Combina\\u00e7\\u00e3o\"}}},\n",
              "                        {\"responsive\": true}\n",
              "                    ).then(function(){\n",
              "                            \n",
              "var gd = document.getElementById('e058ccb6-4084-4b7c-b50c-edbc3ade556c');\n",
              "var x = new MutationObserver(function (mutations, observer) {{\n",
              "        var display = window.getComputedStyle(gd).display;\n",
              "        if (!display || display === 'none') {{\n",
              "            console.log([gd, 'removed!']);\n",
              "            Plotly.purge(gd);\n",
              "            observer.disconnect();\n",
              "        }}\n",
              "}});\n",
              "\n",
              "// Listen for the removal of the full notebook cells\n",
              "var notebookContainer = gd.closest('#notebook-container');\n",
              "if (notebookContainer) {{\n",
              "    x.observe(notebookContainer, {childList: true});\n",
              "}}\n",
              "\n",
              "// Listen for the clearing of the current output cell\n",
              "var outputEl = gd.closest('.output');\n",
              "if (outputEl) {{\n",
              "    x.observe(outputEl, {childList: true});\n",
              "}}\n",
              "\n",
              "                        })\n",
              "                };\n",
              "                \n",
              "            </script>\n",
              "        </div>\n",
              "</body>\n",
              "</html>"
            ]
          },
          "metadata": {},
          "output_type": "display_data"
        }
      ],
      "source": [
        "# Cria datasets para os gráficos:\n",
        "bigrams = list_ngrams(df_words_lemm['words'], 2)\n",
        "trigrams = list_ngrams(df_words_lemm['words'], 3)\n",
        "\n",
        "# Plota Frequências Bigramas:\n",
        "import plotly.express as px\n",
        "\n",
        "px.bar(bigrams.head(20).sort_values(by='frequency', ascending=True), \n",
        "       x='frequency', y='combination', \n",
        "       color='frequency', \n",
        "       orientation='h', width=1000, title=\"Frequências Bigramas\",\n",
        "       color_continuous_scale=px.colors.sequential.Viridis,\n",
        "       labels=dict(frequency=\"Frequência\", combination=\"Combinação\"))"
      ]
    },
    {
      "cell_type": "markdown",
      "metadata": {
        "id": "dh_nRLjpzHnL"
      },
      "source": [
        "Naturalmente, as frequências para os 'trigramas' são menores, mas os contextos similares."
      ]
    },
    {
      "cell_type": "code",
      "execution_count": 11,
      "metadata": {
        "colab": {
          "base_uri": "https://localhost:8080/",
          "height": 542
        },
        "id": "NfTDrnUrPwme",
        "outputId": "eeee6a2f-1245-4569-82a1-281ae0738a9a"
      },
      "outputs": [
        {
          "data": {
            "text/html": [
              "<html>\n",
              "<head><meta charset=\"utf-8\" /></head>\n",
              "<body>\n",
              "    <div>\n",
              "            <script src=\"https://cdnjs.cloudflare.com/ajax/libs/mathjax/2.7.5/MathJax.js?config=TeX-AMS-MML_SVG\"></script><script type=\"text/javascript\">if (window.MathJax) {MathJax.Hub.Config({SVG: {font: \"STIX-Web\"}});}</script>\n",
              "                <script type=\"text/javascript\">window.PlotlyConfig = {MathJaxConfig: 'local'};</script>\n",
              "        <script src=\"https://cdn.plot.ly/plotly-latest.min.js\"></script>    \n",
              "            <div id=\"d24025b0-7c23-4e13-a853-f7bd64256fb9\" class=\"plotly-graph-div\" style=\"height:525px; width:1000px;\"></div>\n",
              "            <script type=\"text/javascript\">\n",
              "                \n",
              "                    window.PLOTLYENV=window.PLOTLYENV || {};\n",
              "                    \n",
              "                if (document.getElementById(\"d24025b0-7c23-4e13-a853-f7bd64256fb9\")) {\n",
              "                    Plotly.newPlot(\n",
              "                        'd24025b0-7c23-4e13-a853-f7bd64256fb9',\n",
              "                        [{\"alignmentgroup\": \"True\", \"hoverlabel\": {\"namelength\": 0}, \"hovertemplate\": \"Frequ\\u00eancia=%{marker.color}<br>Combina\\u00e7\\u00e3o=%{y}\", \"legendgroup\": \"\", \"marker\": {\"color\": [12, 12, 12, 12, 12, 12, 12, 12, 12, 13, 13, 14, 15, 15, 15, 17, 22, 22, 28, 35], \"coloraxis\": \"coloraxis\"}, \"name\": \"\", \"offsetgroup\": \"\", \"orientation\": \"h\", \"showlegend\": false, \"textposition\": \"auto\", \"type\": \"bar\", \"x\": [12, 12, 12, 12, 12, 12, 12, 12, 12, 13, 13, 14, 15, 15, 15, 17, 22, 22, 28, 35], \"xaxis\": \"x\", \"y\": [\"saturday night live\", \"supreme court justice\", \"george w bush\", \"nation regularly happens\", \"say nation regularly\", \"prevent say nation\", \"way prevent say\", \"martin luther king\", \"donald trump jr\", \"everything need know\", \"health care bill\", \"donald trump say\", \"funniest tweet woman\", \"tweet woman week\", \"friday morning email\", \"new york city\", \"huffpost rise need\", \"rise need know\", \"new york time\", \"new study find\"], \"yaxis\": \"y\"}],\n",
              "                        {\"barmode\": \"relative\", \"coloraxis\": {\"colorbar\": {\"title\": {\"text\": \"Frequ\\u00eancia\"}}, \"colorscale\": [[0.0, \"#000004\"], [0.1111111111111111, \"#1b0c41\"], [0.2222222222222222, \"#4a0c6b\"], [0.3333333333333333, \"#781c6d\"], [0.4444444444444444, \"#a52c60\"], [0.5555555555555556, \"#cf4446\"], [0.6666666666666666, \"#ed6925\"], [0.7777777777777778, \"#fb9b06\"], [0.8888888888888888, \"#f7d13d\"], [1.0, \"#fcffa4\"]]}, \"legend\": {\"tracegroupgap\": 0}, \"template\": {\"data\": {\"bar\": [{\"error_x\": {\"color\": \"#2a3f5f\"}, \"error_y\": {\"color\": \"#2a3f5f\"}, \"marker\": {\"line\": {\"color\": \"#E5ECF6\", \"width\": 0.5}}, \"type\": \"bar\"}], \"barpolar\": [{\"marker\": {\"line\": {\"color\": \"#E5ECF6\", \"width\": 0.5}}, \"type\": \"barpolar\"}], \"carpet\": [{\"aaxis\": {\"endlinecolor\": \"#2a3f5f\", \"gridcolor\": \"white\", \"linecolor\": \"white\", \"minorgridcolor\": \"white\", \"startlinecolor\": \"#2a3f5f\"}, \"baxis\": {\"endlinecolor\": \"#2a3f5f\", \"gridcolor\": \"white\", \"linecolor\": \"white\", \"minorgridcolor\": \"white\", \"startlinecolor\": \"#2a3f5f\"}, \"type\": \"carpet\"}], \"choropleth\": [{\"colorbar\": {\"outlinewidth\": 0, \"ticks\": \"\"}, \"type\": \"choropleth\"}], \"contour\": [{\"colorbar\": {\"outlinewidth\": 0, \"ticks\": \"\"}, \"colorscale\": [[0.0, \"#0d0887\"], [0.1111111111111111, \"#46039f\"], [0.2222222222222222, \"#7201a8\"], [0.3333333333333333, \"#9c179e\"], [0.4444444444444444, \"#bd3786\"], [0.5555555555555556, \"#d8576b\"], [0.6666666666666666, \"#ed7953\"], [0.7777777777777778, \"#fb9f3a\"], [0.8888888888888888, \"#fdca26\"], [1.0, \"#f0f921\"]], \"type\": \"contour\"}], \"contourcarpet\": [{\"colorbar\": {\"outlinewidth\": 0, \"ticks\": \"\"}, \"type\": \"contourcarpet\"}], \"heatmap\": [{\"colorbar\": {\"outlinewidth\": 0, \"ticks\": \"\"}, \"colorscale\": [[0.0, \"#0d0887\"], [0.1111111111111111, \"#46039f\"], [0.2222222222222222, \"#7201a8\"], [0.3333333333333333, \"#9c179e\"], [0.4444444444444444, \"#bd3786\"], [0.5555555555555556, \"#d8576b\"], [0.6666666666666666, \"#ed7953\"], [0.7777777777777778, \"#fb9f3a\"], [0.8888888888888888, \"#fdca26\"], [1.0, \"#f0f921\"]], \"type\": \"heatmap\"}], \"heatmapgl\": [{\"colorbar\": {\"outlinewidth\": 0, \"ticks\": \"\"}, \"colorscale\": [[0.0, \"#0d0887\"], [0.1111111111111111, \"#46039f\"], [0.2222222222222222, \"#7201a8\"], [0.3333333333333333, \"#9c179e\"], [0.4444444444444444, \"#bd3786\"], [0.5555555555555556, \"#d8576b\"], [0.6666666666666666, \"#ed7953\"], [0.7777777777777778, \"#fb9f3a\"], [0.8888888888888888, \"#fdca26\"], [1.0, \"#f0f921\"]], \"type\": \"heatmapgl\"}], \"histogram\": [{\"marker\": {\"colorbar\": {\"outlinewidth\": 0, \"ticks\": \"\"}}, \"type\": \"histogram\"}], \"histogram2d\": [{\"colorbar\": {\"outlinewidth\": 0, \"ticks\": \"\"}, \"colorscale\": [[0.0, \"#0d0887\"], [0.1111111111111111, \"#46039f\"], [0.2222222222222222, \"#7201a8\"], [0.3333333333333333, \"#9c179e\"], [0.4444444444444444, \"#bd3786\"], [0.5555555555555556, \"#d8576b\"], [0.6666666666666666, \"#ed7953\"], [0.7777777777777778, \"#fb9f3a\"], [0.8888888888888888, \"#fdca26\"], [1.0, \"#f0f921\"]], \"type\": \"histogram2d\"}], \"histogram2dcontour\": [{\"colorbar\": {\"outlinewidth\": 0, \"ticks\": \"\"}, \"colorscale\": [[0.0, \"#0d0887\"], [0.1111111111111111, \"#46039f\"], [0.2222222222222222, \"#7201a8\"], [0.3333333333333333, \"#9c179e\"], [0.4444444444444444, \"#bd3786\"], [0.5555555555555556, \"#d8576b\"], [0.6666666666666666, \"#ed7953\"], [0.7777777777777778, \"#fb9f3a\"], [0.8888888888888888, \"#fdca26\"], [1.0, \"#f0f921\"]], \"type\": \"histogram2dcontour\"}], \"mesh3d\": [{\"colorbar\": {\"outlinewidth\": 0, \"ticks\": \"\"}, \"type\": \"mesh3d\"}], \"parcoords\": [{\"line\": {\"colorbar\": {\"outlinewidth\": 0, \"ticks\": \"\"}}, \"type\": \"parcoords\"}], \"pie\": [{\"automargin\": true, \"type\": \"pie\"}], \"scatter\": [{\"marker\": {\"colorbar\": {\"outlinewidth\": 0, \"ticks\": \"\"}}, \"type\": \"scatter\"}], \"scatter3d\": [{\"line\": {\"colorbar\": {\"outlinewidth\": 0, \"ticks\": \"\"}}, \"marker\": {\"colorbar\": {\"outlinewidth\": 0, \"ticks\": \"\"}}, \"type\": \"scatter3d\"}], \"scattercarpet\": [{\"marker\": {\"colorbar\": {\"outlinewidth\": 0, \"ticks\": \"\"}}, \"type\": \"scattercarpet\"}], \"scattergeo\": [{\"marker\": {\"colorbar\": {\"outlinewidth\": 0, \"ticks\": \"\"}}, \"type\": \"scattergeo\"}], \"scattergl\": [{\"marker\": {\"colorbar\": {\"outlinewidth\": 0, \"ticks\": \"\"}}, \"type\": \"scattergl\"}], \"scattermapbox\": [{\"marker\": {\"colorbar\": {\"outlinewidth\": 0, \"ticks\": \"\"}}, \"type\": \"scattermapbox\"}], \"scatterpolar\": [{\"marker\": {\"colorbar\": {\"outlinewidth\": 0, \"ticks\": \"\"}}, \"type\": \"scatterpolar\"}], \"scatterpolargl\": [{\"marker\": {\"colorbar\": {\"outlinewidth\": 0, \"ticks\": \"\"}}, \"type\": \"scatterpolargl\"}], \"scatterternary\": [{\"marker\": {\"colorbar\": {\"outlinewidth\": 0, \"ticks\": \"\"}}, \"type\": \"scatterternary\"}], \"surface\": [{\"colorbar\": {\"outlinewidth\": 0, \"ticks\": \"\"}, \"colorscale\": [[0.0, \"#0d0887\"], [0.1111111111111111, \"#46039f\"], [0.2222222222222222, \"#7201a8\"], [0.3333333333333333, \"#9c179e\"], [0.4444444444444444, \"#bd3786\"], [0.5555555555555556, \"#d8576b\"], [0.6666666666666666, \"#ed7953\"], [0.7777777777777778, \"#fb9f3a\"], [0.8888888888888888, \"#fdca26\"], [1.0, \"#f0f921\"]], \"type\": \"surface\"}], \"table\": [{\"cells\": {\"fill\": {\"color\": \"#EBF0F8\"}, \"line\": {\"color\": \"white\"}}, \"header\": {\"fill\": {\"color\": \"#C8D4E3\"}, \"line\": {\"color\": \"white\"}}, \"type\": \"table\"}]}, \"layout\": {\"annotationdefaults\": {\"arrowcolor\": \"#2a3f5f\", \"arrowhead\": 0, \"arrowwidth\": 1}, \"coloraxis\": {\"colorbar\": {\"outlinewidth\": 0, \"ticks\": \"\"}}, \"colorscale\": {\"diverging\": [[0, \"#8e0152\"], [0.1, \"#c51b7d\"], [0.2, \"#de77ae\"], [0.3, \"#f1b6da\"], [0.4, \"#fde0ef\"], [0.5, \"#f7f7f7\"], [0.6, \"#e6f5d0\"], [0.7, \"#b8e186\"], [0.8, \"#7fbc41\"], [0.9, \"#4d9221\"], [1, \"#276419\"]], \"sequential\": [[0.0, \"#0d0887\"], [0.1111111111111111, \"#46039f\"], [0.2222222222222222, \"#7201a8\"], [0.3333333333333333, \"#9c179e\"], [0.4444444444444444, \"#bd3786\"], [0.5555555555555556, \"#d8576b\"], [0.6666666666666666, \"#ed7953\"], [0.7777777777777778, \"#fb9f3a\"], [0.8888888888888888, \"#fdca26\"], [1.0, \"#f0f921\"]], \"sequentialminus\": [[0.0, \"#0d0887\"], [0.1111111111111111, \"#46039f\"], [0.2222222222222222, \"#7201a8\"], [0.3333333333333333, \"#9c179e\"], [0.4444444444444444, \"#bd3786\"], [0.5555555555555556, \"#d8576b\"], [0.6666666666666666, \"#ed7953\"], [0.7777777777777778, \"#fb9f3a\"], [0.8888888888888888, \"#fdca26\"], [1.0, \"#f0f921\"]]}, \"colorway\": [\"#636efa\", \"#EF553B\", \"#00cc96\", \"#ab63fa\", \"#FFA15A\", \"#19d3f3\", \"#FF6692\", \"#B6E880\", \"#FF97FF\", \"#FECB52\"], \"font\": {\"color\": \"#2a3f5f\"}, \"geo\": {\"bgcolor\": \"white\", \"lakecolor\": \"white\", \"landcolor\": \"#E5ECF6\", \"showlakes\": true, \"showland\": true, \"subunitcolor\": \"white\"}, \"hoverlabel\": {\"align\": \"left\"}, \"hovermode\": \"closest\", \"mapbox\": {\"style\": \"light\"}, \"paper_bgcolor\": \"white\", \"plot_bgcolor\": \"#E5ECF6\", \"polar\": {\"angularaxis\": {\"gridcolor\": \"white\", \"linecolor\": \"white\", \"ticks\": \"\"}, \"bgcolor\": \"#E5ECF6\", \"radialaxis\": {\"gridcolor\": \"white\", \"linecolor\": \"white\", \"ticks\": \"\"}}, \"scene\": {\"xaxis\": {\"backgroundcolor\": \"#E5ECF6\", \"gridcolor\": \"white\", \"gridwidth\": 2, \"linecolor\": \"white\", \"showbackground\": true, \"ticks\": \"\", \"zerolinecolor\": \"white\"}, \"yaxis\": {\"backgroundcolor\": \"#E5ECF6\", \"gridcolor\": \"white\", \"gridwidth\": 2, \"linecolor\": \"white\", \"showbackground\": true, \"ticks\": \"\", \"zerolinecolor\": \"white\"}, \"zaxis\": {\"backgroundcolor\": \"#E5ECF6\", \"gridcolor\": \"white\", \"gridwidth\": 2, \"linecolor\": \"white\", \"showbackground\": true, \"ticks\": \"\", \"zerolinecolor\": \"white\"}}, \"shapedefaults\": {\"line\": {\"color\": \"#2a3f5f\"}}, \"ternary\": {\"aaxis\": {\"gridcolor\": \"white\", \"linecolor\": \"white\", \"ticks\": \"\"}, \"baxis\": {\"gridcolor\": \"white\", \"linecolor\": \"white\", \"ticks\": \"\"}, \"bgcolor\": \"#E5ECF6\", \"caxis\": {\"gridcolor\": \"white\", \"linecolor\": \"white\", \"ticks\": \"\"}}, \"title\": {\"x\": 0.05}, \"xaxis\": {\"automargin\": true, \"gridcolor\": \"white\", \"linecolor\": \"white\", \"ticks\": \"\", \"title\": {\"standoff\": 15}, \"zerolinecolor\": \"white\", \"zerolinewidth\": 2}, \"yaxis\": {\"automargin\": true, \"gridcolor\": \"white\", \"linecolor\": \"white\", \"ticks\": \"\", \"title\": {\"standoff\": 15}, \"zerolinecolor\": \"white\", \"zerolinewidth\": 2}}}, \"title\": {\"text\": \"Frequ\\u00eancias Trigramas\"}, \"width\": 1000, \"xaxis\": {\"anchor\": \"y\", \"domain\": [0.0, 1.0], \"title\": {\"text\": \"Frequ\\u00eancia\"}}, \"yaxis\": {\"anchor\": \"x\", \"domain\": [0.0, 1.0], \"title\": {\"text\": \"Combina\\u00e7\\u00e3o\"}}},\n",
              "                        {\"responsive\": true}\n",
              "                    ).then(function(){\n",
              "                            \n",
              "var gd = document.getElementById('d24025b0-7c23-4e13-a853-f7bd64256fb9');\n",
              "var x = new MutationObserver(function (mutations, observer) {{\n",
              "        var display = window.getComputedStyle(gd).display;\n",
              "        if (!display || display === 'none') {{\n",
              "            console.log([gd, 'removed!']);\n",
              "            Plotly.purge(gd);\n",
              "            observer.disconnect();\n",
              "        }}\n",
              "}});\n",
              "\n",
              "// Listen for the removal of the full notebook cells\n",
              "var notebookContainer = gd.closest('#notebook-container');\n",
              "if (notebookContainer) {{\n",
              "    x.observe(notebookContainer, {childList: true});\n",
              "}}\n",
              "\n",
              "// Listen for the clearing of the current output cell\n",
              "var outputEl = gd.closest('.output');\n",
              "if (outputEl) {{\n",
              "    x.observe(outputEl, {childList: true});\n",
              "}}\n",
              "\n",
              "                        })\n",
              "                };\n",
              "                \n",
              "            </script>\n",
              "        </div>\n",
              "</body>\n",
              "</html>"
            ]
          },
          "metadata": {},
          "output_type": "display_data"
        }
      ],
      "source": [
        "# Frequências Trigramas:\n",
        "px.bar(trigrams.head(20).sort_values(by='frequency', ascending=True), \n",
        "       x='frequency', y='combination', \n",
        "       color='frequency', \n",
        "       orientation='h', width=1000, title=\"Frequências Trigramas\",\n",
        "       color_continuous_scale='Inferno',\n",
        "       labels=dict(frequency=\"Frequência\", combination=\"Combinação\"))"
      ]
    },
    {
      "cell_type": "markdown",
      "metadata": {
        "id": "IxfaSXm8PXLV"
      },
      "source": [
        "# Criação dos Modelos\n",
        "O modelo preditivo criado utilizou a matriz de frequência de termos com pesos e foi treinado em uma rede neural com camadas densas. \n",
        "Como já descrito acima, alguns critérios foram estabelecidos para a composição das matrizes esparsas. \n",
        "\n",
        "Nas seções seguintes descrevemos em detalhe essas etapas."
      ]
    },
    {
      "cell_type": "markdown",
      "metadata": {
        "id": "iT6ARv041paU"
      },
      "source": [
        "## Criação da Matriz Esparsa\n",
        "Além das combinações de N-gramas em conjuntos de 'uma', 'duas' ou 'três' palavras, o processo de tokenização e vetorização utilizou também critérios de pesos.\n",
        "Utilizamos o `TfidfVectorizer` para conversão em TF-IDF no lugar do \n",
        "`CountVectorizer`. O objetivo é fazer uma atribuição de pesos às palavras e/ou *n-grama*, ao invés de uma mera atribuição binária de frequências. O TfidfVectorizer atribui pesos de acordo com a frequência das palavras no conjunto de texto, com o intuito de captar melhor o contexto. \n",
        "Na matriz esparsa resultante, quanto mais frequente a palavra ou *n-grama*, menor seu peso no modelo."
      ]
    },
    {
      "cell_type": "code",
      "execution_count": 12,
      "metadata": {
        "id": "EyYumLuNftsh"
      },
      "outputs": [],
      "source": [
        "# Cria a matriz esparsa com vetorização para treino do modelo. \n",
        "from sklearn.feature_extraction.text import TfidfVectorizer\n",
        "from sklearn.feature_selection import SelectKBest, chi2, f_classif, mutual_info_classif\n",
        "\n",
        "\"\"\"\n",
        "O TfidfVectorizer atribui pesos de acordo com a frequência das palavras no\n",
        "conjunto de texto, com o intuito de captar melhor o contexto. \n",
        "Quanto mais frequente a palavra, menor seu peso no modelo.\n",
        "\n",
        "\"\"\"\n",
        "# Instancia a vetorização com uni, bi e trigramas:\n",
        "vectorizer = TfidfVectorizer(\n",
        "    min_df=3, binary=True, \n",
        "    analyzer='word', ngram_range=(1,3), \n",
        "    stop_words='english')\n",
        "\n",
        "unigram_vector = TfidfVectorizer(\n",
        "    min_df=3, binary=True, \n",
        "    analyzer='word', ngram_range=(1,1), \n",
        "    stop_words='english')\n",
        "\n",
        "# Cria as matrizes esparsas:\n",
        "wm_bitrigram = vectorizer.fit_transform(df_news['headline'])\n",
        "# Apenas para comparação\n",
        "wm_unigram = unigram_vector.fit_transform(df_news['headline'])\n",
        "\n"
      ]
    },
    {
      "cell_type": "markdown",
      "metadata": {
        "id": "g676T49f6BZD"
      },
      "source": [
        "Ao comparar os conjuntos de palavras distintas com o conjunto de palavras mais as combinações, pode-se perceber o incremento de elementos no modelo.\n",
        "\n",
        "Em seguida, submetemos o objeto de vetorização da matriz esparsa ao conjunto de dados para a transformação dos termos em pesos. Para isso usamos o método `SelectKBest` da biblioteca de `feature_selection`do `sklearn`. \n",
        "\n",
        "O produto do processo é uma matriz esparsa comprimida com 15.014 colunas e mais de 28.000 linhas."
      ]
    },
    {
      "cell_type": "code",
      "execution_count": 13,
      "metadata": {
        "colab": {
          "base_uri": "https://localhost:8080/"
        },
        "id": "K-H6y9lqxNPr",
        "outputId": "1ebd4a57-86db-4f91-d17c-f3e66ca2bdc7"
      },
      "outputs": [
        {
          "name": "stdout",
          "output_type": "stream",
          "text": [
            "Número de palavras distintas: 10685\n",
            "Número de Tokens (combinações): 15014\n"
          ]
        }
      ],
      "source": [
        "# Tamanho dos conjuntos:\n",
        "print(\"Número de palavras distintas: {}\".format(\n",
        "    len(unigram_vector.get_feature_names()))\n",
        ")\n",
        "print(\"Número de Tokens (combinações): {}\".format(\n",
        "    len(vectorizer.get_feature_names()))\n",
        ")"
      ]
    },
    {
      "cell_type": "code",
      "execution_count": 14,
      "metadata": {
        "colab": {
          "base_uri": "https://localhost:8080/"
        },
        "id": "x7SV-A4CAZTy",
        "outputId": "261b94fc-c6d4-4698-ae27-88539a50841d"
      },
      "outputs": [
        {
          "name": "stdout",
          "output_type": "stream",
          "text": [
            "Matriz esparsa aponta cerca de 203000 elementos.\n"
          ]
        }
      ],
      "source": [
        "# Seleciona número de features a serem incluídas no treinamento:\n",
        "k=len(vectorizer.get_feature_names())\n",
        "\n",
        "selector = SelectKBest(chi2, k=min(k, wm_bitrigram.shape[1]))\n",
        "selector.fit(wm_bitrigram, df_news.is_sarcastic)\n",
        "transformed_texts = selector.transform(wm_bitrigram).astype('float32')\n",
        "\n",
        "# Tamanho da matriz esparsa:\n",
        "print(\"Matriz esparsa aponta cerca de {}\".\\\n",
        "      format(round(\n",
        "          transformed_texts.count_nonzero(),\n",
        "          -3)\n",
        "      ),\n",
        "      \"elementos.\")"
      ]
    },
    {
      "cell_type": "markdown",
      "metadata": {
        "id": "4Waz6Aww-tAE"
      },
      "source": [
        "## Divisão dos dados\n",
        "A seleção do modelo não conta com nenhuma peculiaridade. Divimos os conjuntos de dados de treinamento e validação em 80% e 20% da base, respectivamente. \n",
        "Como o conjunto de dados é pequeno para o número de *features* no modelo, procuramos trabalhar com o maior volume possível de dados. "
      ]
    },
    {
      "cell_type": "code",
      "execution_count": 15,
      "metadata": {
        "id": "uREJkwF6Dmwh"
      },
      "outputs": [],
      "source": [
        "# Divide conjuntos de treinamento e teste:\n",
        "from sklearn.model_selection import train_test_split\n",
        "\n",
        "y_values = df_news['is_sarcastic'].values\n",
        "x_train, x_test, y_train, y_test = train_test_split(transformed_texts, y_values, test_size=0.2)"
      ]
    },
    {
      "cell_type": "markdown",
      "metadata": {
        "id": "y2ks8N9G_hPg"
      },
      "source": [
        "## Contrução da Rede Neural\n",
        " \n",
        "A rede neural escolhida foi a de camadas densas, em contra partida a uma rede convolutiva ou de Pooling. Como a saída ou predição é do tipo categórica, ativação final foi do tipo `sigmoid`. \n",
        " \n",
        "Na construção, ou identificação do melhor modelo procuramos testar diversas combinações de:\n",
        "*   Camadas\n",
        "*   Número de Neurons\n",
        "*   Dropouts\n",
        " \n",
        "Para tal interação, uma função básica de construção e teste do modelo foi criada (vide código abaixo para função `create_model`), os resultados de acurácia são armazenados em um dicionário de históricos do processo de *fitting* do modelo (`model_hist`) e outro dicionário com o armazenamento da combinação de parâmetros e resultado da acurácia na validação (`model_accur`). \n",
        " \n",
        "Apenas o número de épocas foi fixado em **15**, para evitar que o processo de testes com os modelos se tornasse muito extenso."
      ]
    },
    {
      "cell_type": "code",
      "execution_count": 16,
      "metadata": {
        "id": "PbFj0WSOwxjO"
      },
      "outputs": [],
      "source": [
        "# Construção da Rede Neural\n",
        "from keras.wrappers.scikit_learn import KerasRegressor\n",
        "from sklearn.model_selection import cross_val_score\n",
        "from keras.models import Sequential\n",
        "from keras.layers import Dense, Dropout\n",
        "from keras.layers import LSTM\n",
        "from keras import optimizers\n",
        "\n",
        "# Máximo de features precisa ser determinado apriori.\n",
        "max_features=min(k, wm_bitrigram.shape[1])\n",
        "\n",
        "if 'model_hist' not in locals():\n",
        "  model_hist = {} # Inicializa dicionário de históricos.\n",
        "if 'max_accur' not in locals():\n",
        "  max_accur = {} # Inicializa dicionario de acurácias\n",
        "if 'max_val_accur' not in locals():\n",
        "  max_val_accur = {}\n",
        "\n",
        "# Função de construção do modelo:\n",
        "def create_model(neurons, epochs, layers=1, dropout=0, \n",
        "                 plot_model=False, # cria gráfico de resultados\n",
        "                 store_hist=False # armazena histórico da validação do modelo.\n",
        "                 ):\n",
        "  model = Sequential()\n",
        "  model.add(Dense(neurons, input_dim=max_features, activation='relu'))\n",
        "  if dropout != 0: # Droput é um argumento opcional.\n",
        "    model.add(Dropout(dropout))\n",
        "  if layers != 1:\n",
        "    if layers > 1:\n",
        "      for i in range(1, layers):\n",
        "        model.add(Dense(neurons, activation='relu'))\n",
        "        if dropout > 0:\n",
        "          model.add(Dropout(dropout))\n",
        "    elif layers < 1:\n",
        "      return(print(\"Invalid number of hidden layers\"))\n",
        "  model.add(Dense(1, activation='sigmoid'))\n",
        "  model.compile(optimizer='rmsprop', loss='binary_crossentropy',\n",
        "                metrics=['accuracy'])\n",
        "  \n",
        "  m_hist = model.fit(x_train,\n",
        "                     y_train,\n",
        "                     batch_size = 1024,\n",
        "                     epochs=epochs,\n",
        "                     verbose=False,\n",
        "                     validation_data = (x_test, y_test)\n",
        "                     ).history\n",
        "\n",
        "  # Plota resultados.\n",
        "  if plot_model:\n",
        "    fig = go.Figure()\n",
        "    fig.add_trace(go.Scatter(x=pd.DataFrame(m_hist).index,\n",
        "                             y=m_hist['accuracy'],\n",
        "                             mode = 'lines', \n",
        "                             name=\"Treino\"))\n",
        "    fig.add_trace(go.Scatter(y=m_hist['val_accuracy'],\n",
        "                             mode='lines', \n",
        "                             name=\"Validação\"))\n",
        "    fig.add_trace(go.Scatter(y=m_hist['loss'],\n",
        "                             mode='lines',\n",
        "                             name='Loss'))\n",
        "    fig.update_layout(title=str(\"Comparação Acurácia Modelo \")+str(neurons),\n",
        "                      yaxis = dict(tick0=0.5, dtick=0.05),\n",
        "                      width = 800,\n",
        "                      height = 800,\n",
        "                      )\n",
        "    fig.show()\n",
        "  # Salva resultados do modelo no dicionário.\n",
        "  if store_hist:\n",
        "    model_hist[str(neurons)+str('n_')+\n",
        "               str(layers)+str('l_')+\n",
        "               str(dropout)+str('d')] = m_hist\n",
        "    # Garbage collection.\n",
        "    del m_hist\n",
        "    del model\n",
        "    return (model_hist.keys())\n",
        "  else:\n",
        "    # Armazena Score no Dicionário de resultados\n",
        "    max_accur[str(neurons)+str('n_')+\n",
        "               str(layers)+str('l_')+\n",
        "               str(dropout)+str('d')] = max(m_hist['accuracy'])\n",
        "    \n",
        "    max_val_accur[str(neurons)+str('n_')+\n",
        "                  str(layers)+str('l_')+\n",
        "                  str(dropout)+str('d')] = max(m_hist['val_accuracy'])\n",
        "    # Garbage collection.\n",
        "    del model\n",
        "    del m_hist\n",
        "    return None\n",
        "  "
      ]
    },
    {
      "cell_type": "markdown",
      "metadata": {
        "id": "W7g5E1wti5p3"
      },
      "source": [
        "### Determinação de hiperparâmetros:\n",
        "Para automatizar o processo de ajuste, testamos diversos parâmetros em combinação e armazenamos o resultado em um indicador. \n",
        "O indicador calcula a composição entre:\n",
        "1.   A melhor acurácia de validação e\n",
        "2.   a menor distância entre a acurácia de treino e a de validação.\n",
        "\n",
        "\n",
        "> *A execução do processo abaixo pode levar entre 20 e 40min.*\n",
        "\n"
      ]
    },
    {
      "cell_type": "code",
      "execution_count": null,
      "metadata": {
        "id": "SlYa8xcSBg5V"
      },
      "outputs": [],
      "source": [
        "# Sequencias de hiper-parâmetros:\n",
        "l_neurons = list(np.arange(2, 21, 1))\n",
        "l_layers = [1, 2, 3]\n",
        "l_dropout = [0.0, 0.2, 0.4, 0.5]\n",
        " \n",
        "# Automatiza os testes com modelos e vários parâmetros:\n",
        "for n in l_neurons:\n",
        "  for l in l_layers:\n",
        "    for d in l_dropout:\n",
        "      create_model(\n",
        "          neurons=n,\n",
        "          epochs=15,\n",
        "          layers=l,\n",
        "          dropout=d\n",
        "          )"
      ]
    },
    {
      "cell_type": "code",
      "execution_count": 18,
      "metadata": {
        "colab": {
          "base_uri": "https://localhost:8080/"
        },
        "id": "MnLVZlfYB_vp",
        "outputId": "24474080-6125-4abc-9aea-fe245f31dedb"
      },
      "outputs": [
        {
          "name": "stdout",
          "output_type": "stream",
          "text": [
            "Modelo com melhor acurácia de treino: 19n_3l_0.0d\n",
            "Modelo com melhor acurácia na validação: 8n_3l_0.0d\n"
          ]
        }
      ],
      "source": [
        "# Parametros do melhor modelo:\n",
        "print(\"Modelo com melhor acurácia de treino: {}\".format(\n",
        "    max(max_accur, key=max_accur.get)\n",
        "    )\n",
        ")\n",
        "\n",
        "print(\"Modelo com melhor acurácia na validação: {}\".format(\n",
        "    max(max_val_accur, key=max_val_accur.get)\n",
        "    )\n",
        ")\n"
      ]
    },
    {
      "cell_type": "markdown",
      "metadata": {
        "id": "1fPE6cftlRdf"
      },
      "source": [
        "### Modelo identificado\n",
        "\n",
        "No exame de hiperparametros o melhor modelo identificado foi obtido pela seguinte composição:\n",
        "*   8 Neurons.\n",
        "*   3 Camadas densas.\n",
        "*   Sem Dropout entre camadas.\n",
        "*   15 épocas de treino.\n",
        "\n",
        "A acurácia obtida foi aproximadamente **80%**, ainda com um grande *overfit* durante o treinamento. \n",
        "\n",
        "O escrutínio da performance do modelo pode ser invocado usando os parametros de projeção no gráfico e armazenamento do histórico, conforme visualizamos abaixo. "
      ]
    },
    {
      "cell_type": "code",
      "execution_count": null,
      "metadata": {
        "id": "PJJsqjh_95p7"
      },
      "outputs": [],
      "source": [
        "# Roda modelo individualmente:\n",
        "create_model(\n",
        "    neurons=8,\n",
        "    epochs=15,\n",
        "    layers=3, \n",
        "    dropout=0,\n",
        "    plot_model=True,\n",
        "    store_hist=True)\n"
      ]
    },
    {
      "cell_type": "markdown",
      "metadata": {
        "id": "xWE3ufSRmx3W"
      },
      "source": [
        "# Teste com novos dados\n",
        "O modelo e dados testados apresentaram dois aspectos problemáticos. Primeiro, a quantidade de *features* identificadas foi muito grande, quando comparada com o tamanho da base de dados. \n",
        "Segundo, os dados em si possuem um vício de origem. As manchetes categorizaddas como sarcásticas e não sarcásticas podem ser inteiramente separadas usando as fontes das matérias: The Onion e HuffPost. \n",
        "\n",
        "Sugerem que a performance do modelo contra dados novos, que não se enquadrem no vocabulário e perfis de escrita nem do The Onion, nem no HuffPost podem ser difíceis de se categorizar. \n",
        "\n",
        "Para testar essa suposição, criou-se um novo conjunto de dados para validação. Os novos dados possuem quatro fontes distintas:\n",
        "\n",
        "*   Novas manchetes \"sarcásticas\" do The Onion. \n",
        "*   Manchetes \"não sarcásticas\" do jornal CNN.\n",
        "*   Um conjunto de sentenças ou ditados \"sarcásticos\" populares sem origem determinada. \n",
        "*   Notícias \"sarcásticas\" inventadas pelos autores deste trabalho. \n",
        "\n",
        "Abaixo visualiza-se a carga do novo conjunto de dados. \n",
        "\n"
      ]
    },
    {
      "cell_type": "code",
      "execution_count": 23,
      "metadata": {
        "colab": {
          "base_uri": "https://localhost:8080/"
        },
        "id": "msreAD9pXY9k",
        "outputId": "2b5edd75-fbd8-427a-bf7d-249abbb27626"
      },
      "outputs": [
        {
          "name": "stdout",
          "output_type": "stream",
          "text": [
            "                                             headline  is_sarcastic    source\n",
            "0   Last night Atlanta Hawks did a excellent job l...             1    custom\n",
            "1      New delta strain causes peak in Covid-19 cases             0    custom\n",
            "2   I feel so miserable without you, it’s almost l...             1    custom\n",
            "3   Sorry for being late. I got caught up enjoying...             1    custom\n",
            "4   There’s someone for everyone, and the person f...             1    custom\n",
            "5   I clapped because it’s finished, not because i...             1    custom\n",
            "6   I’m not saying I hate you. But, I would unplug...             1    custom\n",
            "7   The latest on Afghanistan as US troop withdraw...             0       CNN\n",
            "8        McDonald has run out of milkshakes in the UK             0       CNN\n",
            "9   Anti-mask New York Post requires all of its em...             0       CNN\n",
            "10  Amazon just scored a major win in the battle f...             0       CNN\n",
            "11  Loneliness Most Common Amongst Americans No On...             1  TheOnion\n",
            "12  CDC Warns Going Unvaccinated Not Worth Risk Of...             1  TheOnion\n",
            "13  OnlyFans CEO Admits Decision To Ban Pornograph...             1  TheOnion\n",
            "14  Nervous Biden Rushes Past Intimidating Circle ...             1  TheOnion\n",
            "15  Man Mid-Shower Facing Grim Realization He’ll H...             1  TheOnion\n"
          ]
        }
      ],
      "source": [
        "# Novos dados para teste:\n",
        "newData = {'headline' : ['Last night Atlanta Hawks did a excellent job losing for Chicago Bulls',\n",
        "                         'New delta strain causes peak in Covid-19 cases',\n",
        "                         'I feel so miserable without you, it’s almost like having you here',\n",
        "                         'Sorry for being late. I got caught up enjoying my last few minutes of not being here',\n",
        "                         'There’s someone for everyone, and the person for you is a psychiatrist',\n",
        "                         'I clapped because it’s finished, not because i liked it',\n",
        "                         'I’m not saying I hate you. But, I would unplug you’re life support to charge my phone',\n",
        "                         'The latest on Afghanistan as US troop withdrawal deadline looms',\n",
        "                         'McDonald has run out of milkshakes in the UK',\n",
        "                         'Anti-mask New York Post requires all of its employees to wear masks in latest sign of Murdoch media hypocrisy',\n",
        "                         'Amazon just scored a major win in the battle for India retail market',\n",
        "                         'Loneliness Most Common Amongst Americans No One Wants To Be Around',\n",
        "                         'CDC Warns Going Unvaccinated Not Worth Risk Of Losing Ability To Taste Wings',\n",
        "                         'OnlyFans CEO Admits Decision To Ban Pornography Was Made In Shame-Filled Moment After Orgasm',\n",
        "                         'Nervous Biden Rushes Past Intimidating Circle Of Senators Smoking Weed On Capitol Steps',\n",
        "                         'Man Mid-Shower Facing Grim Realization He’ll Have To Retrieve Face Wash He Left On Sink'],\n",
        "           'is_sarcastic' : [1, 0, 1, 1, 1, 1, 1, 0, 0, 0, 0, 1, 1, 1, 1, 1],\n",
        "           'source' : ['custom', 'custom', 'custom', 'custom', 'custom', 'custom', 'custom', \n",
        "                       'CNN', 'CNN', 'CNN', 'CNN', \n",
        "                       'TheOnion', 'TheOnion', 'TheOnion', 'TheOnion', 'TheOnion']}\n",
        "\n",
        "print(pd.DataFrame(newData))"
      ]
    },
    {
      "cell_type": "markdown",
      "metadata": {
        "id": "T7ARNK7qrteh"
      },
      "source": [
        "Criamos um novo modelo, agora com os dados de toda a base como treinamento e usando os hiperparâmetros previamente identificados. "
      ]
    },
    {
      "cell_type": "code",
      "execution_count": 24,
      "metadata": {
        "id": "LbcDklBCFzyb"
      },
      "outputs": [],
      "source": [
        "# Inicializa a Tokenização e Vetorização dos dados novos. \n",
        "X = vectorizer.transform(newData['headline'])\n",
        "Y = newData['is_sarcastic']"
      ]
    },
    {
      "cell_type": "code",
      "execution_count": 26,
      "metadata": {
        "colab": {
          "base_uri": "https://localhost:8080/"
        },
        "id": "fJILy0HOY_mp",
        "outputId": "e78d98c4-db63-436d-de0e-38cc85ed8271"
      },
      "outputs": [
        {
          "name": "stderr",
          "output_type": "stream",
          "text": [
            "/usr/local/lib/python3.7/dist-packages/tensorflow/python/framework/indexed_slices.py:449: UserWarning:\n",
            "\n",
            "Converting sparse IndexedSlices(IndexedSlices(indices=Tensor(\"gradient_tape/sequential_233/dense_703/embedding_lookup_sparse/Reshape_1:0\", shape=(None,), dtype=int32), values=Tensor(\"gradient_tape/sequential_233/dense_703/embedding_lookup_sparse/Reshape:0\", shape=(None, 8), dtype=float32), dense_shape=Tensor(\"gradient_tape/sequential_233/dense_703/embedding_lookup_sparse/Cast:0\", shape=(2,), dtype=int32))) to a dense Tensor of unknown shape. This may consume a large amount of memory.\n",
            "\n"
          ]
        },
        {
          "data": {
            "text/plain": [
              "<keras.callbacks.History at 0x7f99df452b50>"
            ]
          },
          "execution_count": 26,
          "metadata": {},
          "output_type": "execute_result"
        }
      ],
      "source": [
        "# Cria novo modelo para nova validação:\n",
        "model_new = Sequential()\n",
        "model_new.add(Dense(8, input_dim=max_features, activation='relu'))\n",
        "model_new.add(Dense(8, activation='relu'))\n",
        "model_new.add(Dense(8, activation='relu'))\n",
        "model_new.add(Dense(1, activation='sigmoid'))\n",
        "model_new.compile(optimizer='rmsprop', loss='binary_crossentropy',\n",
        "                  metrics=['accuracy'])\n",
        "# Treina modelo com toda a base:\n",
        "model_new.fit(transformed_texts,\n",
        "               y_values,\n",
        "               batch_size = 1024,\n",
        "               epochs=15,\n",
        "               verbose=False)"
      ]
    },
    {
      "cell_type": "markdown",
      "metadata": {
        "id": "jnC8SqR6v6mo"
      },
      "source": [
        "É possível visualizar nas comparações de classificação com previsões do modelo uma tendência a maior precisão às manchetes do The Onion e as manchetes não-sarcásticas de veículos profissionais de notícias.\n",
        "Entretanto, quando as fontes são de outro perfil, como as frases populares ou notícias inventadas as taxas de acerto variam. "
      ]
    },
    {
      "cell_type": "code",
      "execution_count": 27,
      "metadata": {
        "colab": {
          "base_uri": "https://localhost:8080/",
          "height": 542
        },
        "id": "g0YAI-ATRHj8",
        "outputId": "86a6e1bb-a4b7-4c49-92d8-870d2e7e656c"
      },
      "outputs": [
        {
          "data": {
            "text/html": [
              "<div>\n",
              "<style scoped>\n",
              "    .dataframe tbody tr th:only-of-type {\n",
              "        vertical-align: middle;\n",
              "    }\n",
              "\n",
              "    .dataframe tbody tr th {\n",
              "        vertical-align: top;\n",
              "    }\n",
              "\n",
              "    .dataframe thead th {\n",
              "        text-align: right;\n",
              "    }\n",
              "</style>\n",
              "<table border=\"1\" class=\"dataframe\">\n",
              "  <thead>\n",
              "    <tr style=\"text-align: right;\">\n",
              "      <th></th>\n",
              "      <th>headline</th>\n",
              "      <th>is_sarcastic</th>\n",
              "      <th>source</th>\n",
              "      <th>pred_score</th>\n",
              "      <th>pred_class</th>\n",
              "    </tr>\n",
              "  </thead>\n",
              "  <tbody>\n",
              "    <tr>\n",
              "      <th>0</th>\n",
              "      <td>Last night Atlanta Hawks did a excellent job l...</td>\n",
              "      <td>1</td>\n",
              "      <td>custom</td>\n",
              "      <td>0.068161</td>\n",
              "      <td>0</td>\n",
              "    </tr>\n",
              "    <tr>\n",
              "      <th>1</th>\n",
              "      <td>New delta strain causes peak in Covid-19 cases</td>\n",
              "      <td>0</td>\n",
              "      <td>custom</td>\n",
              "      <td>0.231084</td>\n",
              "      <td>0</td>\n",
              "    </tr>\n",
              "    <tr>\n",
              "      <th>2</th>\n",
              "      <td>I feel so miserable without you, it’s almost l...</td>\n",
              "      <td>1</td>\n",
              "      <td>custom</td>\n",
              "      <td>0.646425</td>\n",
              "      <td>1</td>\n",
              "    </tr>\n",
              "    <tr>\n",
              "      <th>3</th>\n",
              "      <td>Sorry for being late. I got caught up enjoying...</td>\n",
              "      <td>1</td>\n",
              "      <td>custom</td>\n",
              "      <td>0.879568</td>\n",
              "      <td>1</td>\n",
              "    </tr>\n",
              "    <tr>\n",
              "      <th>4</th>\n",
              "      <td>There’s someone for everyone, and the person f...</td>\n",
              "      <td>1</td>\n",
              "      <td>custom</td>\n",
              "      <td>0.860961</td>\n",
              "      <td>1</td>\n",
              "    </tr>\n",
              "    <tr>\n",
              "      <th>5</th>\n",
              "      <td>I clapped because it’s finished, not because i...</td>\n",
              "      <td>1</td>\n",
              "      <td>custom</td>\n",
              "      <td>0.988875</td>\n",
              "      <td>1</td>\n",
              "    </tr>\n",
              "    <tr>\n",
              "      <th>6</th>\n",
              "      <td>I’m not saying I hate you. But, I would unplug...</td>\n",
              "      <td>1</td>\n",
              "      <td>custom</td>\n",
              "      <td>0.072709</td>\n",
              "      <td>0</td>\n",
              "    </tr>\n",
              "    <tr>\n",
              "      <th>7</th>\n",
              "      <td>The latest on Afghanistan as US troop withdraw...</td>\n",
              "      <td>0</td>\n",
              "      <td>CNN</td>\n",
              "      <td>0.146260</td>\n",
              "      <td>0</td>\n",
              "    </tr>\n",
              "    <tr>\n",
              "      <th>8</th>\n",
              "      <td>McDonald has run out of milkshakes in the UK</td>\n",
              "      <td>0</td>\n",
              "      <td>CNN</td>\n",
              "      <td>0.007349</td>\n",
              "      <td>0</td>\n",
              "    </tr>\n",
              "    <tr>\n",
              "      <th>9</th>\n",
              "      <td>Anti-mask New York Post requires all of its em...</td>\n",
              "      <td>0</td>\n",
              "      <td>CNN</td>\n",
              "      <td>0.410350</td>\n",
              "      <td>0</td>\n",
              "    </tr>\n",
              "    <tr>\n",
              "      <th>10</th>\n",
              "      <td>Amazon just scored a major win in the battle f...</td>\n",
              "      <td>0</td>\n",
              "      <td>CNN</td>\n",
              "      <td>0.021662</td>\n",
              "      <td>0</td>\n",
              "    </tr>\n",
              "    <tr>\n",
              "      <th>11</th>\n",
              "      <td>Loneliness Most Common Amongst Americans No On...</td>\n",
              "      <td>1</td>\n",
              "      <td>TheOnion</td>\n",
              "      <td>0.268570</td>\n",
              "      <td>0</td>\n",
              "    </tr>\n",
              "    <tr>\n",
              "      <th>12</th>\n",
              "      <td>CDC Warns Going Unvaccinated Not Worth Risk Of...</td>\n",
              "      <td>1</td>\n",
              "      <td>TheOnion</td>\n",
              "      <td>0.908765</td>\n",
              "      <td>1</td>\n",
              "    </tr>\n",
              "    <tr>\n",
              "      <th>13</th>\n",
              "      <td>OnlyFans CEO Admits Decision To Ban Pornograph...</td>\n",
              "      <td>1</td>\n",
              "      <td>TheOnion</td>\n",
              "      <td>0.979753</td>\n",
              "      <td>1</td>\n",
              "    </tr>\n",
              "    <tr>\n",
              "      <th>14</th>\n",
              "      <td>Nervous Biden Rushes Past Intimidating Circle ...</td>\n",
              "      <td>1</td>\n",
              "      <td>TheOnion</td>\n",
              "      <td>0.990610</td>\n",
              "      <td>1</td>\n",
              "    </tr>\n",
              "    <tr>\n",
              "      <th>15</th>\n",
              "      <td>Man Mid-Shower Facing Grim Realization He’ll H...</td>\n",
              "      <td>1</td>\n",
              "      <td>TheOnion</td>\n",
              "      <td>0.973765</td>\n",
              "      <td>1</td>\n",
              "    </tr>\n",
              "  </tbody>\n",
              "</table>\n",
              "</div>"
            ],
            "text/plain": [
              "                                             headline  ...  pred_class\n",
              "0   Last night Atlanta Hawks did a excellent job l...  ...           0\n",
              "1      New delta strain causes peak in Covid-19 cases  ...           0\n",
              "2   I feel so miserable without you, it’s almost l...  ...           1\n",
              "3   Sorry for being late. I got caught up enjoying...  ...           1\n",
              "4   There’s someone for everyone, and the person f...  ...           1\n",
              "5   I clapped because it’s finished, not because i...  ...           1\n",
              "6   I’m not saying I hate you. But, I would unplug...  ...           0\n",
              "7   The latest on Afghanistan as US troop withdraw...  ...           0\n",
              "8        McDonald has run out of milkshakes in the UK  ...           0\n",
              "9   Anti-mask New York Post requires all of its em...  ...           0\n",
              "10  Amazon just scored a major win in the battle f...  ...           0\n",
              "11  Loneliness Most Common Amongst Americans No On...  ...           0\n",
              "12  CDC Warns Going Unvaccinated Not Worth Risk Of...  ...           1\n",
              "13  OnlyFans CEO Admits Decision To Ban Pornograph...  ...           1\n",
              "14  Nervous Biden Rushes Past Intimidating Circle ...  ...           1\n",
              "15  Man Mid-Shower Facing Grim Realization He’ll H...  ...           1\n",
              "\n",
              "[16 rows x 5 columns]"
            ]
          },
          "execution_count": 27,
          "metadata": {},
          "output_type": "execute_result"
        }
      ],
      "source": [
        "# Executa as classificações baseadas no novo modelo. \n",
        "predictions =  model_new.predict(vectorizer.transform(newData['headline']).sorted_indices())\n",
        "df_results = pd.DataFrame(newData)\n",
        "df_results['pred_score'] = predictions\n",
        "df_results['pred_class'] = np.where(df_results['pred_score']>0.50, 1, 0)\n",
        "df_results"
      ]
    },
    {
      "cell_type": "markdown",
      "metadata": {
        "id": "eYiqmHQcxLU6"
      },
      "source": [
        "# Conclusões:\n",
        "Considerando os desafios técnicos do modelo e os desafios semânticos do uso de sarcasmo em comunicação, o modelo treinado com redes neurais apresentou resultados relativamente satisfatórios. Conforme podemos confirmar abaixo, a avaliação da acurácia com dados novos permaneceu em torno de **80%**. Resultado similar a fase de validação do modelo.\n",
        "\n",
        "Identificamos ainda espaço para melhorias e ajustes na modelagem para se reduzir, sobretudo, o *overfitting* do treino, que permaneceu em tono de 10% conforme as épocas de treinamento aumentavam. Outras possibilidades são a redução do número de *features*, optando por favorecer os conjuntos de bi ou trigramas, no lugar de palavras isoladas. "
      ]
    },
    {
      "cell_type": "code",
      "execution_count": 28,
      "metadata": {
        "colab": {
          "base_uri": "https://localhost:8080/",
          "height": 110
        },
        "id": "bVE69fzBtcvK",
        "outputId": "39817ece-036a-4d6f-9177-0551fac1e1b8"
      },
      "outputs": [
        {
          "data": {
            "text/html": [
              "<div>\n",
              "<style scoped>\n",
              "    .dataframe tbody tr th:only-of-type {\n",
              "        vertical-align: middle;\n",
              "    }\n",
              "\n",
              "    .dataframe tbody tr th {\n",
              "        vertical-align: top;\n",
              "    }\n",
              "\n",
              "    .dataframe thead th {\n",
              "        text-align: right;\n",
              "    }\n",
              "</style>\n",
              "<table border=\"1\" class=\"dataframe\">\n",
              "  <thead>\n",
              "    <tr style=\"text-align: right;\">\n",
              "      <th></th>\n",
              "      <th>Results</th>\n",
              "    </tr>\n",
              "  </thead>\n",
              "  <tbody>\n",
              "    <tr>\n",
              "      <th>loss</th>\n",
              "      <td>0.529867</td>\n",
              "    </tr>\n",
              "    <tr>\n",
              "      <th>accuracy</th>\n",
              "      <td>0.812500</td>\n",
              "    </tr>\n",
              "  </tbody>\n",
              "</table>\n",
              "</div>"
            ],
            "text/plain": [
              "           Results\n",
              "loss      0.529867\n",
              "accuracy  0.812500"
            ]
          },
          "execution_count": 28,
          "metadata": {},
          "output_type": "execute_result"
        }
      ],
      "source": [
        "# Avalia a acurácia contra os dados novos. \n",
        "pd.DataFrame.from_dict(\n",
        "    model_new.evaluate(x=vectorizer.transform(newData['headline']).sorted_indices(),\n",
        "                       y=pd.DataFrame(newData)['is_sarcastic'].values,\n",
        "                       verbose=0,\n",
        "                       return_dict=True),\n",
        "                       orient='index',\n",
        "                       columns=['Results']\n",
        ")"
      ]
    }
  ],
  "metadata": {
    "colab": {
      "collapsed_sections": [],
      "name": "ClassificacaoSarcasmo_v3.ipynb",
      "provenance": []
    },
    "kernelspec": {
      "display_name": "Python 3",
      "name": "python3"
    },
    "language_info": {
      "name": "python"
    }
  },
  "nbformat": 4,
  "nbformat_minor": 0
}
